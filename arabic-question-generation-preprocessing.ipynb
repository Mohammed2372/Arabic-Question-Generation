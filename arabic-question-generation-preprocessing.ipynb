{
 "cells": [
  {
   "cell_type": "markdown",
   "metadata": {
    "id": "IPFBNn2VzRST"
   },
   "source": [
    "# Libraries"
   ]
  },
  {
   "cell_type": "code",
   "execution_count": null,
   "metadata": {
    "id": "8ge5OxtkzRSV",
    "trusted": true
   },
   "outputs": [],
   "source": [
    "import re\n",
    "import ast\n",
    "import torch\n",
    "import tokenizers\n",
    "import numpy as np\n",
    "import pandas as pd\n",
    "from nltk.corpus import stopwords\n",
    "from rouge_score import rouge_scorer\n",
    "from sklearn.metrics import accuracy_score\n",
    "from nltk.translate.bleu_score import sentence_bleu\n",
    "from sklearn.model_selection import train_test_split\n",
    "from transformers import T5ForConditionalGeneration, Trainer, TrainingArguments, AutoTokenizer, T5Tokenizer, MT5ForConditionalGeneration, MT5Tokenizer, EarlyStoppingCallback"
   ]
  },
  {
   "cell_type": "markdown",
   "metadata": {
    "id": "IaqIqnqnzRSX"
   },
   "source": [
    "# Reading Data"
   ]
  },
  {
   "cell_type": "code",
   "execution_count": 71,
   "metadata": {
    "execution": {
     "iopub.execute_input": "2025-02-12T15:15:29.870325Z",
     "iopub.status.busy": "2025-02-12T15:15:29.869961Z",
     "iopub.status.idle": "2025-02-12T15:15:37.325711Z",
     "shell.execute_reply": "2025-02-12T15:15:37.324889Z",
     "shell.execute_reply.started": "2025-02-12T15:15:29.870296Z"
    },
    "id": "7FAZnKzGzRSY",
    "outputId": "50a128ec-8332-4974-b042-82eb801b005c",
    "trusted": true
   },
   "outputs": [
    {
     "name": "stdout",
     "output_type": "stream",
     "text": [
      "squad data loaded\n"
     ]
    }
   ],
   "source": [
    "df_squad = pd.read_excel('/kaggle/input/arabic-squad-data/Arabic-SQuAD.xlsx')\n",
    "print(\"squad data loaded\")\n",
    "# df_arcd = pd.read_excel('ARCD/arcd-train.xlsx')\n",
    "# print(\"arcd data loaded\")\n",
    "# df_tydiqa = pd.read_csv('tydiqa/tydiqa-arabic.csv')\n",
    "# print(\"tydiqa data loaded\")\n",
    "# df_mlqa = pd.read_excel('MLQA/MLQA-dev-context-ar-question-ar.xlsx')\n",
    "# print(\"mlqa data loaded\")"
   ]
  },
  {
   "cell_type": "markdown",
   "metadata": {
    "id": "315bxYxtzRSZ"
   },
   "source": [
    "# Data Overview"
   ]
  },
  {
   "cell_type": "code",
   "execution_count": 72,
   "metadata": {
    "execution": {
     "iopub.execute_input": "2025-02-12T15:15:37.327084Z",
     "iopub.status.busy": "2025-02-12T15:15:37.326731Z",
     "iopub.status.idle": "2025-02-12T15:15:37.336764Z",
     "shell.execute_reply": "2025-02-12T15:15:37.335699Z",
     "shell.execute_reply.started": "2025-02-12T15:15:37.327047Z"
    },
    "id": "iByoB_C6zRSZ",
    "outputId": "bda27410-a09a-4a95-9ee6-c8c6b53ae715",
    "trusted": true
   },
   "outputs": [
    {
     "data": {
      "text/html": [
       "<div>\n",
       "<style scoped>\n",
       "    .dataframe tbody tr th:only-of-type {\n",
       "        vertical-align: middle;\n",
       "    }\n",
       "\n",
       "    .dataframe tbody tr th {\n",
       "        vertical-align: top;\n",
       "    }\n",
       "\n",
       "    .dataframe thead th {\n",
       "        text-align: right;\n",
       "    }\n",
       "</style>\n",
       "<table border=\"1\" class=\"dataframe\">\n",
       "  <thead>\n",
       "    <tr style=\"text-align: right;\">\n",
       "      <th></th>\n",
       "      <th>id</th>\n",
       "      <th>question</th>\n",
       "      <th>context</th>\n",
       "      <th>answers</th>\n",
       "      <th>c_id</th>\n",
       "    </tr>\n",
       "  </thead>\n",
       "  <tbody>\n",
       "    <tr>\n",
       "      <th>0</th>\n",
       "      <td>570bce516b8089140040fa42</td>\n",
       "      <td>ما هو ASCII على أساس؟</td>\n",
       "      <td>يعتمد ASCII أساس ا على الأبجدية الإنجليزية ، و...</td>\n",
       "      <td>[{'text': 'الأبجدية الإنجليزية', 'answer_start...</td>\n",
       "      <td>0</td>\n",
       "    </tr>\n",
       "    <tr>\n",
       "      <th>1</th>\n",
       "      <td>570bce516b8089140040fa43</td>\n",
       "      <td>كم شخصيات محددة موجودة في كود ASCII؟</td>\n",
       "      <td>يعتمد ASCII أساس ا على الأبجدية الإنجليزية ، و...</td>\n",
       "      <td>[{'text': '128 حرف ا محدد', 'answer_start': 58}]</td>\n",
       "      <td>0</td>\n",
       "    </tr>\n",
       "    <tr>\n",
       "      <th>2</th>\n",
       "      <td>570bce516b8089140040fa44</td>\n",
       "      <td>كم عدد أحرف التحكم غير الطباعة؟</td>\n",
       "      <td>يعتمد ASCII أساس ا على الأبجدية الإنجليزية ، و...</td>\n",
       "      <td>[{'text': '33 حرف ا تحكم ا غير الطباعة', 'answ...</td>\n",
       "      <td>0</td>\n",
       "    </tr>\n",
       "    <tr>\n",
       "      <th>3</th>\n",
       "      <td>570bce516b8089140040fa45</td>\n",
       "      <td>كم شخصيات قابلة للطباعة؟</td>\n",
       "      <td>يعتمد ASCII أساس ا على الأبجدية الإنجليزية ، و...</td>\n",
       "      <td>[{'text': '95 حرف ا قابلا للطباعة', 'answer_st...</td>\n",
       "      <td>0</td>\n",
       "    </tr>\n",
       "    <tr>\n",
       "      <th>4</th>\n",
       "      <td>570bce516b8089140040fa46</td>\n",
       "      <td>ما هو الفضاء المعروف أيضا باسم ماذا؟</td>\n",
       "      <td>يعتمد ASCII أساس ا على الأبجدية الإنجليزية ، و...</td>\n",
       "      <td>[{'text': 'رسم ا غير مرئي 223', 'answer_start'...</td>\n",
       "      <td>0</td>\n",
       "    </tr>\n",
       "  </tbody>\n",
       "</table>\n",
       "</div>"
      ],
      "text/plain": [
       "                         id                              question  \\\n",
       "0  570bce516b8089140040fa42                 ما هو ASCII على أساس؟   \n",
       "1  570bce516b8089140040fa43  كم شخصيات محددة موجودة في كود ASCII؟   \n",
       "2  570bce516b8089140040fa44       كم عدد أحرف التحكم غير الطباعة؟   \n",
       "3  570bce516b8089140040fa45              كم شخصيات قابلة للطباعة؟   \n",
       "4  570bce516b8089140040fa46  ما هو الفضاء المعروف أيضا باسم ماذا؟   \n",
       "\n",
       "                                             context  \\\n",
       "0  يعتمد ASCII أساس ا على الأبجدية الإنجليزية ، و...   \n",
       "1  يعتمد ASCII أساس ا على الأبجدية الإنجليزية ، و...   \n",
       "2  يعتمد ASCII أساس ا على الأبجدية الإنجليزية ، و...   \n",
       "3  يعتمد ASCII أساس ا على الأبجدية الإنجليزية ، و...   \n",
       "4  يعتمد ASCII أساس ا على الأبجدية الإنجليزية ، و...   \n",
       "\n",
       "                                             answers  c_id  \n",
       "0  [{'text': 'الأبجدية الإنجليزية', 'answer_start...     0  \n",
       "1   [{'text': '128 حرف ا محدد', 'answer_start': 58}]     0  \n",
       "2  [{'text': '33 حرف ا تحكم ا غير الطباعة', 'answ...     0  \n",
       "3  [{'text': '95 حرف ا قابلا للطباعة', 'answer_st...     0  \n",
       "4  [{'text': 'رسم ا غير مرئي 223', 'answer_start'...     0  "
      ]
     },
     "execution_count": 72,
     "metadata": {},
     "output_type": "execute_result"
    }
   ],
   "source": [
    "df_squad.head()"
   ]
  },
  {
   "cell_type": "code",
   "execution_count": 73,
   "metadata": {
    "execution": {
     "iopub.execute_input": "2025-02-12T15:15:37.338758Z",
     "iopub.status.busy": "2025-02-12T15:15:37.338504Z",
     "iopub.status.idle": "2025-02-12T15:15:37.353409Z",
     "shell.execute_reply": "2025-02-12T15:15:37.352754Z",
     "shell.execute_reply.started": "2025-02-12T15:15:37.338738Z"
    },
    "id": "tIuptDLrzRSa",
    "outputId": "de4e6f5c-ccc8-41ee-8018-3f0ce0421eb6",
    "trusted": true
   },
   "outputs": [
    {
     "data": {
      "text/plain": [
       "(48344, 5)"
      ]
     },
     "execution_count": 73,
     "metadata": {},
     "output_type": "execute_result"
    }
   ],
   "source": [
    "df_squad.shape"
   ]
  },
  {
   "cell_type": "code",
   "execution_count": 80,
   "metadata": {
    "execution": {
     "iopub.execute_input": "2025-02-12T15:15:37.441782Z",
     "iopub.status.busy": "2025-02-12T15:15:37.441566Z",
     "iopub.status.idle": "2025-02-12T15:15:37.477904Z",
     "shell.execute_reply": "2025-02-12T15:15:37.476985Z",
     "shell.execute_reply.started": "2025-02-12T15:15:37.441763Z"
    },
    "id": "z-2IRbewzRSc",
    "outputId": "863caece-798b-465f-9eb3-8a83827df09f",
    "trusted": true
   },
   "outputs": [
    {
     "name": "stdout",
     "output_type": "stream",
     "text": [
      "<class 'pandas.core.frame.DataFrame'>\n",
      "RangeIndex: 48344 entries, 0 to 48343\n",
      "Data columns (total 5 columns):\n",
      " #   Column    Non-Null Count  Dtype \n",
      "---  ------    --------------  ----- \n",
      " 0   id        48344 non-null  object\n",
      " 1   question  48344 non-null  object\n",
      " 2   context   48344 non-null  object\n",
      " 3   answers   48344 non-null  object\n",
      " 4   c_id      48344 non-null  int64 \n",
      "dtypes: int64(1), object(4)\n",
      "memory usage: 1.8+ MB\n"
     ]
    }
   ],
   "source": [
    "df_squad.info()"
   ]
  },
  {
   "cell_type": "markdown",
   "metadata": {
    "id": "s-VmXxyDzRSf"
   },
   "source": [
    "# Removing id column"
   ]
  },
  {
   "cell_type": "code",
   "execution_count": 85,
   "metadata": {
    "execution": {
     "iopub.execute_input": "2025-02-12T15:15:37.537084Z",
     "iopub.status.busy": "2025-02-12T15:15:37.536781Z",
     "iopub.status.idle": "2025-02-12T15:15:37.576225Z",
     "shell.execute_reply": "2025-02-12T15:15:37.575402Z",
     "shell.execute_reply.started": "2025-02-12T15:15:37.537055Z"
    },
    "id": "iIwKct8czRSf",
    "trusted": true
   },
   "outputs": [],
   "source": [
    "df_squad.drop('id', axis=1, inplace=True)"
   ]
  },
  {
   "cell_type": "code",
   "execution_count": 86,
   "metadata": {
    "execution": {
     "iopub.execute_input": "2025-02-12T15:15:37.577594Z",
     "iopub.status.busy": "2025-02-12T15:15:37.577197Z",
     "iopub.status.idle": "2025-02-12T15:15:37.597884Z",
     "shell.execute_reply": "2025-02-12T15:15:37.596896Z",
     "shell.execute_reply.started": "2025-02-12T15:15:37.577560Z"
    },
    "id": "IIKQ7aRRzRSf",
    "outputId": "1cc32bde-586e-41c1-dba4-f1ae5ce403a7",
    "trusted": true
   },
   "outputs": [
    {
     "name": "stdout",
     "output_type": "stream",
     "text": [
      "<class 'pandas.core.frame.DataFrame'>\n",
      "RangeIndex: 48344 entries, 0 to 48343\n",
      "Data columns (total 4 columns):\n",
      " #   Column    Non-Null Count  Dtype \n",
      "---  ------    --------------  ----- \n",
      " 0   question  48344 non-null  object\n",
      " 1   context   48344 non-null  object\n",
      " 2   answers   48344 non-null  object\n",
      " 3   c_id      48344 non-null  int64 \n",
      "dtypes: int64(1), object(3)\n",
      "memory usage: 1.5+ MB\n"
     ]
    }
   ],
   "source": [
    "df_squad.info()"
   ]
  },
  {
   "cell_type": "code",
   "execution_count": 87,
   "metadata": {
    "execution": {
     "iopub.execute_input": "2025-02-12T15:15:37.599245Z",
     "iopub.status.busy": "2025-02-12T15:15:37.598959Z",
     "iopub.status.idle": "2025-02-12T15:15:37.608638Z",
     "shell.execute_reply": "2025-02-12T15:15:37.607859Z",
     "shell.execute_reply.started": "2025-02-12T15:15:37.599224Z"
    },
    "id": "EpwwbP3KzRSg",
    "outputId": "0cd7ef52-46c4-4f16-cd4e-70ec7ec49f68",
    "trusted": true
   },
   "outputs": [
    {
     "data": {
      "text/html": [
       "<div>\n",
       "<style scoped>\n",
       "    .dataframe tbody tr th:only-of-type {\n",
       "        vertical-align: middle;\n",
       "    }\n",
       "\n",
       "    .dataframe tbody tr th {\n",
       "        vertical-align: top;\n",
       "    }\n",
       "\n",
       "    .dataframe thead th {\n",
       "        text-align: right;\n",
       "    }\n",
       "</style>\n",
       "<table border=\"1\" class=\"dataframe\">\n",
       "  <thead>\n",
       "    <tr style=\"text-align: right;\">\n",
       "      <th></th>\n",
       "      <th>question</th>\n",
       "      <th>context</th>\n",
       "      <th>answers</th>\n",
       "      <th>c_id</th>\n",
       "    </tr>\n",
       "  </thead>\n",
       "  <tbody>\n",
       "    <tr>\n",
       "      <th>0</th>\n",
       "      <td>ما هو ASCII على أساس؟</td>\n",
       "      <td>يعتمد ASCII أساس ا على الأبجدية الإنجليزية ، و...</td>\n",
       "      <td>[{'text': 'الأبجدية الإنجليزية', 'answer_start...</td>\n",
       "      <td>0</td>\n",
       "    </tr>\n",
       "    <tr>\n",
       "      <th>1</th>\n",
       "      <td>كم شخصيات محددة موجودة في كود ASCII؟</td>\n",
       "      <td>يعتمد ASCII أساس ا على الأبجدية الإنجليزية ، و...</td>\n",
       "      <td>[{'text': '128 حرف ا محدد', 'answer_start': 58}]</td>\n",
       "      <td>0</td>\n",
       "    </tr>\n",
       "    <tr>\n",
       "      <th>2</th>\n",
       "      <td>كم عدد أحرف التحكم غير الطباعة؟</td>\n",
       "      <td>يعتمد ASCII أساس ا على الأبجدية الإنجليزية ، و...</td>\n",
       "      <td>[{'text': '33 حرف ا تحكم ا غير الطباعة', 'answ...</td>\n",
       "      <td>0</td>\n",
       "    </tr>\n",
       "    <tr>\n",
       "      <th>3</th>\n",
       "      <td>كم شخصيات قابلة للطباعة؟</td>\n",
       "      <td>يعتمد ASCII أساس ا على الأبجدية الإنجليزية ، و...</td>\n",
       "      <td>[{'text': '95 حرف ا قابلا للطباعة', 'answer_st...</td>\n",
       "      <td>0</td>\n",
       "    </tr>\n",
       "    <tr>\n",
       "      <th>4</th>\n",
       "      <td>ما هو الفضاء المعروف أيضا باسم ماذا؟</td>\n",
       "      <td>يعتمد ASCII أساس ا على الأبجدية الإنجليزية ، و...</td>\n",
       "      <td>[{'text': 'رسم ا غير مرئي 223', 'answer_start'...</td>\n",
       "      <td>0</td>\n",
       "    </tr>\n",
       "    <tr>\n",
       "      <th>5</th>\n",
       "      <td>لماذا تم ترميز الرمز بحيث تكون معظم الرموز معًا؟</td>\n",
       "      <td>تم تزيين الرمز نفسه بحيث تكون معظم رموز التحكم...</td>\n",
       "      <td>[{'text': 'لسهولة تحديد الهوية', 'answer_start...</td>\n",
       "      <td>1</td>\n",
       "    </tr>\n",
       "    <tr>\n",
       "      <th>6</th>\n",
       "      <td>كم عدد المراكز في العمودين الأولين؟</td>\n",
       "      <td>تم تزيين الرمز نفسه بحيث تكون معظم رموز التحكم...</td>\n",
       "      <td>[{'text': '32 موضع', 'answer_start': 128}]</td>\n",
       "      <td>1</td>\n",
       "    </tr>\n",
       "    <tr>\n",
       "      <th>7</th>\n",
       "      <td>ما الذي قررت اللجنة أنه مهم؟</td>\n",
       "      <td>تم تزيين الرمز نفسه بحيث تكون معظم رموز التحكم...</td>\n",
       "      <td>[{'text': 'دعم الأحرف الهجائية الكبيرة المكونة...</td>\n",
       "      <td>1</td>\n",
       "    </tr>\n",
       "    <tr>\n",
       "      <th>8</th>\n",
       "      <td>أين كان الحرف ألف يضع في الموقف؟</td>\n",
       "      <td>تم تزيين الرمز نفسه بحيث تكون معظم رموز التحكم...</td>\n",
       "      <td>[{'text': '41hex', 'answer_start': 757}]</td>\n",
       "      <td>1</td>\n",
       "    </tr>\n",
       "    <tr>\n",
       "      <th>9</th>\n",
       "      <td>تم دمج ASCII في ما مجموعة الأحرف الأخرى؟</td>\n",
       "      <td>تم دمج ASCII في مجموعة أحرف ونيكودي كأول 128 ر...</td>\n",
       "      <td>[{'text': 'ونيكودي', 'answer_start': 28}]</td>\n",
       "      <td>2</td>\n",
       "    </tr>\n",
       "  </tbody>\n",
       "</table>\n",
       "</div>"
      ],
      "text/plain": [
       "                                           question  \\\n",
       "0                             ما هو ASCII على أساس؟   \n",
       "1              كم شخصيات محددة موجودة في كود ASCII؟   \n",
       "2                   كم عدد أحرف التحكم غير الطباعة؟   \n",
       "3                          كم شخصيات قابلة للطباعة؟   \n",
       "4              ما هو الفضاء المعروف أيضا باسم ماذا؟   \n",
       "5  لماذا تم ترميز الرمز بحيث تكون معظم الرموز معًا؟   \n",
       "6               كم عدد المراكز في العمودين الأولين؟   \n",
       "7                      ما الذي قررت اللجنة أنه مهم؟   \n",
       "8                  أين كان الحرف ألف يضع في الموقف؟   \n",
       "9          تم دمج ASCII في ما مجموعة الأحرف الأخرى؟   \n",
       "\n",
       "                                             context  \\\n",
       "0  يعتمد ASCII أساس ا على الأبجدية الإنجليزية ، و...   \n",
       "1  يعتمد ASCII أساس ا على الأبجدية الإنجليزية ، و...   \n",
       "2  يعتمد ASCII أساس ا على الأبجدية الإنجليزية ، و...   \n",
       "3  يعتمد ASCII أساس ا على الأبجدية الإنجليزية ، و...   \n",
       "4  يعتمد ASCII أساس ا على الأبجدية الإنجليزية ، و...   \n",
       "5  تم تزيين الرمز نفسه بحيث تكون معظم رموز التحكم...   \n",
       "6  تم تزيين الرمز نفسه بحيث تكون معظم رموز التحكم...   \n",
       "7  تم تزيين الرمز نفسه بحيث تكون معظم رموز التحكم...   \n",
       "8  تم تزيين الرمز نفسه بحيث تكون معظم رموز التحكم...   \n",
       "9  تم دمج ASCII في مجموعة أحرف ونيكودي كأول 128 ر...   \n",
       "\n",
       "                                             answers  c_id  \n",
       "0  [{'text': 'الأبجدية الإنجليزية', 'answer_start...     0  \n",
       "1   [{'text': '128 حرف ا محدد', 'answer_start': 58}]     0  \n",
       "2  [{'text': '33 حرف ا تحكم ا غير الطباعة', 'answ...     0  \n",
       "3  [{'text': '95 حرف ا قابلا للطباعة', 'answer_st...     0  \n",
       "4  [{'text': 'رسم ا غير مرئي 223', 'answer_start'...     0  \n",
       "5  [{'text': 'لسهولة تحديد الهوية', 'answer_start...     1  \n",
       "6         [{'text': '32 موضع', 'answer_start': 128}]     1  \n",
       "7  [{'text': 'دعم الأحرف الهجائية الكبيرة المكونة...     1  \n",
       "8           [{'text': '41hex', 'answer_start': 757}]     1  \n",
       "9          [{'text': 'ونيكودي', 'answer_start': 28}]     2  "
      ]
     },
     "execution_count": 87,
     "metadata": {},
     "output_type": "execute_result"
    }
   ],
   "source": [
    "df_squad.head(10)"
   ]
  },
  {
   "cell_type": "markdown",
   "metadata": {
    "id": "eI0Nbs_GzRSg"
   },
   "source": [
    "# try1"
   ]
  },
  {
   "cell_type": "markdown",
   "metadata": {
    "id": "isOJgXp8zRSg"
   },
   "source": [
    "tried to make something but found out it is the same as the original data"
   ]
  },
  {
   "cell_type": "code",
   "execution_count": 88,
   "metadata": {
    "execution": {
     "iopub.execute_input": "2025-02-12T15:15:37.610009Z",
     "iopub.status.busy": "2025-02-12T15:15:37.609701Z",
     "iopub.status.idle": "2025-02-12T15:15:37.624927Z",
     "shell.execute_reply": "2025-02-12T15:15:37.623989Z",
     "shell.execute_reply.started": "2025-02-12T15:15:37.609979Z"
    },
    "id": "Z1ERJtJ8zRSg",
    "trusted": true
   },
   "outputs": [],
   "source": [
    "# # Assign a unique question_id to each question\n",
    "# df_squad['question_id'] = df_squad.index\n",
    "\n",
    "# # Function to get the context and its associated question_ids\n",
    "# def get_context_question_ids(df):\n",
    "#     grouped = df.groupby('c_id').agg(\n",
    "#         context=('context', 'first'),\n",
    "#         question_ids=('question_id', list)\n",
    "#     ).reset_index()\n",
    "#     return grouped\n",
    "\n",
    "# # Generate the new DataFrame\n",
    "# C_Q_df = get_context_question_ids(df_squad)"
   ]
  },
  {
   "cell_type": "code",
   "execution_count": 89,
   "metadata": {
    "execution": {
     "iopub.execute_input": "2025-02-12T15:15:37.626170Z",
     "iopub.status.busy": "2025-02-12T15:15:37.625839Z",
     "iopub.status.idle": "2025-02-12T15:15:37.639581Z",
     "shell.execute_reply": "2025-02-12T15:15:37.638890Z",
     "shell.execute_reply.started": "2025-02-12T15:15:37.626140Z"
    },
    "id": "EgeV73lPzRSg",
    "trusted": true
   },
   "outputs": [],
   "source": [
    "# C_Q_df.head(15)"
   ]
  },
  {
   "cell_type": "code",
   "execution_count": 90,
   "metadata": {
    "execution": {
     "iopub.execute_input": "2025-02-12T15:15:37.640592Z",
     "iopub.status.busy": "2025-02-12T15:15:37.640354Z",
     "iopub.status.idle": "2025-02-12T15:15:37.656053Z",
     "shell.execute_reply": "2025-02-12T15:15:37.655109Z",
     "shell.execute_reply.started": "2025-02-12T15:15:37.640571Z"
    },
    "id": "eK7ZhM22zRSg",
    "trusted": true
   },
   "outputs": [],
   "source": [
    "# # Create a function to get the assigned questions\n",
    "# def get_assigned_questions(df, c_id):\n",
    "#     filtered = df[df['c_id'] == c_id]\n",
    "#     Q = filtered['question'].tolist()\n",
    "#     A = filtered['answers'].tolist()\n",
    "#     return Q, A\n"
   ]
  },
  {
   "cell_type": "code",
   "execution_count": 91,
   "metadata": {
    "execution": {
     "iopub.execute_input": "2025-02-12T15:15:37.657485Z",
     "iopub.status.busy": "2025-02-12T15:15:37.657117Z",
     "iopub.status.idle": "2025-02-12T15:15:37.671118Z",
     "shell.execute_reply": "2025-02-12T15:15:37.670310Z",
     "shell.execute_reply.started": "2025-02-12T15:15:37.657445Z"
    },
    "id": "OB_1JzM1zRSh",
    "trusted": true
   },
   "outputs": [],
   "source": [
    "# training_data = []\n",
    "\n",
    "# for _, row in C_Q_df.iterrows():\n",
    "#     context = row['context']\n",
    "#     question_ids = row['question_ids']\n",
    "\n",
    "#     # For each question_id in the context, fetch the corresponding question\n",
    "#     for question_id in question_ids:\n",
    "#         question = df_squad.loc[df_squad['question_id'] == question_id, 'question'].values[0]\n",
    "#         training_data.append({\n",
    "#             'context': context,\n",
    "#             'question': question,\n",
    "#             'answers': df_squad.loc[df_squad['question_id'] == question_id, 'answers'].values[0]\n",
    "#         })\n",
    "\n",
    "# training_df = pd.DataFrame(training_data)"
   ]
  },
  {
   "cell_type": "code",
   "execution_count": 92,
   "metadata": {
    "execution": {
     "iopub.execute_input": "2025-02-12T15:15:37.672683Z",
     "iopub.status.busy": "2025-02-12T15:15:37.672330Z",
     "iopub.status.idle": "2025-02-12T15:15:37.688800Z",
     "shell.execute_reply": "2025-02-12T15:15:37.687887Z",
     "shell.execute_reply.started": "2025-02-12T15:15:37.672650Z"
    },
    "id": "0TzXgRpXzRSh",
    "trusted": true
   },
   "outputs": [],
   "source": [
    "# training_df.head(15)"
   ]
  },
  {
   "cell_type": "markdown",
   "metadata": {
    "id": "GiBukvvgzRSh"
   },
   "source": [
    "# Text Preprocessing"
   ]
  },
  {
   "cell_type": "markdown",
   "metadata": {
    "id": "YS61JBV0zRSi"
   },
   "source": [
    "## text cleaning functions"
   ]
  },
  {
   "cell_type": "markdown",
   "metadata": {
    "id": "2DJi0CgszRSi"
   },
   "source": [
    "### Normalization"
   ]
  },
  {
   "cell_type": "code",
   "execution_count": 95,
   "metadata": {
    "execution": {
     "iopub.execute_input": "2025-02-12T15:15:37.727190Z",
     "iopub.status.busy": "2025-02-12T15:15:37.726922Z",
     "iopub.status.idle": "2025-02-12T15:15:37.740874Z",
     "shell.execute_reply": "2025-02-12T15:15:37.740059Z",
     "shell.execute_reply.started": "2025-02-12T15:15:37.727170Z"
    },
    "id": "lvwfEAyzzRSi",
    "trusted": true
   },
   "outputs": [],
   "source": [
    "def remove_diacritics(text):\n",
    "    # remove diacritics from the text as it may confuse the model\n",
    "    return re.sub(r'[\\u0617-\\u061A\\u064B-\\u0652]', '', text)\n"
   ]
  },
  {
   "cell_type": "markdown",
   "metadata": {
    "id": "B2XSIXibzRSi"
   },
   "source": [
    "### Text cleaning"
   ]
  },
  {
   "cell_type": "code",
   "execution_count": 96,
   "metadata": {
    "execution": {
     "iopub.execute_input": "2025-02-12T15:15:37.741900Z",
     "iopub.status.busy": "2025-02-12T15:15:37.741673Z",
     "iopub.status.idle": "2025-02-12T15:15:37.755006Z",
     "shell.execute_reply": "2025-02-12T15:15:37.754291Z",
     "shell.execute_reply.started": "2025-02-12T15:15:37.741881Z"
    },
    "id": "6HtWWoT1zRSi",
    "trusted": true
   },
   "outputs": [],
   "source": [
    "def remove_non_arabic(text):\n",
    "    # Remove non-Arabic characters, keeping essential punctuation\n",
    "    text = re.sub(r'[^\\u0600-\\u06FF\\s؟]', '', text)\n",
    "    return text"
   ]
  },
  {
   "cell_type": "code",
   "execution_count": 97,
   "metadata": {
    "execution": {
     "iopub.execute_input": "2025-02-12T15:15:37.756262Z",
     "iopub.status.busy": "2025-02-12T15:15:37.755962Z",
     "iopub.status.idle": "2025-02-12T15:15:37.769962Z",
     "shell.execute_reply": "2025-02-12T15:15:37.769172Z",
     "shell.execute_reply.started": "2025-02-12T15:15:37.756234Z"
    },
    "id": "knZ3lf88zRSj",
    "trusted": true
   },
   "outputs": [],
   "source": [
    "def remove_punk(text):\n",
    "    # Remove punctuation\n",
    "    arabic_punctuation = r'[،؛؟…!\"#$%&\\'()*+,-./:;<=>@^_`{|}~]'\n",
    "    text = re.sub(arabic_punctuation, '', text)\n",
    "    return text"
   ]
  },
  {
   "cell_type": "code",
   "execution_count": 98,
   "metadata": {
    "execution": {
     "iopub.execute_input": "2025-02-12T15:15:37.770933Z",
     "iopub.status.busy": "2025-02-12T15:15:37.770748Z",
     "iopub.status.idle": "2025-02-12T15:15:37.789923Z",
     "shell.execute_reply": "2025-02-12T15:15:37.789184Z",
     "shell.execute_reply.started": "2025-02-12T15:15:37.770917Z"
    },
    "id": "1DhVVL0ezRSj",
    "trusted": true
   },
   "outputs": [],
   "source": [
    "def remove_extra_spaces(text):\n",
    "    # Remove extra spaces\n",
    "    text = re.sub(r'\\s+', ' ', text).strip()\n",
    "    return text"
   ]
  },
  {
   "cell_type": "code",
   "execution_count": 99,
   "metadata": {
    "execution": {
     "iopub.execute_input": "2025-02-12T15:15:37.791082Z",
     "iopub.status.busy": "2025-02-12T15:15:37.790776Z",
     "iopub.status.idle": "2025-02-12T15:15:37.808749Z",
     "shell.execute_reply": "2025-02-12T15:15:37.807905Z",
     "shell.execute_reply.started": "2025-02-12T15:15:37.791052Z"
    },
    "id": "7_yvYp3DzRSs",
    "trusted": true
   },
   "outputs": [],
   "source": [
    "def remove_alef_variations(text):\n",
    "    text = re.sub(r'[إأٱآ]', 'ا', text)\n",
    "    return text"
   ]
  },
  {
   "cell_type": "markdown",
   "metadata": {
    "id": "v1-ycDy3zRSs"
   },
   "source": [
    "### Handling numbers"
   ]
  },
  {
   "cell_type": "code",
   "execution_count": 100,
   "metadata": {
    "execution": {
     "iopub.execute_input": "2025-02-12T15:15:37.810019Z",
     "iopub.status.busy": "2025-02-12T15:15:37.809691Z",
     "iopub.status.idle": "2025-02-12T15:15:37.824985Z",
     "shell.execute_reply": "2025-02-12T15:15:37.824199Z",
     "shell.execute_reply.started": "2025-02-12T15:15:37.809970Z"
    },
    "id": "5k0FNWKpzRSs",
    "trusted": true
   },
   "outputs": [],
   "source": [
    "def handle_numbers(text, replace_with=None):\n",
    "    if replace_with:\n",
    "        text = re.sub(r'\\d+', replace_with, text)\n",
    "    else:\n",
    "        text = re.sub(r'\\d+', '', text)\n",
    "    return text"
   ]
  },
  {
   "cell_type": "markdown",
   "metadata": {
    "id": "Pdu8GuKzzRSs"
   },
   "source": [
    "## Stop word removal"
   ]
  },
  {
   "cell_type": "code",
   "execution_count": 101,
   "metadata": {
    "execution": {
     "iopub.execute_input": "2025-02-12T15:15:37.826085Z",
     "iopub.status.busy": "2025-02-12T15:15:37.825791Z",
     "iopub.status.idle": "2025-02-12T15:15:37.842522Z",
     "shell.execute_reply": "2025-02-12T15:15:37.841623Z",
     "shell.execute_reply.started": "2025-02-12T15:15:37.826049Z"
    },
    "id": "cBQJdkiBzRSs",
    "outputId": "e06f68c1-d577-4f86-f685-c9b9d7765728",
    "trusted": true
   },
   "outputs": [
    {
     "name": "stdout",
     "output_type": "stream",
     "text": [
      "[nltk_data] Downloading package stopwords to /usr/share/nltk_data...\n",
      "[nltk_data]   Package stopwords is already up-to-date!\n"
     ]
    },
    {
     "data": {
      "text/plain": [
       "True"
      ]
     },
     "execution_count": 101,
     "metadata": {},
     "output_type": "execute_result"
    }
   ],
   "source": [
    "import nltk\n",
    "nltk.download('stopwords')"
   ]
  },
  {
   "cell_type": "code",
   "execution_count": 102,
   "metadata": {
    "execution": {
     "iopub.execute_input": "2025-02-12T15:15:37.843964Z",
     "iopub.status.busy": "2025-02-12T15:15:37.843634Z",
     "iopub.status.idle": "2025-02-12T15:15:37.860255Z",
     "shell.execute_reply": "2025-02-12T15:15:37.859425Z",
     "shell.execute_reply.started": "2025-02-12T15:15:37.843934Z"
    },
    "id": "cBok4gSZzRSt",
    "outputId": "206891f6-326d-48b1-ecd3-5f2d4c39dd0c",
    "trusted": true
   },
   "outputs": [
    {
     "name": "stdout",
     "output_type": "stream",
     "text": [
      "{'كي', 'ماذا', 'خلف', 'أحد', 'ؤ', 'رابع', 'أيضا', 'بضع', 'عن', 'أجمع', 'شين', 'ثالث', 'إياكما', 'بعض', 'كأيّن', 'إلَيْكَ', 'غداة', 'هبّ', 'إلى', 'تلكم', 'ما', 'وإذ', 'ز', 'وَيْ', 'إنا', 'مكانكنّ', 'خامس', 'كأيّ', 'بسّ', 'أجل', 'ا', 'أمد', 'تسعمائة', 'بك', 'نوفمبر', 'جمعة', 'سبعة', 'فمن', 'كلَّا', 'عين', 'ميم', 'تلكما', 'هَذِه', 'أولاء', 'تانِ', 'سبت', 'آنفا', 'وإن', 'مازال', 'ذا', 'يناير', 'هاته', 'عشرة', 'س', 'سبعمائة', 'هَاتانِ', 'له', 'ترك', 'لعل', 'آ', 'ذه', 'لكيلا', 'مهما', 'منها', 'تلقاء', 'تِي', 'دونك', 'أفعل به', 'كأنّ', 'اثني', 'صباح', 'ت', 'أسكن', 'إما', 'ممن', 'حمٌ', 'ماي', 'إليكن', 'أربعمئة', 'كم', 'أفٍّ', 'ليسا', 'ذلكن', 'أم', 'ف', 'منذ', 'بات', 'آناء', 'لسنا', 'خمسين', 'من', 'بعدا', 'ارتدّ', 'حيثما', 'أنّى', 'هَذا', 'هذا', 'أل', 'أنبأ', 'ستة', 'أربعة', 'زعم', 'صاد', 'خ', 'فيفري', 'تي', 'ة', 'اللذان', 'درهم', 'مذ', 'نفس', 'هنا', 'هذه', 'هنالك', 'دولار', 'ذان', 'هلم', 'كليكما', 'بها', 'كلّما', 'أنتم', 'ظاء', 'هما', 'ثمَّ', 'ط', 'مساء', 'خمس', 'ثمانمئة', 'هاكَ', 'آه', 'قرش', 'ثمانية', 'سبع', 'ستمائة', 'أي', 'عاد', 'شَتَّانَ', 'أول', 'ظ', 'سبعمئة', 'حاشا', 'ذواتا', 'ها', 'مكانكما', 'سابع', 'غ', 'لك', 'والذين', 'إياهما', 'إذا', 'لست', 'ك', 'مايو', 'يفعلان', 'ذَيْنِ', 'أف', 'لما', 'عليه', 'الألى', 'والذي', 'واهاً', 'هَؤلاء', 'ثمنمئة', 'أيّان', 'إليكنّ', 'صراحة', 'هل', 'لكنَّ', 'ثمّ', 'نبَّا', 'أصبح', 'كرب', 'بؤسا', 'ليت', 'سقى', 'هن', 'وإذا', 'تفعلان', 'في', 'تسعمئة', 'إياهم', 'أمام', 'بماذا', 'خمسة', 'أوه', 'م', 'ليستا', 'واحد', 'ثمّة', 'لدى', 'كاف', 'سوف', 'كانون', 'ب', 'مليم', 'عَدَسْ', 'صبر', 'سنتيم', 'أبريل', 'إياه', 'علق', 'ج', 'عما', 'حقا', 'كثيرا', 'فضلا', 'زود', 'الذي', 'فلان', 'التي', 'لهما', 'لولا', 'أينما', 'هَيْهات', 'تجاه', 'ذهب', 'لدن', 'حجا', 'تفعلين', 'سبعون', 'خال', 'ثمانين', 'كأنما', 'إلا', 'طالما', 'خلافا', 'رزق', 'شتان', 'إياكن', 'جانفي', 'كذا', 'كليهما', 'أطعم', 'لستما', 'ذِي', 'حين', 'ثلاثون', 'ذي', 'تسعون', 'أنتن', 'هيهات', 'خميس', 'تينك', 'حتى', 'يوليو', 'يونيو', 'أُفٍّ', 'سمعا', 'مئة', 'مارس', 'كل', 'سوى', 'غير', 'غادر', 'اللتيا', 'اللاتي', 'ثلاثة', 'ظنَّ', 'لعلَّ', 'مرّة', 'ثلاثاء', 'كاد', 'بكن', 'ذلك', 'كن', 'سرعان', 'مع', 'فإذا', 'خلا', 'عند', 'بَسْ', 'إياك', 'بهم', 'كلا', 'كيفما', 'حسب', 'بكما', 'هاتين', 'آب', 'وجد', 'ش', 'فوق', 'أمسى', 'بَلْهَ', 'هذان', 'تموز', 'غالبا', 'اخلولق', 'آض', 'رجع', 'هم', 'أولئك', 'أنى', 'أعلم', 'ساء', 'نَّ', 'بما', 'ست', 'طَق', 'يفعلون', 'اثنا', 'إياي', 'اللائي', 'حمو', 'كلاهما', 'مما', 'هاء', 'أى', 'ما برح', 'حبيب', 'إذما', 'هَذِي', 'أين', 'يا', 'ذاك', 'د', 'درى', 'ذانك', 'وهو', 'اللتين', 'عليك', 'ضاد', 'منه', 'آهاً', 'لا', 'باء', 'كى', 'شباط', 'بغتة', 'عشرون', 'سرا', 'هلا', 'هذين', 'اتخذ', 'وهب', 'ثمانون', 'غدا', 'مائة', 'بخ', 'أيلول', 'ى', 'لها', 'معاذ', 'ض', 'ذِه', 'جعل', 'شرع', 'حدَث', 'لمّا', 'رُبَّ', 'قبل', 'آهِ', 'أنتِ', 'مادام', 'اثنان', 'هاتان', 'واو', 'لكنما', 'سبعين', 'زاي', 'جلل', 'طرا', 'أنا', 'لوما', 'شبه', 'ما انفك', 'أوشك', 'لو', 'ثاء', 'ستمئة', 'تارة', 'الألاء', 'بي', 'تاسع', 'ستين', 'هَاتِي', 'لي', 'أخذ', 'ريث', 'فاء', 'ثاني', 'بين', 'جيم', 'صار', 'خمسون', 'لسن', 'عشر', 'آها', 'لبيك', 'هناك', 'بكم', 'لكما', 'عامة', 'فبراير', 'إي', 'فيما', 'ثلاثين', 'هاهنا', 'بطآن', 'لعمر', 'بل', 'أيّ', 'أوت', 'لكن', 'صدقا', 'رأى', 'ذات', 'فإن', 'كما', 'ل', 'قام', 'طفق', 'رويدك', 'ولو', 'هَجْ', 'إنه', 'تحوّل', 'انبرى', 'أيار', 'ستون', 'هو', 'بئس', 'ثلاثمائة', 'ألفى', 'عدا', 'وا', 'ئ', 'به', 'أنتما', 'كان', 'تسع', 'آهٍ', 'حاي', 'اربعون', 'قاف', 'كيت', 'تعلَّم', 'كلما', 'هيت', 'علًّ', 'إذ', 'ذواتي', 'شيكل', 'لكم', 'إليكَ', 'صهْ', 'بيد', 'خمسمائة', 'ظلّ', 'كأين', 'اللذين', 'آمينَ', 'ذلكم', 'فيه', 'أرى', 'أبٌ', 'قطّ', 'ليرة', 'دينار', 'الذين', 'على', 'هذي', 'فيم', 'أصلا', 'أ', 'جميع', 'ن', 'أربعمائة', 'إياكم', 'قاطبة', 'جويلية', 'بنا', 'حيث', 'فلا', 'حيَّ', 'لهن', 'ليسوا', 'أربعاء', 'بخٍ', 'إذاً', 'سادس', 'يمين', 'هَاتِه', 'ديسمبر', 'إى', 'أخو', 'لم', 'ثلاث', 'ثامن', 'ورد', 'حبذا', 'إمّا', 'ي', 'ألا', 'يورو', 'هاتي', 'مافتئ', 'ص', 'نعم', 'لستن', 'تين', 'حمدا', 'حاء', 'إيه', 'أنًّ', 'استحال', 'أكتوبر', 'لكي', 'عل', 'كلتا', 'أخٌ', 'حرى', 'جوان', 'أفريل', 'بهن', 'دال', 'ابتدأ', 'ذ', 'أنت', 'كأي', 'بس', 'اللتان', 'أعطى', 'نحن', 'لن', 'دون', 'أضحى', 'لستم', 'هؤلاء', 'نحو', 'ح', 'علم', 'عسى', 'هكذا', 'نا', 'كيف', 'ذينك', 'ر', 'الآن', 'ذال', 'عشرين', 'إنَّ', 'يوان', 'حادي', 'ثلاثمئة', 'لئن', 'إليكم', 'ته', 'ولكن', 'لنا', 'عدَّ', 'فرادى', 'تسعة', 'هَذَيْنِ', 'متى', 'ثان', 'هَذانِ', 'آي', 'مه', 'ذانِ', 'نيف', 'ليس', 'ذين', 'طاء', 'جير', 'ق', 'أن', 'إذن', 'خاء', 'إن', 'حار', 'أقل', 'نون', 'هاك', 'جنيه', 'لهم', 'ع', 'مكانكم', 'ين', 'مكانَك', 'قلما', 'أما', 'أقبل', 'ولا', 'إياهن', 'هللة', 'ألف', 'حزيران', 'كِخ', 'هي', 'إليك', 'ثم', 'تاء', 'إياها', 'وراءَك', 'كذلك', 'ثمة', 'عاشر', 'انقلب', 'إلّا', 'أو', 'سحقا', 'إنما', 'ليست', 'تانِك', 'طاق', 'كسا', 'هيّا', 'سبتمبر', 'إزاء', 'عيانا', 'غين', 'إيهٍ', 'عجبا', 'ذو', 'ث', 'أيا', 'أمامكَ', 'خبَّر', 'بهما', 'أولالك', 'أمّا', 'أنشأ', 'تبدّل', 'لام', 'ضحوة', 'أغسطس', 'و', 'راح', 'أخبر', 'ثمان', 'بعد', 'بمن', 'ريال', 'أكثر', 'تفعلون', 'مئتان', 'نَخْ', 'كأن', 'أمس', 'شمال', 'وما', 'ذيت', 'راء', 'أوّهْ', 'تلك', 'خاصة', 'شتانَ', 'دواليك', 'اللواتي', 'فيها', 'تخذ', 'ومن', 'هيا', 'أبو', 'عوض', 'اثنين', 'أيها', 'ءَ', 'صبرا', 'آذار', 'نيسان', 'ه', 'فلس', 'فو', 'خمسمئة', 'تعسا', 'حَذارِ', 'لات', 'إيانا', 'تَيْنِ', 'أمامك', 'ما أفعله', 'تشرين', 'قد', 'تحت', 'همزة', 'اربعين', 'لاسيما', 'مثل', 'إليكما', 'بلى', 'صهٍ', 'تسعين', 'سبحان', 'لا سيما', 'أهلا', 'أبدا', 'تِه', 'ّأيّان', 'ذلكما', 'أربع', 'ذوا', 'هَاتَيْنِ', 'ياء', 'سين', 'إحدى', 'ء', 'ثماني', 'وُشْكَانَ', 'هلّا'}\n"
     ]
    }
   ],
   "source": [
    "stop_words = set(stopwords.words('arabic'))\n",
    "print(stop_words)"
   ]
  },
  {
   "cell_type": "code",
   "execution_count": 103,
   "metadata": {
    "execution": {
     "iopub.execute_input": "2025-02-12T15:15:37.861523Z",
     "iopub.status.busy": "2025-02-12T15:15:37.861220Z",
     "iopub.status.idle": "2025-02-12T15:15:37.874877Z",
     "shell.execute_reply": "2025-02-12T15:15:37.873940Z",
     "shell.execute_reply.started": "2025-02-12T15:15:37.861493Z"
    },
    "id": "szDf_BrfzRSt",
    "trusted": true
   },
   "outputs": [],
   "source": [
    "def remove_stop_words(text):\n",
    "    words = text.split()\n",
    "    filtered_words = [word for word in words if word not in stop_words]\n",
    "    return ' '.join(filtered_words)"
   ]
  },
  {
   "cell_type": "markdown",
   "metadata": {
    "id": "tJ_STe_8zRSt"
   },
   "source": [
    "## Sentence splitting"
   ]
  },
  {
   "cell_type": "code",
   "execution_count": 104,
   "metadata": {
    "execution": {
     "iopub.execute_input": "2025-02-12T15:15:37.876206Z",
     "iopub.status.busy": "2025-02-12T15:15:37.875865Z",
     "iopub.status.idle": "2025-02-12T15:15:37.891495Z",
     "shell.execute_reply": "2025-02-12T15:15:37.890562Z",
     "shell.execute_reply.started": "2025-02-12T15:15:37.876184Z"
    },
    "id": "a0rpGyA5zRSt",
    "trusted": true
   },
   "outputs": [],
   "source": [
    "def split_sentences(text):\n",
    "    sentences = re.split(r'[؟.!؟]', text)\n",
    "    # Remove empty sentences and strip spaces\n",
    "    return [sentence.strip() for sentence in sentences if sentence.strip()]"
   ]
  },
  {
   "cell_type": "markdown",
   "metadata": {
    "id": "8yyrLkIzzRSu"
   },
   "source": [
    "## Remove additional spaces between letters"
   ]
  },
  {
   "cell_type": "code",
   "execution_count": 105,
   "metadata": {
    "execution": {
     "iopub.execute_input": "2025-02-12T15:15:37.892979Z",
     "iopub.status.busy": "2025-02-12T15:15:37.892655Z",
     "iopub.status.idle": "2025-02-12T15:15:37.907145Z",
     "shell.execute_reply": "2025-02-12T15:15:37.906275Z",
     "shell.execute_reply.started": "2025-02-12T15:15:37.892950Z"
    },
    "id": "2ZawGGL-zRSu",
    "trusted": true
   },
   "outputs": [],
   "source": [
    "def fix_arabic_spacing(text):\n",
    "    # Reconnect ا to the previous word if it is fully isolated\n",
    "    text = re.sub(r'(\\S)\\s+ا\\s+', r'\\1ا ', text)\n",
    "\n",
    "    # Reconnect أ and ي to the next word if they are fully isolated\n",
    "    text = re.sub(r'\\s+أ\\s+(\\S)', r' أ\\1', text)\n",
    "    text = re.sub(r'\\s+ي\\s+(\\S)', r' ي\\1', text)\n",
    "\n",
    "    # Normalize spaces (remove extra spaces)\n",
    "    text = remove_extra_spaces(text)\n",
    "\n",
    "    return text"
   ]
  },
  {
   "cell_type": "markdown",
   "metadata": {
    "id": "05g7z937zRSu"
   },
   "source": [
    "![image.png](attachment:image.png)"
   ]
  },
  {
   "cell_type": "markdown",
   "metadata": {
    "id": "Hkc0YuGWzRSu"
   },
   "source": [
    "# Tokenization"
   ]
  },
  {
   "cell_type": "code",
   "execution_count": 108,
   "metadata": {
    "execution": {
     "iopub.execute_input": "2025-02-12T15:15:37.938708Z",
     "iopub.status.busy": "2025-02-12T15:15:37.938398Z",
     "iopub.status.idle": "2025-02-12T15:15:41.526307Z",
     "shell.execute_reply": "2025-02-12T15:15:41.525267Z",
     "shell.execute_reply.started": "2025-02-12T15:15:37.938676Z"
    },
    "id": "MJcDbF8BzRSu",
    "outputId": "64ee8059-a8d3-48ba-f745-d58a7c6148e6",
    "trusted": true
   },
   "outputs": [
    {
     "name": "stdout",
     "output_type": "stream",
     "text": [
      "Requirement already satisfied: SentencePiece in /usr/local/lib/python3.10/dist-packages (0.2.0)\n",
      "SentencePiece version: 0.2.0\n"
     ]
    }
   ],
   "source": [
    "!pip install SentencePiece \n",
    "import sentencepiece\n",
    "print(\"SentencePiece version:\", sentencepiece.__version__)"
   ]
  },
  {
   "cell_type": "markdown",
   "metadata": {
    "id": "Cb88BNCJzRSv"
   },
   "source": [
    "### T5 tokenizer try"
   ]
  },
  {
   "cell_type": "code",
   "execution_count": null,
   "metadata": {
    "execution": {
     "iopub.execute_input": "2025-02-12T15:15:41.528060Z",
     "iopub.status.busy": "2025-02-12T15:15:41.527680Z",
     "iopub.status.idle": "2025-02-12T15:15:41.531763Z",
     "shell.execute_reply": "2025-02-12T15:15:41.531039Z",
     "shell.execute_reply.started": "2025-02-12T15:15:41.528025Z"
    },
    "id": "SI9sG0gnzRSv",
    "outputId": "8c562514-cd23-4e11-a71b-495627683db6",
    "trusted": true
   },
   "outputs": [],
   "source": [
    "# Initialize T5 tokenizer\n",
    "tokenizer = T5Tokenizer.from_pretrained(\"mt5-small\")"
   ]
  },
  {
   "cell_type": "code",
   "execution_count": null,
   "metadata": {
    "execution": {
     "iopub.execute_input": "2025-02-12T15:15:41.535034Z",
     "iopub.status.busy": "2025-02-12T15:15:41.534803Z",
     "iopub.status.idle": "2025-02-12T15:15:41.548539Z",
     "shell.execute_reply": "2025-02-12T15:15:41.547681Z",
     "shell.execute_reply.started": "2025-02-12T15:15:41.535014Z"
    },
    "id": "Bi3xYFonzRSv",
    "outputId": "cc07f3cc-3d30-4f5b-eefb-cfcb75ec611d",
    "trusted": true
   },
   "outputs": [],
   "source": [
    "# Example Arabic text\n",
    "text = \"هذا نص تجريبي\"\n",
    "\n",
    "# Tokenize the text\n",
    "encoded = tokenizer.tokenize(text)\n",
    "# encoded = tokenizer.convert_tokens_to_string(encoded)\n",
    "print(\"text after tokenize: \", encoded)\n",
    "\n",
    "# Tokenize the text without padding\n",
    "input_ids = tokenizer.encode(text, max_length=512, truncation=True, padding=False)\n",
    "print(\"Token IDs (no padding):\", input_ids)\n",
    "\n",
    "# Decode token IDs back to text (skip special tokens)\n",
    "decoded_text = tokenizer.decode(input_ids, skip_special_tokens=True)\n",
    "print(\"Decoded Text:\", decoded_text)"
   ]
  },
  {
   "cell_type": "code",
   "execution_count": null,
   "metadata": {
    "execution": {
     "iopub.execute_input": "2025-02-12T15:15:41.550237Z",
     "iopub.status.busy": "2025-02-12T15:15:41.549919Z",
     "iopub.status.idle": "2025-02-12T15:15:41.564219Z",
     "shell.execute_reply": "2025-02-12T15:15:41.563380Z",
     "shell.execute_reply.started": "2025-02-12T15:15:41.550205Z"
    },
    "id": "8yaM0WqHzRSv",
    "outputId": "11af709f-6cde-4356-805c-3678f61b57d0",
    "trusted": true
   },
   "outputs": [],
   "source": [
    "arabic_text = \"هذا نص تجريبي\"\n",
    "tokens = tokenizer.tokenize(arabic_text)\n",
    "print(\"Tokens:\", tokens)\n",
    "\n",
    "# Check if any tokens are unknown\n",
    "unknown_tokens = [token for token in tokens if tokenizer.convert_tokens_to_ids(token) == 3]\n",
    "print(\"Unknown Tokens:\", unknown_tokens)\n",
    "\n",
    "for token in tokens:\n",
    "    token_id = tokenizer.convert_tokens_to_ids(token)\n",
    "    print(f\"Token: {token}, Token ID: {token_id}\")\n",
    "\n",
    "vocab = tokenizer.get_vocab()\n",
    "print(\"Vocabulary Size:\", len(vocab))\n",
    "\n",
    "# Check if some Arabic tokens exist in the vocabulary\n",
    "arabic_tokens = [\"ه\", \"ذا\", \"نص\", \"تجريبي\"]\n",
    "for token in arabic_tokens:\n",
    "    if token in vocab:\n",
    "        print(f\"Token '{token}' found in vocabulary with ID: {vocab[token]}\")\n",
    "    else:\n",
    "        print(f\"Token '{token}' NOT found in vocabulary.\")"
   ]
  },
  {
   "cell_type": "markdown",
   "metadata": {
    "id": "KrE5tQ35zRSw"
   },
   "source": [
    "after trying t5 tokenizer (small), it seems that this model has not trained enough on arabic words, it doesn't recognize it"
   ]
  },
  {
   "cell_type": "markdown",
   "metadata": {
    "id": "5VKqBrGEzRSw"
   },
   "source": [
    "### Compare between MT5 and AraBert"
   ]
  },
  {
   "cell_type": "code",
   "execution_count": null,
   "metadata": {
    "execution": {
     "iopub.execute_input": "2025-02-12T15:15:41.565660Z",
     "iopub.status.busy": "2025-02-12T15:15:41.565358Z",
     "iopub.status.idle": "2025-02-12T15:15:41.579167Z",
     "shell.execute_reply": "2025-02-12T15:15:41.578389Z",
     "shell.execute_reply.started": "2025-02-12T15:15:41.565630Z"
    },
    "id": "7z84MpumzRSw",
    "outputId": "07aaf23b-a3dd-4f46-e7a9-0a88bcfaf26e",
    "trusted": true
   },
   "outputs": [],
   "source": [
    "from transformers import AutoTokenizer,MT5Tokenizer\n",
    "\n",
    "# Initialize AraBERT tokenizer\n",
    "arabert_tokenizer = AutoTokenizer.from_pretrained(\"aubmindlab/bert-base-arabertv2\")\n",
    "t5_mutli_tokenizer = MT5Tokenizer.from_pretrained(\"google/mt5-small\")\n",
    "\n",
    "\n",
    "# Example Arabic text\n",
    "arabic_text = \"هذا نص تجريبي\"\n",
    "\n",
    "# Tokenize the text\n",
    "araber_tokens = arabert_tokenizer.tokenize(arabic_text)\n",
    "t5_tokens = t5_mutli_tokenizer.tokenize(arabic_text)\n",
    "print(\"Arabic Bert Tokens:\", araber_tokens)\n",
    "print(\"T5 Tokens:\", t5_tokens)\n",
    "\n",
    "# Encode the text\n",
    "arabert_input_ids = arabert_tokenizer.encode(arabic_text, max_length=512, truncation=True, padding=False)\n",
    "t5_input_ids = t5_mutli_tokenizer.encode(arabic_text, max_length=512, truncation=True, padding=False)\n",
    "print(\"Arabic Bert Token IDs:\", arabert_input_ids)\n",
    "print(\"T5 Token IDs:\", t5_input_ids)\n",
    "\n",
    "# Decode token IDs back to text\n",
    "arabert_decoded_text = arabert_tokenizer.decode(arabert_input_ids, skip_special_tokens=True)\n",
    "t5_decoded_text = t5_mutli_tokenizer.decode(t5_input_ids, skip_special_tokens=True)\n",
    "print(\"Arabic Bert Decoded Text:\", arabert_decoded_text)\n",
    "print(\"T5 Decoded Text:\", t5_decoded_text)"
   ]
  },
  {
   "cell_type": "markdown",
   "metadata": {
    "id": "i3qciEEtzRSw"
   },
   "source": [
    "both models seems to be good at tokenizing the arabic, but arabic bert is better at tokenizing the words than T5 as it seems from the output"
   ]
  },
  {
   "cell_type": "code",
   "execution_count": null,
   "metadata": {
    "execution": {
     "iopub.execute_input": "2025-02-12T15:15:41.580146Z",
     "iopub.status.busy": "2025-02-12T15:15:41.579879Z",
     "iopub.status.idle": "2025-02-12T15:15:41.596877Z",
     "shell.execute_reply": "2025-02-12T15:15:41.595970Z",
     "shell.execute_reply.started": "2025-02-12T15:15:41.580115Z"
    },
    "id": "BLcu88pszRSw",
    "trusted": true
   },
   "outputs": [],
   "source": [
    "def AraBert_tokenizer(text, max_length=512, padding=\"max_length\", truncation=True):\n",
    "\n",
    "    tokenized_output = tokenizer(\n",
    "        text,\n",
    "        max_length=max_length,\n",
    "        padding=padding,\n",
    "        truncation=truncation,\n",
    "        return_tensors=\"pt\"  # Return PyTorch tensors\n",
    "    )\n",
    "    return tokenized_output"
   ]
  },
  {
   "cell_type": "markdown",
   "metadata": {
    "id": "L4zyBZ9MzRSx"
   },
   "source": [
    "### Selected tokenizer"
   ]
  },
  {
   "cell_type": "code",
   "execution_count": 114,
   "metadata": {
    "execution": {
     "iopub.execute_input": "2025-02-12T15:15:41.597978Z",
     "iopub.status.busy": "2025-02-12T15:15:41.597726Z",
     "iopub.status.idle": "2025-02-12T15:15:42.449362Z",
     "shell.execute_reply": "2025-02-12T15:15:42.448607Z",
     "shell.execute_reply.started": "2025-02-12T15:15:41.597958Z"
    },
    "id": "yuX6yjXDzRSx",
    "trusted": true
   },
   "outputs": [],
   "source": [
    "# tokenizer = MT5Tokenizer.from_pretrained(\"google/mt5-small\")\n",
    "# tokenizer = AutoTokenizer.from_pretrained(\"aubmindlab/bert-base-arabertv2\")\n",
    "# tokenizer = T5Tokenizer.from_pretrained(\"t5-small\")\n",
    "# tokenizer = T5Tokenizer.from_pretrained(\"UBC-NLP/araT5-base\")\n",
    "# tokenizer = AutoTokenizer.from_pretrained(\"aubmindlab/bert-base-arabertv2\")\n",
    "tokenizer = T5Tokenizer.from_pretrained(\"/kaggle/input/arat5-tokenizer/pytorch/default/1\")"
   ]
  },
  {
   "cell_type": "markdown",
   "metadata": {
    "id": "lE1S1d63zRSx"
   },
   "source": [
    "## Apply Functions on the text"
   ]
  },
  {
   "cell_type": "code",
   "execution_count": 115,
   "metadata": {
    "execution": {
     "iopub.execute_input": "2025-02-12T15:15:42.452142Z",
     "iopub.status.busy": "2025-02-12T15:15:42.451866Z",
     "iopub.status.idle": "2025-02-12T15:15:42.464536Z",
     "shell.execute_reply": "2025-02-12T15:15:42.463290Z",
     "shell.execute_reply.started": "2025-02-12T15:15:42.452120Z"
    },
    "id": "b7EP4RC1zRS1",
    "outputId": "eaf53849-a12e-4fc6-a0ea-e45503e0e540",
    "trusted": true
   },
   "outputs": [
    {
     "data": {
      "text/html": [
       "<div>\n",
       "<style scoped>\n",
       "    .dataframe tbody tr th:only-of-type {\n",
       "        vertical-align: middle;\n",
       "    }\n",
       "\n",
       "    .dataframe tbody tr th {\n",
       "        vertical-align: top;\n",
       "    }\n",
       "\n",
       "    .dataframe thead th {\n",
       "        text-align: right;\n",
       "    }\n",
       "</style>\n",
       "<table border=\"1\" class=\"dataframe\">\n",
       "  <thead>\n",
       "    <tr style=\"text-align: right;\">\n",
       "      <th></th>\n",
       "      <th>question</th>\n",
       "      <th>context</th>\n",
       "      <th>answers</th>\n",
       "      <th>c_id</th>\n",
       "    </tr>\n",
       "  </thead>\n",
       "  <tbody>\n",
       "    <tr>\n",
       "      <th>0</th>\n",
       "      <td>ما هو ASCII على أساس؟</td>\n",
       "      <td>يعتمد ASCII أساس ا على الأبجدية الإنجليزية ، و...</td>\n",
       "      <td>[{'text': 'الأبجدية الإنجليزية', 'answer_start...</td>\n",
       "      <td>0</td>\n",
       "    </tr>\n",
       "    <tr>\n",
       "      <th>1</th>\n",
       "      <td>كم شخصيات محددة موجودة في كود ASCII؟</td>\n",
       "      <td>يعتمد ASCII أساس ا على الأبجدية الإنجليزية ، و...</td>\n",
       "      <td>[{'text': '128 حرف ا محدد', 'answer_start': 58}]</td>\n",
       "      <td>0</td>\n",
       "    </tr>\n",
       "    <tr>\n",
       "      <th>2</th>\n",
       "      <td>كم عدد أحرف التحكم غير الطباعة؟</td>\n",
       "      <td>يعتمد ASCII أساس ا على الأبجدية الإنجليزية ، و...</td>\n",
       "      <td>[{'text': '33 حرف ا تحكم ا غير الطباعة', 'answ...</td>\n",
       "      <td>0</td>\n",
       "    </tr>\n",
       "    <tr>\n",
       "      <th>3</th>\n",
       "      <td>كم شخصيات قابلة للطباعة؟</td>\n",
       "      <td>يعتمد ASCII أساس ا على الأبجدية الإنجليزية ، و...</td>\n",
       "      <td>[{'text': '95 حرف ا قابلا للطباعة', 'answer_st...</td>\n",
       "      <td>0</td>\n",
       "    </tr>\n",
       "    <tr>\n",
       "      <th>4</th>\n",
       "      <td>ما هو الفضاء المعروف أيضا باسم ماذا؟</td>\n",
       "      <td>يعتمد ASCII أساس ا على الأبجدية الإنجليزية ، و...</td>\n",
       "      <td>[{'text': 'رسم ا غير مرئي 223', 'answer_start'...</td>\n",
       "      <td>0</td>\n",
       "    </tr>\n",
       "    <tr>\n",
       "      <th>5</th>\n",
       "      <td>لماذا تم ترميز الرمز بحيث تكون معظم الرموز معًا؟</td>\n",
       "      <td>تم تزيين الرمز نفسه بحيث تكون معظم رموز التحكم...</td>\n",
       "      <td>[{'text': 'لسهولة تحديد الهوية', 'answer_start...</td>\n",
       "      <td>1</td>\n",
       "    </tr>\n",
       "    <tr>\n",
       "      <th>6</th>\n",
       "      <td>كم عدد المراكز في العمودين الأولين؟</td>\n",
       "      <td>تم تزيين الرمز نفسه بحيث تكون معظم رموز التحكم...</td>\n",
       "      <td>[{'text': '32 موضع', 'answer_start': 128}]</td>\n",
       "      <td>1</td>\n",
       "    </tr>\n",
       "    <tr>\n",
       "      <th>7</th>\n",
       "      <td>ما الذي قررت اللجنة أنه مهم؟</td>\n",
       "      <td>تم تزيين الرمز نفسه بحيث تكون معظم رموز التحكم...</td>\n",
       "      <td>[{'text': 'دعم الأحرف الهجائية الكبيرة المكونة...</td>\n",
       "      <td>1</td>\n",
       "    </tr>\n",
       "    <tr>\n",
       "      <th>8</th>\n",
       "      <td>أين كان الحرف ألف يضع في الموقف؟</td>\n",
       "      <td>تم تزيين الرمز نفسه بحيث تكون معظم رموز التحكم...</td>\n",
       "      <td>[{'text': '41hex', 'answer_start': 757}]</td>\n",
       "      <td>1</td>\n",
       "    </tr>\n",
       "    <tr>\n",
       "      <th>9</th>\n",
       "      <td>تم دمج ASCII في ما مجموعة الأحرف الأخرى؟</td>\n",
       "      <td>تم دمج ASCII في مجموعة أحرف ونيكودي كأول 128 ر...</td>\n",
       "      <td>[{'text': 'ونيكودي', 'answer_start': 28}]</td>\n",
       "      <td>2</td>\n",
       "    </tr>\n",
       "  </tbody>\n",
       "</table>\n",
       "</div>"
      ],
      "text/plain": [
       "                                           question  \\\n",
       "0                             ما هو ASCII على أساس؟   \n",
       "1              كم شخصيات محددة موجودة في كود ASCII؟   \n",
       "2                   كم عدد أحرف التحكم غير الطباعة؟   \n",
       "3                          كم شخصيات قابلة للطباعة؟   \n",
       "4              ما هو الفضاء المعروف أيضا باسم ماذا؟   \n",
       "5  لماذا تم ترميز الرمز بحيث تكون معظم الرموز معًا؟   \n",
       "6               كم عدد المراكز في العمودين الأولين؟   \n",
       "7                      ما الذي قررت اللجنة أنه مهم؟   \n",
       "8                  أين كان الحرف ألف يضع في الموقف؟   \n",
       "9          تم دمج ASCII في ما مجموعة الأحرف الأخرى؟   \n",
       "\n",
       "                                             context  \\\n",
       "0  يعتمد ASCII أساس ا على الأبجدية الإنجليزية ، و...   \n",
       "1  يعتمد ASCII أساس ا على الأبجدية الإنجليزية ، و...   \n",
       "2  يعتمد ASCII أساس ا على الأبجدية الإنجليزية ، و...   \n",
       "3  يعتمد ASCII أساس ا على الأبجدية الإنجليزية ، و...   \n",
       "4  يعتمد ASCII أساس ا على الأبجدية الإنجليزية ، و...   \n",
       "5  تم تزيين الرمز نفسه بحيث تكون معظم رموز التحكم...   \n",
       "6  تم تزيين الرمز نفسه بحيث تكون معظم رموز التحكم...   \n",
       "7  تم تزيين الرمز نفسه بحيث تكون معظم رموز التحكم...   \n",
       "8  تم تزيين الرمز نفسه بحيث تكون معظم رموز التحكم...   \n",
       "9  تم دمج ASCII في مجموعة أحرف ونيكودي كأول 128 ر...   \n",
       "\n",
       "                                             answers  c_id  \n",
       "0  [{'text': 'الأبجدية الإنجليزية', 'answer_start...     0  \n",
       "1   [{'text': '128 حرف ا محدد', 'answer_start': 58}]     0  \n",
       "2  [{'text': '33 حرف ا تحكم ا غير الطباعة', 'answ...     0  \n",
       "3  [{'text': '95 حرف ا قابلا للطباعة', 'answer_st...     0  \n",
       "4  [{'text': 'رسم ا غير مرئي 223', 'answer_start'...     0  \n",
       "5  [{'text': 'لسهولة تحديد الهوية', 'answer_start...     1  \n",
       "6         [{'text': '32 موضع', 'answer_start': 128}]     1  \n",
       "7  [{'text': 'دعم الأحرف الهجائية الكبيرة المكونة...     1  \n",
       "8           [{'text': '41hex', 'answer_start': 757}]     1  \n",
       "9          [{'text': 'ونيكودي', 'answer_start': 28}]     2  "
      ]
     },
     "execution_count": 115,
     "metadata": {},
     "output_type": "execute_result"
    }
   ],
   "source": [
    "df_squad.head(10)\n"
   ]
  },
  {
   "cell_type": "code",
   "execution_count": 116,
   "metadata": {
    "execution": {
     "iopub.execute_input": "2025-02-12T15:15:42.465961Z",
     "iopub.status.busy": "2025-02-12T15:15:42.465601Z",
     "iopub.status.idle": "2025-02-12T15:15:42.498992Z",
     "shell.execute_reply": "2025-02-12T15:15:42.497961Z",
     "shell.execute_reply.started": "2025-02-12T15:15:42.465927Z"
    },
    "id": "bNuVwG4JzRS1",
    "outputId": "d16517e9-6789-468f-97e8-290c98c09edb",
    "trusted": true
   },
   "outputs": [
    {
     "name": "stdout",
     "output_type": "stream",
     "text": [
      "<class 'pandas.core.series.Series'>\n",
      "RangeIndex: 48344 entries, 0 to 48343\n",
      "Series name: answers\n",
      "Non-Null Count  Dtype \n",
      "--------------  ----- \n",
      "48344 non-null  object\n",
      "dtypes: object(1)\n",
      "memory usage: 377.8+ KB\n"
     ]
    }
   ],
   "source": [
    "df_squad['answers'].info()"
   ]
  },
  {
   "cell_type": "markdown",
   "metadata": {
    "id": "jdB2edgHzRS2"
   },
   "source": [
    "### Questions column"
   ]
  },
  {
   "cell_type": "code",
   "execution_count": 118,
   "metadata": {
    "execution": {
     "iopub.execute_input": "2025-02-12T15:15:42.506128Z",
     "iopub.status.busy": "2025-02-12T15:15:42.505856Z",
     "iopub.status.idle": "2025-02-12T15:15:43.695021Z",
     "shell.execute_reply": "2025-02-12T15:15:43.694036Z",
     "shell.execute_reply.started": "2025-02-12T15:15:42.506076Z"
    },
    "id": "frak0-5vzRS2",
    "trusted": true
   },
   "outputs": [],
   "source": [
    "df_squad['processed_question'] = df_squad['question'].apply(remove_diacritics).apply(fix_arabic_spacing).apply(remove_extra_spaces).apply(remove_punk).apply(remove_alef_variations)"
   ]
  },
  {
   "cell_type": "markdown",
   "metadata": {
    "id": "4vbC_Ig-zRS3"
   },
   "source": [
    "* i tried to apply text clean function but i think it made some question not understandable"
   ]
  },
  {
   "cell_type": "code",
   "execution_count": 119,
   "metadata": {
    "execution": {
     "iopub.execute_input": "2025-02-12T15:15:43.696572Z",
     "iopub.status.busy": "2025-02-12T15:15:43.696335Z",
     "iopub.status.idle": "2025-02-12T15:15:43.703259Z",
     "shell.execute_reply": "2025-02-12T15:15:43.702457Z",
     "shell.execute_reply.started": "2025-02-12T15:15:43.696553Z"
    },
    "id": "acGTtsGLzRS3",
    "outputId": "06254c82-3f94-44b9-888a-a94f7b135423",
    "trusted": true
   },
   "outputs": [
    {
     "data": {
      "text/plain": [
       "0                              ما هو ASCII على اساس\n",
       "1               كم شخصيات محددة موجودة في كود ASCII\n",
       "2                    كم عدد احرف التحكم غير الطباعة\n",
       "3                           كم شخصيات قابلة للطباعة\n",
       "4               ما هو الفضاء المعروف ايضا باسم ماذا\n",
       "5    لماذا تم ترميز الرمز بحيث تكون معظم الرموز معا\n",
       "6                كم عدد المراكز في العمودين الاولين\n",
       "7                       ما الذي قررت اللجنة انه مهم\n",
       "8                   اين كان الحرف الف يضع في الموقف\n",
       "9           تم دمج ASCII في ما مجموعة الاحرف الاخرى\n",
       "Name: processed_question, dtype: object"
      ]
     },
     "execution_count": 119,
     "metadata": {},
     "output_type": "execute_result"
    }
   ],
   "source": [
    "df_squad['processed_question'].head(10)"
   ]
  },
  {
   "cell_type": "code",
   "execution_count": 120,
   "metadata": {
    "execution": {
     "iopub.execute_input": "2025-02-12T15:15:43.704217Z",
     "iopub.status.busy": "2025-02-12T15:15:43.703953Z",
     "iopub.status.idle": "2025-02-12T15:15:43.721848Z",
     "shell.execute_reply": "2025-02-12T15:15:43.720825Z",
     "shell.execute_reply.started": "2025-02-12T15:15:43.704196Z"
    },
    "id": "sb4NJCTyzRS4",
    "trusted": true
   },
   "outputs": [],
   "source": [
    "## to check if there ? in every question or not\n",
    "# list = []\n",
    "# for i in range(len(df_squad['question'])):\n",
    "#     c = df_squad['question'][i].count('؟')\n",
    "#     list.append(c)\n",
    "#     # print(df_squad['question'][0])\n",
    "# list"
   ]
  },
  {
   "cell_type": "markdown",
   "metadata": {
    "id": "G-bl6M7zzRS4"
   },
   "source": [
    "### Context column"
   ]
  },
  {
   "cell_type": "code",
   "execution_count": null,
   "metadata": {
    "execution": {
     "iopub.execute_input": "2025-02-12T15:15:43.723550Z",
     "iopub.status.busy": "2025-02-12T15:15:43.723275Z",
     "iopub.status.idle": "2025-02-12T15:15:43.736996Z",
     "shell.execute_reply": "2025-02-12T15:15:43.735892Z",
     "shell.execute_reply.started": "2025-02-12T15:15:43.723528Z"
    },
    "id": "DOrdrmUBzRS5",
    "trusted": true
   },
   "outputs": [],
   "source": [
    "# TODO: First see what preprocessing techniques we will use for the text for questions, contexts, answers(only text cleaning(i think))\n",
    "# Done\n",
    "\n",
    "# FIXME: Squad data is cleaned from the diacritics and been replaced with space, how to fix:\n",
    "#           1- combine every ا to its previous word as the original word but some words may corrupt\n",
    "#           2- combine every ى and أ with next word when coming in first\n",
    "#           3- remove every alone character but this also maya corrupt some words as some words splitted from the diacritics (except for ب, ك and و)\n",
    "# Fixed"
   ]
  },
  {
   "cell_type": "code",
   "execution_count": 122,
   "metadata": {
    "execution": {
     "iopub.execute_input": "2025-02-12T15:15:43.888087Z",
     "iopub.status.busy": "2025-02-12T15:15:43.887743Z",
     "iopub.status.idle": "2025-02-12T15:15:49.499272Z",
     "shell.execute_reply": "2025-02-12T15:15:49.498505Z",
     "shell.execute_reply.started": "2025-02-12T15:15:43.888060Z"
    },
    "id": "bMAaPLZQzRS6",
    "trusted": true
   },
   "outputs": [],
   "source": [
    "# remove the extra spacing between letters problem\n",
    "df_squad['processed_context'] = df_squad['context'].apply(fix_arabic_spacing)"
   ]
  },
  {
   "cell_type": "code",
   "execution_count": 123,
   "metadata": {
    "execution": {
     "iopub.execute_input": "2025-02-12T15:15:49.500374Z",
     "iopub.status.busy": "2025-02-12T15:15:49.500166Z",
     "iopub.status.idle": "2025-02-12T15:15:49.979083Z",
     "shell.execute_reply": "2025-02-12T15:15:49.978351Z",
     "shell.execute_reply.started": "2025-02-12T15:15:49.500355Z"
    },
    "id": "M7ISoqJKzRS7",
    "trusted": true
   },
   "outputs": [],
   "source": [
    "# remove punctuation from words\n",
    "df_squad['processed_context'] = df_squad['processed_context'].apply(remove_punk)"
   ]
  },
  {
   "cell_type": "code",
   "execution_count": 124,
   "metadata": {
    "execution": {
     "iopub.execute_input": "2025-02-12T15:15:49.981239Z",
     "iopub.status.busy": "2025-02-12T15:15:49.980970Z",
     "iopub.status.idle": "2025-02-12T15:15:50.478975Z",
     "shell.execute_reply": "2025-02-12T15:15:50.478293Z",
     "shell.execute_reply.started": "2025-02-12T15:15:49.981217Z"
    },
    "id": "-fAU9_eizRS7",
    "trusted": true
   },
   "outputs": [],
   "source": [
    "# remove Alef variation from contexts\n",
    "df_squad['processed_context'] = df_squad['processed_context'].apply(remove_alef_variations)"
   ]
  },
  {
   "cell_type": "code",
   "execution_count": 125,
   "metadata": {
    "execution": {
     "iopub.execute_input": "2025-02-12T15:15:50.480369Z",
     "iopub.status.busy": "2025-02-12T15:15:50.480129Z",
     "iopub.status.idle": "2025-02-12T15:15:52.423677Z",
     "shell.execute_reply": "2025-02-12T15:15:52.422806Z",
     "shell.execute_reply.started": "2025-02-12T15:15:50.480347Z"
    },
    "id": "Tp-Z8oRrzRS8",
    "trusted": true
   },
   "outputs": [],
   "source": [
    "# remove extra spaces between words\n",
    "df_squad['processed_context'] = df_squad['processed_context'].apply(remove_extra_spaces)"
   ]
  },
  {
   "cell_type": "code",
   "execution_count": null,
   "metadata": {
    "execution": {
     "iopub.execute_input": "2025-02-12T15:15:52.424601Z",
     "iopub.status.busy": "2025-02-12T15:15:52.424385Z",
     "iopub.status.idle": "2025-02-12T15:15:52.429775Z",
     "shell.execute_reply": "2025-02-12T15:15:52.428962Z",
     "shell.execute_reply.started": "2025-02-12T15:15:52.424582Z"
    },
    "id": "oN_9iko9zRS8",
    "outputId": "78710a49-a7ad-40de-c0be-83c033004c97",
    "trusted": true
   },
   "outputs": [],
   "source": [
    "df_squad['processed_context'][df_squad['c_id'] == 543].tolist()[0]"
   ]
  },
  {
   "cell_type": "code",
   "execution_count": null,
   "metadata": {
    "execution": {
     "iopub.execute_input": "2025-02-12T15:15:52.430926Z",
     "iopub.status.busy": "2025-02-12T15:15:52.430625Z",
     "iopub.status.idle": "2025-02-12T15:15:52.447066Z",
     "shell.execute_reply": "2025-02-12T15:15:52.446433Z",
     "shell.execute_reply.started": "2025-02-12T15:15:52.430897Z"
    },
    "id": "sc82pGn6zRS8",
    "trusted": true
   },
   "outputs": [],
   "source": [
    "unique_contexts_df = pd.DataFrame(df_squad['context'].unique().tolist(), columns=[\"unique context\"])\n",
    "unique_contexts_df.to_csv(\"unique_context.csv\", index=False, header=True)"
   ]
  },
  {
   "cell_type": "markdown",
   "metadata": {
    "id": "aDDrzoeRzRS9"
   },
   "source": [
    "### Answers column"
   ]
  },
  {
   "cell_type": "code",
   "execution_count": 128,
   "metadata": {
    "execution": {
     "iopub.execute_input": "2025-02-12T15:15:52.448340Z",
     "iopub.status.busy": "2025-02-12T15:15:52.448048Z",
     "iopub.status.idle": "2025-02-12T15:15:52.465645Z",
     "shell.execute_reply": "2025-02-12T15:15:52.464845Z",
     "shell.execute_reply.started": "2025-02-12T15:15:52.448320Z"
    },
    "id": "cEiCzFzDzRS9",
    "trusted": true
   },
   "outputs": [],
   "source": [
    "def extract_text(data):\n",
    "    if isinstance(data, str):  # If data is a string, convert it to a list\n",
    "        try:\n",
    "            data = ast.literal_eval(data)  # Convert string to actual list\n",
    "        except (SyntaxError, ValueError):\n",
    "            return None  # If conversion fails, return None\n",
    "\n",
    "    if isinstance(data, list) and data:  # Check if it's a valid non-empty list\n",
    "        first_item = data[0]  # Access the first dictionary\n",
    "        if isinstance(first_item, dict):  # Ensure it's a dictionary\n",
    "            return first_item.get('text', None)  # Get the 'text' value or None if not found\n",
    "    return None"
   ]
  },
  {
   "cell_type": "code",
   "execution_count": 129,
   "metadata": {
    "execution": {
     "iopub.execute_input": "2025-02-12T15:15:52.467945Z",
     "iopub.status.busy": "2025-02-12T15:15:52.467755Z",
     "iopub.status.idle": "2025-02-12T15:15:53.161511Z",
     "shell.execute_reply": "2025-02-12T15:15:53.160847Z",
     "shell.execute_reply.started": "2025-02-12T15:15:52.467929Z"
    },
    "id": "gJH8fXU5zRS-",
    "trusted": true
   },
   "outputs": [],
   "source": [
    "df_squad['processed_answers'] = df_squad['answers'].apply(extract_text)"
   ]
  },
  {
   "cell_type": "code",
   "execution_count": 130,
   "metadata": {
    "execution": {
     "iopub.execute_input": "2025-02-12T15:15:53.162800Z",
     "iopub.status.busy": "2025-02-12T15:15:53.162500Z",
     "iopub.status.idle": "2025-02-12T15:15:53.843636Z",
     "shell.execute_reply": "2025-02-12T15:15:53.842879Z",
     "shell.execute_reply.started": "2025-02-12T15:15:53.162773Z"
    },
    "id": "pgND0ui0zRS-",
    "trusted": true
   },
   "outputs": [],
   "source": [
    "df_squad['processed_answers'] = df_squad['processed_answers'].apply(remove_diacritics).apply(fix_arabic_spacing).apply(remove_extra_spaces).apply(remove_punk).apply(remove_alef_variations)"
   ]
  },
  {
   "cell_type": "code",
   "execution_count": 135,
   "metadata": {
    "execution": {
     "iopub.execute_input": "2025-02-12T15:21:27.299149Z",
     "iopub.status.busy": "2025-02-12T15:21:27.298725Z",
     "iopub.status.idle": "2025-02-12T15:21:27.314478Z",
     "shell.execute_reply": "2025-02-12T15:21:27.313433Z",
     "shell.execute_reply.started": "2025-02-12T15:21:27.299085Z"
    },
    "id": "eIruBXWKzRS-",
    "outputId": "87dd0eb4-43ad-427c-98c7-9dec65f896d3",
    "trusted": true
   },
   "outputs": [
    {
     "data": {
      "text/html": [
       "<div>\n",
       "<style scoped>\n",
       "    .dataframe tbody tr th:only-of-type {\n",
       "        vertical-align: middle;\n",
       "    }\n",
       "\n",
       "    .dataframe tbody tr th {\n",
       "        vertical-align: top;\n",
       "    }\n",
       "\n",
       "    .dataframe thead th {\n",
       "        text-align: right;\n",
       "    }\n",
       "</style>\n",
       "<table border=\"1\" class=\"dataframe\">\n",
       "  <thead>\n",
       "    <tr style=\"text-align: right;\">\n",
       "      <th></th>\n",
       "      <th>question</th>\n",
       "      <th>context</th>\n",
       "      <th>answers</th>\n",
       "      <th>c_id</th>\n",
       "      <th>processed_question</th>\n",
       "      <th>processed_context</th>\n",
       "      <th>processed_answers</th>\n",
       "    </tr>\n",
       "  </thead>\n",
       "  <tbody>\n",
       "    <tr>\n",
       "      <th>0</th>\n",
       "      <td>ما هو ASCII على أساس؟</td>\n",
       "      <td>يعتمد ASCII أساس ا على الأبجدية الإنجليزية ، و...</td>\n",
       "      <td>[{'text': 'الأبجدية الإنجليزية', 'answer_start...</td>\n",
       "      <td>0</td>\n",
       "      <td>ما هو ASCII على اساس</td>\n",
       "      <td>يعتمد ASCII اساسا على الابجدية الانجليزية ويقو...</td>\n",
       "      <td>الابجدية الانجليزية</td>\n",
       "    </tr>\n",
       "    <tr>\n",
       "      <th>1</th>\n",
       "      <td>كم شخصيات محددة موجودة في كود ASCII؟</td>\n",
       "      <td>يعتمد ASCII أساس ا على الأبجدية الإنجليزية ، و...</td>\n",
       "      <td>[{'text': '128 حرف ا محدد', 'answer_start': 58}]</td>\n",
       "      <td>0</td>\n",
       "      <td>كم شخصيات محددة موجودة في كود ASCII</td>\n",
       "      <td>يعتمد ASCII اساسا على الابجدية الانجليزية ويقو...</td>\n",
       "      <td>128 حرفا محدد</td>\n",
       "    </tr>\n",
       "    <tr>\n",
       "      <th>2</th>\n",
       "      <td>كم عدد أحرف التحكم غير الطباعة؟</td>\n",
       "      <td>يعتمد ASCII أساس ا على الأبجدية الإنجليزية ، و...</td>\n",
       "      <td>[{'text': '33 حرف ا تحكم ا غير الطباعة', 'answ...</td>\n",
       "      <td>0</td>\n",
       "      <td>كم عدد احرف التحكم غير الطباعة</td>\n",
       "      <td>يعتمد ASCII اساسا على الابجدية الانجليزية ويقو...</td>\n",
       "      <td>33 حرفا تحكما غير الطباعة</td>\n",
       "    </tr>\n",
       "    <tr>\n",
       "      <th>3</th>\n",
       "      <td>كم شخصيات قابلة للطباعة؟</td>\n",
       "      <td>يعتمد ASCII أساس ا على الأبجدية الإنجليزية ، و...</td>\n",
       "      <td>[{'text': '95 حرف ا قابلا للطباعة', 'answer_st...</td>\n",
       "      <td>0</td>\n",
       "      <td>كم شخصيات قابلة للطباعة</td>\n",
       "      <td>يعتمد ASCII اساسا على الابجدية الانجليزية ويقو...</td>\n",
       "      <td>95 حرفا قابلا للطباعة</td>\n",
       "    </tr>\n",
       "    <tr>\n",
       "      <th>4</th>\n",
       "      <td>ما هو الفضاء المعروف أيضا باسم ماذا؟</td>\n",
       "      <td>يعتمد ASCII أساس ا على الأبجدية الإنجليزية ، و...</td>\n",
       "      <td>[{'text': 'رسم ا غير مرئي 223', 'answer_start'...</td>\n",
       "      <td>0</td>\n",
       "      <td>ما هو الفضاء المعروف ايضا باسم ماذا</td>\n",
       "      <td>يعتمد ASCII اساسا على الابجدية الانجليزية ويقو...</td>\n",
       "      <td>رسما غير مرئي 223</td>\n",
       "    </tr>\n",
       "  </tbody>\n",
       "</table>\n",
       "</div>"
      ],
      "text/plain": [
       "                               question  \\\n",
       "0                 ما هو ASCII على أساس؟   \n",
       "1  كم شخصيات محددة موجودة في كود ASCII؟   \n",
       "2       كم عدد أحرف التحكم غير الطباعة؟   \n",
       "3              كم شخصيات قابلة للطباعة؟   \n",
       "4  ما هو الفضاء المعروف أيضا باسم ماذا؟   \n",
       "\n",
       "                                             context  \\\n",
       "0  يعتمد ASCII أساس ا على الأبجدية الإنجليزية ، و...   \n",
       "1  يعتمد ASCII أساس ا على الأبجدية الإنجليزية ، و...   \n",
       "2  يعتمد ASCII أساس ا على الأبجدية الإنجليزية ، و...   \n",
       "3  يعتمد ASCII أساس ا على الأبجدية الإنجليزية ، و...   \n",
       "4  يعتمد ASCII أساس ا على الأبجدية الإنجليزية ، و...   \n",
       "\n",
       "                                             answers  c_id  \\\n",
       "0  [{'text': 'الأبجدية الإنجليزية', 'answer_start...     0   \n",
       "1   [{'text': '128 حرف ا محدد', 'answer_start': 58}]     0   \n",
       "2  [{'text': '33 حرف ا تحكم ا غير الطباعة', 'answ...     0   \n",
       "3  [{'text': '95 حرف ا قابلا للطباعة', 'answer_st...     0   \n",
       "4  [{'text': 'رسم ا غير مرئي 223', 'answer_start'...     0   \n",
       "\n",
       "                    processed_question  \\\n",
       "0                 ما هو ASCII على اساس   \n",
       "1  كم شخصيات محددة موجودة في كود ASCII   \n",
       "2       كم عدد احرف التحكم غير الطباعة   \n",
       "3              كم شخصيات قابلة للطباعة   \n",
       "4  ما هو الفضاء المعروف ايضا باسم ماذا   \n",
       "\n",
       "                                   processed_context  \\\n",
       "0  يعتمد ASCII اساسا على الابجدية الانجليزية ويقو...   \n",
       "1  يعتمد ASCII اساسا على الابجدية الانجليزية ويقو...   \n",
       "2  يعتمد ASCII اساسا على الابجدية الانجليزية ويقو...   \n",
       "3  يعتمد ASCII اساسا على الابجدية الانجليزية ويقو...   \n",
       "4  يعتمد ASCII اساسا على الابجدية الانجليزية ويقو...   \n",
       "\n",
       "           processed_answers  \n",
       "0        الابجدية الانجليزية  \n",
       "1              128 حرفا محدد  \n",
       "2  33 حرفا تحكما غير الطباعة  \n",
       "3      95 حرفا قابلا للطباعة  \n",
       "4          رسما غير مرئي 223  "
      ]
     },
     "execution_count": 135,
     "metadata": {},
     "output_type": "execute_result"
    }
   ],
   "source": [
    "df_squad.head()"
   ]
  },
  {
   "cell_type": "markdown",
   "metadata": {},
   "source": [
    "# Save data"
   ]
  },
  {
   "cell_type": "code",
   "execution_count": 132,
   "metadata": {
    "execution": {
     "iopub.execute_input": "2025-02-12T15:15:53.855850Z",
     "iopub.status.busy": "2025-02-12T15:15:53.855573Z",
     "iopub.status.idle": "2025-02-12T15:16:20.191417Z",
     "shell.execute_reply": "2025-02-12T15:16:20.190444Z",
     "shell.execute_reply.started": "2025-02-12T15:15:53.855818Z"
    },
    "trusted": true
   },
   "outputs": [],
   "source": [
    "df_squad.to_excel(\"Arabic_squad_data_processed.xlsx\", index=False, engine=\"openpyxl\")  # Save as Excel"
   ]
  }
 ],
 "metadata": {
  "accelerator": "GPU",
  "colab": {
   "gpuType": "T4",
   "provenance": [],
   "toc_visible": true
  },
  "kaggle": {
   "accelerator": "nvidiaTeslaT4",
   "dataSources": [
    {
     "datasetId": 6581115,
     "sourceId": 10629051,
     "sourceType": "datasetVersion"
    },
    {
     "datasetId": 6623945,
     "sourceId": 10690581,
     "sourceType": "datasetVersion"
    },
    {
     "datasetId": 6654858,
     "sourceId": 10733306,
     "sourceType": "datasetVersion"
    },
    {
     "modelId": 237687,
     "modelInstanceId": 215966,
     "sourceId": 252593,
     "sourceType": "modelInstanceVersion"
    },
    {
     "modelId": 237695,
     "modelInstanceId": 215972,
     "sourceId": 252600,
     "sourceType": "modelInstanceVersion"
    },
    {
     "modelId": 237793,
     "modelInstanceId": 216055,
     "sourceId": 252685,
     "sourceType": "modelInstanceVersion"
    },
    {
     "modelId": 238976,
     "modelInstanceId": 217258,
     "sourceId": 254103,
     "sourceType": "modelInstanceVersion"
    },
    {
     "isSourceIdPinned": true,
     "modelId": 241314,
     "modelInstanceId": 219557,
     "sourceId": 256856,
     "sourceType": "modelInstanceVersion"
    }
   ],
   "dockerImageVersionId": 30840,
   "isGpuEnabled": true,
   "isInternetEnabled": true,
   "language": "python",
   "sourceType": "notebook"
  },
  "kernelspec": {
   "display_name": "Python 3",
   "language": "python",
   "name": "python3"
  },
  "language_info": {
   "codemirror_mode": {
    "name": "ipython",
    "version": 3
   },
   "file_extension": ".py",
   "mimetype": "text/x-python",
   "name": "python",
   "nbconvert_exporter": "python",
   "pygments_lexer": "ipython3",
   "version": "3.10.12"
  }
 },
 "nbformat": 4,
 "nbformat_minor": 4
}
