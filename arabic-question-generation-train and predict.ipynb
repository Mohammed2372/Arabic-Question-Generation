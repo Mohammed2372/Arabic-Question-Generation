{
 "cells": [
  {
   "cell_type": "markdown",
   "metadata": {},
   "source": [
    "# Installs"
   ]
  },
  {
   "cell_type": "code",
   "execution_count": null,
   "metadata": {
    "trusted": true
   },
   "outputs": [],
   "source": [
    "!pip install rouge-score\n",
    "!pip uninstall -y wandb\n",
    "!pip install openpyxl"
   ]
  },
  {
   "cell_type": "markdown",
   "metadata": {
    "id": "IPFBNn2VzRST"
   },
   "source": [
    "# Libraries"
   ]
  },
  {
   "cell_type": "code",
   "execution_count": null,
   "metadata": {
    "id": "8ge5OxtkzRSV",
    "trusted": true
   },
   "outputs": [],
   "source": [
    "import re\n",
    "import ast\n",
    "import torch\n",
    "import tokenizers\n",
    "import numpy as np\n",
    "import pandas as pd\n",
    "from nltk.corpus import stopwords\n",
    "from rouge_score import rouge_scorer\n",
    "from sklearn.metrics import accuracy_score\n",
    "from nltk.translate.bleu_score import sentence_bleu\n",
    "from sklearn.model_selection import train_test_split\n",
    "from transformers import T5ForConditionalGeneration, Trainer, TrainingArguments, AutoTokenizer, T5Tokenizer, MT5ForConditionalGeneration, MT5Tokenizer, EarlyStoppingCallback\n",
    "\n",
    "# NER\n",
    "from camel_tools.tokenizers.word import simple_word_tokenize\n",
    "from camel_tools.utils.charsets import AR_LETTERS_CHARSET\n",
    "from camel_tools.morphology.analyzer import Analyzer\n",
    "from camel_tools.ner import NERecognizer\n",
    "# POS tagging\n",
    "# from camel_tools.morphology.disambiguator import Disambiguator\n"
   ]
  },
  {
   "cell_type": "markdown",
   "metadata": {
    "id": "R4oDrVZ2zRS_"
   },
   "source": [
    "# Prepare the data for Train"
   ]
  },
  {
   "cell_type": "markdown",
   "metadata": {},
   "source": [
    "## load data"
   ]
  },
  {
   "cell_type": "code",
   "execution_count": null,
   "metadata": {
    "trusted": true
   },
   "outputs": [],
   "source": [
    "df_squad = pd.read_excel(\"/kaggle/input/arabic-squad-processed/Arabic_squad_data_processed.xlsx\")"
   ]
  },
  {
   "cell_type": "markdown",
   "metadata": {},
   "source": [
    "## load tokenizer"
   ]
  },
  {
   "cell_type": "code",
   "execution_count": null,
   "metadata": {},
   "outputs": [],
   "source": [
    "tokenizer = tokenizer = T5Tokenizer.from_pretrained(\"/kaggle/input/arat5-tokenizer/pytorch/default/1\")"
   ]
  },
  {
   "cell_type": "markdown",
   "metadata": {
    "id": "CL8GKOjfzRS_"
   },
   "source": [
    "## T5 preparation"
   ]
  },
  {
   "cell_type": "code",
   "execution_count": null,
   "metadata": {
    "id": "jnCBsK1jzRTA",
    "trusted": true
   },
   "outputs": [],
   "source": [
    "def preprocess_dataset(dataset):\n",
    "    preprocessed_data = []\n",
    "    skip_counter = 0\n",
    "    answer_skiped_counter = 0\n",
    "    for example in dataset:\n",
    "        \n",
    "        # Skip empty examples\n",
    "        if not example[\"processed_context\"] or not example[\"processed_question\"] or not example[\"processed_answers\"]:\n",
    "            skip_counter += 1\n",
    "            continue\n",
    "\n",
    "        # Tokenize the input (context)\n",
    "        inputs = tokenizer(\n",
    "            example[\"processed_context\"],\n",
    "            max_length=128,\n",
    "            truncation=True,\n",
    "            padding=\"max_length\",\n",
    "        )\n",
    "\n",
    "        # # Ensure answers are not empty and get the first answer\n",
    "        # if isinstance(example[\"processed_answers\"], list) and example[\"processed_answers\"]:\n",
    "        #     answer_text = example[\"processed_answers\"][0]\n",
    "        # else:\n",
    "        #     answer_skiped_counter += 1\n",
    "        #     answer_text = \"\"\n",
    "            \n",
    "        # answer_text = example[\"processed_answers\"][0] if isinstance(example[\"processed_answers\"], list) and example[\"processed_answers\"] else \"\"\n",
    "        # answer_text = example[\"processed_answers\"]\n",
    "        # answer_text = \"\"\n",
    "        \n",
    "        # Combine question and answer for label (question generation + answer)\n",
    "        question_answer_text = example[\"processed_question\"]\n",
    "\n",
    "        # Tokenize the target (question)\n",
    "        labels = tokenizer(\n",
    "            question_answer_text,\n",
    "            max_length=128,\n",
    "            truncation=True,\n",
    "            padding=\"max_length\",\n",
    "        )\n",
    "\n",
    "        # Append preprocessed data\n",
    "        preprocessed_data.append({\n",
    "            \"input_ids\": torch.tensor(inputs[\"input_ids\"], dtype=torch.long),\n",
    "            \"attention_mask\": torch.tensor(inputs[\"attention_mask\"], dtype=torch.long),\n",
    "            \"labels\": torch.tensor(labels[\"input_ids\"], dtype=torch.long),\n",
    "        })\n",
    "        \n",
    "    print(skip_counter , \" skiped due to empty\")\n",
    "    print(answer_skiped_counter , \" answers skiped\")\n",
    "    return preprocessed_data\n"
   ]
  },
  {
   "cell_type": "code",
   "execution_count": null,
   "metadata": {
    "id": "YK8N2IbVzRTA",
    "trusted": true
   },
   "outputs": [],
   "source": [
    "# Split by context_id to avoid data leakage\n",
    "context_ids = df_squad[\"c_id\"].unique()\n",
    "train_ids, test_ids = train_test_split(context_ids, test_size=0.2, random_state=42)\n",
    "train_ids, val_ids = train_test_split(train_ids, test_size=0.1, random_state=42)\n",
    "\n",
    "# Create splits\n",
    "train_data = df_squad[df_squad[\"c_id\"].isin(train_ids)].to_dict(\"records\")\n",
    "val_data = df_squad[df_squad[\"c_id\"].isin(val_ids)].to_dict(\"records\")\n",
    "test_data = df_squad[df_squad[\"c_id\"].isin(test_ids)].to_dict(\"records\")\n",
    "\n",
    "# Preprocess each split\n",
    "train_processed = preprocess_dataset(train_data)\n",
    "val_processed = preprocess_dataset(val_data)\n",
    "test_processed = preprocess_dataset(test_data)\n",
    "\n",
    "\n",
    "print(\"total rows after processing \", len(train_processed) + len(val_processed) + len(test_processed))"
   ]
  },
  {
   "cell_type": "code",
   "execution_count": null,
   "metadata": {
    "trusted": true
   },
   "outputs": [],
   "source": [
    "# c = 9\n",
    "# print(df_squad[\"processed_context\"][c])\n",
    "# print(df_squad[\"processed_question\"][c], \" + \", df_squad[\"processed_answers\"][c])\n",
    "# print(\"--------------------------------\")\n",
    "# print(tokenizer.decode(train_processed[0][\"input_ids\"], skip_special_tokens=True))\n",
    "# print(tokenizer.decode(train_processed[0][\"labels\"], skip_special_tokens=True))"
   ]
  },
  {
   "cell_type": "code",
   "execution_count": null,
   "metadata": {
    "id": "Rv003oK2zRTB",
    "outputId": "86b42d27-10a3-40db-8ef8-67842aed0470",
    "trusted": true
   },
   "outputs": [],
   "source": [
    "# # Check tokenization and decoding\n",
    "# for i, example in enumerate(train_processed[:3], 1):\n",
    "#     original_context = train_data[i - 1][\"processed_context\"]\n",
    "#     input_ids = example[\"input_ids\"]\n",
    "\n",
    "#     # Decode using the correct tokenizer\n",
    "#     decoded_context = tokenizer.decode(input_ids, skip_special_tokens=True)\n",
    "\n",
    "#     print(f\"Example {i}:\")\n",
    "#     print(\"Decoded Context:\", decoded_context)\n",
    "#     print(\"Original Context:\", original_context)\n",
    "\n",
    "#     if decoded_context == original_context:\n",
    "#         print(\"The contexts match!\")\n",
    "#     else:\n",
    "#         print(\"The contexts DO NOT match!\")\n",
    "#     print(\"-\" * 50)\n"
   ]
  },
  {
   "cell_type": "markdown",
   "metadata": {
    "id": "iNJhyWgizRTB"
   },
   "source": [
    "# Model"
   ]
  },
  {
   "cell_type": "markdown",
   "metadata": {
    "id": "5ZzdxBagzRTC"
   },
   "source": [
    "### Select a model"
   ]
  },
  {
   "cell_type": "code",
   "execution_count": 89,
   "metadata": {
    "execution": {
     "iopub.execute_input": "2025-02-11T14:28:42.305230Z",
     "iopub.status.busy": "2025-02-11T14:28:42.304870Z",
     "iopub.status.idle": "2025-02-11T14:28:43.930421Z",
     "shell.execute_reply": "2025-02-11T14:28:43.929230Z",
     "shell.execute_reply.started": "2025-02-11T14:28:42.305199Z"
    },
    "id": "untJvdq0zRTC",
    "trusted": true
   },
   "outputs": [],
   "source": [
    "# model = MT5ForConditionalGeneration.from_pretrained(\"google/mt5-small\", ignore_mismatched_sizes=True)\n",
    "# model = T5ForConditionalGeneration.from_pretrained(\"UBC-NLP/araT5-base\")\n",
    "model = T5ForConditionalGeneration.from_pretrained(\"/kaggle/input/arat5_base_final/pytorch/default/1\")"
   ]
  },
  {
   "cell_type": "markdown",
   "metadata": {
    "id": "lFVvK1BPzRTD"
   },
   "source": [
    "### Change the size of the model to accept the tokens"
   ]
  },
  {
   "cell_type": "code",
   "execution_count": 47,
   "metadata": {
    "execution": {
     "iopub.execute_input": "2025-02-11T13:44:28.437662Z",
     "iopub.status.busy": "2025-02-11T13:44:28.437290Z",
     "iopub.status.idle": "2025-02-11T13:44:28.626556Z",
     "shell.execute_reply": "2025-02-11T13:44:28.625638Z",
     "shell.execute_reply.started": "2025-02-11T13:44:28.437629Z"
    },
    "id": "givsEeurzRTD",
    "outputId": "ed493daf-86a6-482c-c54e-6f1cf9f0cfcb",
    "trusted": true
   },
   "outputs": [
    {
     "name": "stdout",
     "output_type": "stream",
     "text": [
      "New model vocabulary size: 110100\n"
     ]
    }
   ],
   "source": [
    "# Resize the model's embedding layer\n",
    "model.resize_token_embeddings(len(tokenizer))\n",
    "\n",
    "# Verify the new vocabulary size\n",
    "print(\"New model vocabulary size:\", model.config.vocab_size)"
   ]
  },
  {
   "cell_type": "markdown",
   "metadata": {},
   "source": [
    "## check on data"
   ]
  },
  {
   "cell_type": "code",
   "execution_count": null,
   "metadata": {
    "id": "VoVrf3rHLmkK",
    "trusted": true
   },
   "outputs": [],
   "source": [
    "def check_tensor_dataset(dataset, name=\"Dataset\"):\n",
    "    print(f\"Checking {name} for NaN or Inf values...\")\n",
    "    for i in range(len(dataset)):\n",
    "        sample = dataset[i]  # Get one example (which is a dictionary)\n",
    "\n",
    "        for key in [\"input_ids\", \"attention_mask\", \"labels\"]:\n",
    "            if key in sample:\n",
    "                tensor = sample[key]  # Extract tensor for this key\n",
    "\n",
    "                if torch.isnan(tensor).any():\n",
    "                    print(f\"NaN found in {key} at index {i}\")\n",
    "                if torch.isinf(tensor).any():\n",
    "                    print(f\"Inf found in {key} at index {i}\")\n",
    "\n",
    "    print(f\"Check complete for {name}.\\n\")"
   ]
  },
  {
   "cell_type": "code",
   "execution_count": null,
   "metadata": {
    "id": "txeIMDrUM3yl",
    "outputId": "efdc0e08-aff5-4be6-b822-bb96e6d10305",
    "trusted": true
   },
   "outputs": [],
   "source": [
    "check_tensor_dataset(train_data, \"Training Dataset\")"
   ]
  },
  {
   "cell_type": "code",
   "execution_count": null,
   "metadata": {
    "id": "hhMpOBkRM6AQ",
    "outputId": "26dcf35b-0115-4c5e-c1b9-c480b23a32e7",
    "trusted": true
   },
   "outputs": [],
   "source": [
    "check_tensor_dataset(val_data, \"Validation Dataset\")"
   ]
  },
  {
   "cell_type": "code",
   "execution_count": null,
   "metadata": {
    "trusted": true
   },
   "outputs": [],
   "source": [
    "def compute_metrics(pred):\n",
    "    labels = pred.label_ids\n",
    "    preds = pred.predictions.argmax(axis=-1)  # Get predictions (argmax for classification)\n",
    "    acc = accuracy_score(labels, preds)  # Compute accuracy\n",
    "    return {\"accuracy\": acc}  # Return accuracy"
   ]
  },
  {
   "cell_type": "markdown",
   "metadata": {
    "id": "MYk0oS69zRTG"
   },
   "source": [
    "## Train the model"
   ]
  },
  {
   "cell_type": "code",
   "execution_count": null,
   "metadata": {
    "id": "xSsf9MR-zRTG",
    "outputId": "4f552386-f545-4609-a69e-5b6872b56367",
    "trusted": true
   },
   "outputs": [],
   "source": [
    "# Define training arguments\n",
    "num_train_epochs = 5\n",
    "\n",
    "training_args = TrainingArguments(\n",
    "    output_dir=\"./results\",\n",
    "    per_device_train_batch_size=8,\n",
    "    per_device_eval_batch_size=8,\n",
    "    # gradient_accumulation_steps=4,    # Accumulate gradients over 4 steps\n",
    "    num_train_epochs=num_train_epochs,\n",
    "    evaluation_strategy=\"epoch\",\n",
    "    save_strategy=\"epoch\",\n",
    "    logging_dir=\"./logs\",\n",
    "    logging_steps=10,\n",
    "    save_total_limit=2,\n",
    "    load_best_model_at_end=False,\n",
    "    fp16=False,\n",
    "    dataloader_num_workers=2,  # we can increase the dataloader to 4 maybe\n",
    "    # max_grad_norm=1.0,  # Clip gradients to prevent out-of-memory errors\n",
    ")\n",
    "\n",
    "# Create a Trainer instance with EarlyStoppingCallback\n",
    "trainer = Trainer(\n",
    "    model=model,\n",
    "    args=training_args,\n",
    "    train_dataset=train_processed,\n",
    "    eval_dataset=val_processed,\n",
    "    compute_metrics=compute_metrics,\n",
    "    callbacks=[EarlyStoppingCallback(early_stopping_patience=3)]  # Add early stopping callback\n",
    ")\n",
    "\n",
    "# Train the model with logging\n",
    "print(\"Starting training...\")\n",
    "trainer.train()\n",
    "print(\"Training completed.\")\n"
   ]
  },
  {
   "cell_type": "markdown",
   "metadata": {},
   "source": [
    "# Save model and tokenizer"
   ]
  },
  {
   "cell_type": "markdown",
   "metadata": {},
   "source": [
    "## move model to cpu"
   ]
  },
  {
   "cell_type": "code",
   "execution_count": null,
   "metadata": {
    "trusted": true
   },
   "outputs": [],
   "source": [
    "model.cpu()"
   ]
  },
  {
   "cell_type": "markdown",
   "metadata": {},
   "source": [
    "## save the model"
   ]
  },
  {
   "cell_type": "code",
   "execution_count": null,
   "metadata": {
    "trusted": true
   },
   "outputs": [],
   "source": [
    "model.save_pretrained(\"/kaggle/working/arat5_model_base_20\")"
   ]
  },
  {
   "cell_type": "markdown",
   "metadata": {},
   "source": [
    "## compress and download the model"
   ]
  },
  {
   "cell_type": "code",
   "execution_count": null,
   "metadata": {
    "trusted": true
   },
   "outputs": [],
   "source": [
    "!zip -r /kaggle/working/arat5_model_base_20.zip /kaggle/working/arat5_model_base_20"
   ]
  },
  {
   "cell_type": "code",
   "execution_count": null,
   "metadata": {
    "trusted": true
   },
   "outputs": [],
   "source": [
    "from IPython.display import FileLink\n",
    "FileLink(\"/kaggle/working/mt5_model_small_2.zip\")"
   ]
  },
  {
   "cell_type": "markdown",
   "metadata": {},
   "source": [
    "## save the tokenizer"
   ]
  },
  {
   "cell_type": "code",
   "execution_count": null,
   "metadata": {
    "trusted": true
   },
   "outputs": [],
   "source": [
    "tokenizer.save_pretrained(\"/kaggle/working/mt5_tokenizer\")"
   ]
  },
  {
   "cell_type": "markdown",
   "metadata": {},
   "source": [
    "# load model and tokenizer"
   ]
  },
  {
   "cell_type": "markdown",
   "metadata": {},
   "source": [
    "## load the model"
   ]
  },
  {
   "cell_type": "code",
   "execution_count": null,
   "metadata": {
    "trusted": true
   },
   "outputs": [],
   "source": [
    "import os\n",
    "os.environ[\"CUDA_LAUNCH_BLOCKING\"] = \"1\""
   ]
  },
  {
   "cell_type": "code",
   "execution_count": null,
   "metadata": {
    "trusted": true
   },
   "outputs": [],
   "source": [
    "model = T5ForConditionalGeneration.from_pretrained(\"/kaggle/input/arat5_base_final/pytorch/default/1\")"
   ]
  },
  {
   "cell_type": "markdown",
   "metadata": {},
   "source": [
    "### move the model to cuda"
   ]
  },
  {
   "cell_type": "code",
   "execution_count": 91,
   "metadata": {
    "execution": {
     "iopub.execute_input": "2025-02-11T14:29:12.981981Z",
     "iopub.status.busy": "2025-02-11T14:29:12.981661Z",
     "iopub.status.idle": "2025-02-11T14:29:13.485912Z",
     "shell.execute_reply": "2025-02-11T14:29:13.484735Z",
     "shell.execute_reply.started": "2025-02-11T14:29:12.981959Z"
    },
    "trusted": true
   },
   "outputs": [
    {
     "name": "stdout",
     "output_type": "stream",
     "text": [
      "Model loaded successfully on cuda\n"
     ]
    }
   ],
   "source": [
    "device = torch.device(\"cuda\" if torch.cuda.is_available() else \"cpu\")\n",
    "model.to(device)\n",
    "model.eval()\n",
    "print(\"Model loaded successfully on\", device)"
   ]
  },
  {
   "cell_type": "markdown",
   "metadata": {},
   "source": [
    "## load the tokenizer"
   ]
  },
  {
   "cell_type": "code",
   "execution_count": null,
   "metadata": {
    "trusted": true
   },
   "outputs": [],
   "source": [
    "# tokenizer = MT5Tokenizer.from_pretrained(\"/kaggle/input/mt5-tokenizer/pytorch/default/1\")\n",
    "tokenizer = T5Tokenizer.from_pretrained(\"/kaggle/input/arat5-tokenizer/pytorch/default/1\")"
   ]
  },
  {
   "cell_type": "markdown",
   "metadata": {},
   "source": [
    "# Test "
   ]
  },
  {
   "cell_type": "code",
   "execution_count": 87,
   "metadata": {
    "execution": {
     "iopub.execute_input": "2025-02-11T14:14:47.983539Z",
     "iopub.status.busy": "2025-02-11T14:14:47.983145Z",
     "iopub.status.idle": "2025-02-11T14:14:49.420480Z",
     "shell.execute_reply": "2025-02-11T14:14:49.419637Z",
     "shell.execute_reply.started": "2025-02-11T14:14:47.983503Z"
    },
    "id": "ZdYbs45mzRTH",
    "trusted": true
   },
   "outputs": [
    {
     "name": "stdout",
     "output_type": "stream",
     "text": [
      "Generated Text 1-1: ماذا كان لابن الهيثم دور مهم في تطوير المنهج العلمي التجريبي؟\n",
      "Generated Text 1-2: ما هو الكتاب الذي وضعه ابن الهيثم في علم البصريات؟\n",
      "Generated Text 1-3: ما هو كتاب المناظر الذي قام ابن الهيثم بشرحه؟\n",
      "Generated Text 1-4: ما هو أول كتاب وضعه ابن الهيثم؟\n",
      "Generated Text 2-1: ما هو أول كتاب وضعه ابن الهيثم؟\n",
      "Generated Text 2-2: ما الكتاب الذي وضعه ابن الهيثم في علم البصريات؟\n",
      "Generated Text 2-3: في أي عام ولد ابن الهيثم؟\n",
      "Generated Text 2-4: في أي عام ولد ابن الهيثم في البصرة؟\n",
      "Generated Text 3-1: متى ولد العالم العربي الشهير ابن الهيثم؟\n",
      "Generated Text 3-2: ما الكتاب الذي وضعه ابن الهيثم؟\n",
      "Generated Text 3-3: ما الكتاب الذي كتب ابن الهيثم فيه؟\n",
      "Generated Text 3-4: ما الكتاب الذي وضع أسس علم الضوء الحديث؟\n",
      "Generated Text 4-1: ماذا كان لابن الهيثم دور مهم في تطوير المنهج العلمي التجريبي؟\n",
      "Generated Text 4-2: ماذا قدم ابن الهيثم في مجال البصريات؟\n",
      "Generated Text 4-3: أي كاتب من أهم الكتب التي أثرت في علم البصريات؟\n",
      "Generated Text 4-4: كم عدد الكتب التي كتبها ابن الهيثم؟\n"
     ]
    }
   ],
   "source": [
    "# After training, generate predictions:\n",
    "input_context = 'ولد العالم العربي الشهير ابن الهيثم في مدينة البصرة عام 965 ميلادي. كان أحد أبرز العلماء في العصر الذهبي الإسلامي، حيث قدم مساهمات كبيرة في مجالات البصريات، والرياضيات، والهندسة، والفيزياء. يُعتبر كتابه \"المناظر\" من أهم الكتب التي أثرت في علم البصريات، حيث شرح فيه مبادئ الانعكاس والانكسار، ووضع أسس علم الضوء الحديث. بالإضافة إلى ذلك، كان لابن الهيثم دور مهم في تطوير المنهج العلمي التجريبي، إذ اعتمد على الملاحظة والتجربة لإثبات نظرياته. سافر إلى مصر بدعوة من الخليفة الفاطمي الحاكم بأمر الله، وهناك قام بدراسة سلوك الضوء في الماء والهواء.'\n",
    "\n",
    "# Tokenize the context and move to the same device as the model\n",
    "inputs = tokenizer(input_context, return_tensors=\"pt\").to(device)\n",
    "\n",
    "for i in range(4):\n",
    "    with torch.no_grad():\n",
    "        output_ids = model.generate(\n",
    "            input_ids=inputs[\"input_ids\"],\n",
    "            attention_mask=inputs[\"attention_mask\"],\n",
    "            max_length=512,\n",
    "            do_sample=True,\n",
    "            num_beams=1,  # Disable beam search for more diversity\n",
    "            early_stopping=True,\n",
    "            top_p=0.8,  # Lower top_p for more diversity\n",
    "            temperature=1.0,  # Higher temperature for more randomness\n",
    "            num_return_sequences=4,\n",
    "        )\n",
    "    \n",
    "    # Decode the output ids to text\n",
    "    for j, output_id in enumerate(output_ids):\n",
    "        generated_text = tokenizer.decode(output_id, skip_special_tokens=True)\n",
    "        print(f\"Generated Text {i+1}-{j+1}:\", generated_text)"
   ]
  },
  {
   "cell_type": "code",
   "execution_count": 162,
   "metadata": {
    "execution": {
     "iopub.execute_input": "2025-02-11T15:42:15.699967Z",
     "iopub.status.busy": "2025-02-11T15:42:15.699624Z",
     "iopub.status.idle": "2025-02-11T15:42:15.710428Z",
     "shell.execute_reply": "2025-02-11T15:42:15.709651Z",
     "shell.execute_reply.started": "2025-02-11T15:42:15.699943Z"
    },
    "trusted": true
   },
   "outputs": [],
   "source": [
    "from sentence_transformers import SentenceTransformer, util\n",
    "from collections import defaultdict\n",
    "\n",
    "# Dummy grammar check (replace with a proper Arabic grammar checker if available)\n",
    "def grammar_check(question):\n",
    "    return 1 if question.strip().endswith(\"؟\") and re.match(r\"^(لما|ماذا|في|ما|كيف|لماذا|متى|أين|هل|من)\", question.strip(), re.IGNORECASE) else 0\n",
    "\n",
    "def normalize_text(text):\n",
    "    return \" \".join(text.strip().split())\n",
    "    \n",
    "# Grouping the labels (questions) by context\n",
    "def group_labels_by_context(test_data):\n",
    "    context_to_labels = defaultdict(list)  # Use a list to hold multiple questions per context\n",
    "    for sample in test_data:\n",
    "        # Decode the input_ids (context) to text\n",
    "        context = tokenizer.decode(sample[\"input_ids\"], skip_special_tokens=True)\n",
    "        context = normalize_text(context)  # Normalize context for matching\n",
    "        label = sample[\"labels\"][0]  # Assuming labels contain a single question\n",
    "        context_to_labels[context].append(label)\n",
    "    return context_to_labels\n",
    "\n",
    "# Coherence function with the correct handling of reference questions\n",
    "def coherence_score_ar(question, ref_questions, tokenizer, model):\n",
    "    if not ref_questions:  # If no reference questions, return a low score\n",
    "        return 0.0\n",
    "\n",
    "    # Ensure ref_questions contains strings\n",
    "    ref_questions = [str(q) for q in ref_questions if isinstance(q, str) and q.strip()]\n",
    "\n",
    "    if not ref_questions:  # If no valid reference questions after filtering, return a low score\n",
    "        print(\"check again on ref questoins\")\n",
    "        return 0.0\n",
    "\n",
    "    # Tokenize the input question and the reference questions\n",
    "    question_tokens = tokenizer(question, return_tensors=\"pt\", padding=True, truncation=True)\n",
    "    \n",
    "    # Tokenize reference questions\n",
    "    ref_tokens = tokenizer(ref_questions, return_tensors=\"pt\", padding=True, truncation=True)\n",
    "\n",
    "    # Move tensors to the same device as the model\n",
    "    device = next(model.parameters()).device\n",
    "    question_tokens = {key: val.to(device) for key, val in question_tokens.items()}\n",
    "    ref_tokens = {key: val.to(device) for key, val in ref_tokens.items()}\n",
    "\n",
    "    # Generate embeddings for both the input question and reference questions\n",
    "    with torch.no_grad():\n",
    "        question_embedding = model.encoder(**question_tokens).last_hidden_state.mean(dim=1)\n",
    "        ref_embeddings = model.encoder(**ref_tokens).last_hidden_state.mean(dim=1)\n",
    "\n",
    "    # Compute cosine similarity between the input question and reference questions\n",
    "    scores = util.pytorch_cos_sim(question_embedding, ref_embeddings)\n",
    "\n",
    "    # Return the average similarity score\n",
    "    return scores.mean().item()\n",
    "\n",
    "\n",
    "# Readability: Approximate using word count\n",
    "def readability_score_ar(question):\n",
    "    word_count = len(question.split())\n",
    "    return max(0, min(1, 10 / word_count))\n",
    "\n",
    "def arabic_question_quality(question, context, context_to_labels, tokenizer, model):\n",
    "    # Normalize the context before looking it up in the reference dictionary\n",
    "    normalized_context = normalize_text(context)\n",
    "    \n",
    "    # Retrieve reference questions for this normalized context\n",
    "    ref_questions = context_to_labels.get(normalized_context, [])\n",
    "    \n",
    "    if not ref_questions:  # If no reference questions, skip coherence evaluation\n",
    "        print(f\"Warning: No reference questions found for context '{normalized_context[:50]}...'\")\n",
    "    \n",
    "    results = {\n",
    "        \"Grammar Score\": grammar_check(question),\n",
    "        \"Coherence Score\": coherence_score_ar(question, ref_questions, tokenizer, model),\n",
    "        \"Readability Score\": readability_score_ar(question),\n",
    "    }\n",
    "\n",
    "    # Weighted final score\n",
    "    final_score = (\n",
    "        results[\"Grammar Score\"] * 0.5 +\n",
    "        results[\"Coherence Score\"] * 0.4 +\n",
    "        results[\"Readability Score\"] * 0.1\n",
    "    )\n",
    "\n",
    "    results[\"Final Quality Score\"] = final_score\n",
    "    return results\n"
   ]
  },
  {
   "cell_type": "code",
   "execution_count": 163,
   "metadata": {
    "execution": {
     "iopub.execute_input": "2025-02-11T15:42:16.690738Z",
     "iopub.status.busy": "2025-02-11T15:42:16.690431Z",
     "iopub.status.idle": "2025-02-11T15:42:17.534216Z",
     "shell.execute_reply": "2025-02-11T15:42:17.533345Z",
     "shell.execute_reply.started": "2025-02-11T15:42:16.690714Z"
    },
    "trusted": true
   },
   "outputs": [
    {
     "name": "stdout",
     "output_type": "stream",
     "text": [
      "questions gropued based on contexts\n",
      "\n",
      "=== Processing Sample 20 ===\n",
      "Decoded Context: تحدث مراحل مختلفة من الهضم بما في ذلك المرحلة الراسية المرحلة المعدية والمرحلة المعوية تحدث المرحلة الراسية عند رؤية الطعام وفكره ورائحته مما يحفز القشرة الدماغية يتم ارسال المنبهات والرائحة الى منطقة...\n",
      "\n",
      "Generated Question 1: ما هو النشاط العصبي الذي يتم تشغيله في هذه المرحلة؟\n",
      "check again on ref questoins\n",
      "Grammar Score: 1.00\n",
      "Coherence Score: 0.00\n",
      "Readability Score: 1.00\n",
      "Final Quality Score: 0.60\n",
      "------------------------------------------------------------------------\n",
      "Generated Question 2: ما هو الغذاء الذي يتم توجيهه عبر العصب المبهم؟\n",
      "check again on ref questoins\n",
      "Grammar Score: 1.00\n",
      "Coherence Score: 0.00\n",
      "Readability Score: 1.00\n",
      "Final Quality Score: 0.60\n",
      "------------------------------------------------------------------------\n",
      "Generated Question 3: في المرحلة المعدية والمرحلة المعوية يتم إرسال المنبهات والرائحة الى المخ؟\n",
      "check again on ref questoins\n",
      "Grammar Score: 1.00\n",
      "Coherence Score: 0.00\n",
      "Readability Score: 0.91\n",
      "Final Quality Score: 0.59\n",
      "------------------------------------------------------------------------\n",
      "Generated Question 4: ما هو نوع خلايا G التي تنتج في المعدة؟\n",
      "check again on ref questoins\n",
      "Grammar Score: 1.00\n",
      "Coherence Score: 0.00\n",
      "Readability Score: 1.00\n",
      "Final Quality Score: 0.60\n",
      "------------------------------------------------------------------------\n"
     ]
    }
   ],
   "source": [
    "# Process a subset of test_processed from index 20 to 40\n",
    "subset_test_data = test_processed[20:40]\n",
    "\n",
    "for sample_idx, sample in enumerate(subset_test_data):\n",
    "    context = sample.get(\"context\", \"\")  # Use .get() to avoid KeyError and default to an empty string\n",
    "\n",
    "    # Ensure context is a string\n",
    "    if not isinstance(context, str) or not context.strip():\n",
    "        print(f\"Skipping sample {sample_idx + 20} due to invalid context.\")\n",
    "        continue\n",
    "\n",
    "    # Tokenize the context and move to the same device as the model\n",
    "    inputs = tokenizer(context, return_tensors=\"pt\", truncation=True, padding=True).to(device)\n",
    "\n",
    "    print(f\"\\n=== Processing Sample {sample_idx + 20} ===\")\n",
    "    print(f\"Context: {context}\\n\")\n",
    "\n",
    "    with torch.no_grad():\n",
    "        output_ids = model.generate(\n",
    "            input_ids=inputs[\"input_ids\"],\n",
    "            attention_mask=inputs[\"attention_mask\"],\n",
    "            max_length=512,\n",
    "            do_sample=True,\n",
    "            num_beams=1,  # Disable beam search for more diversity\n",
    "            early_stopping=True,\n",
    "            top_p=0.7,  # Lower top_p for more diversity\n",
    "            temperature=1.0,  # Higher temperature for more randomness\n",
    "            num_return_sequences=4,\n",
    "        )\n",
    "\n",
    "    # Decode and evaluate each generated question\n",
    "    for j, output_id in enumerate(output_ids):\n",
    "        generated_text = tokenizer.decode(output_id, skip_special_tokens=True)\n",
    "        print(f\"Generated Question {j+1}:\", generated_text)\n",
    "\n",
    "        # Evaluate the quality of the generated question\n",
    "        results = arabic_question_quality(generated_text, context, tokenizer, model)\n",
    "\n",
    "        for metric, score in results.items():\n",
    "            print(f\"{metric}: {score:.2f}\")\n",
    "        print(\"------------------------------------------------------------------------\")\n"
   ]
  },
  {
   "cell_type": "code",
   "execution_count": 69,
   "metadata": {
    "execution": {
     "iopub.execute_input": "2025-02-11T14:00:31.456572Z",
     "iopub.status.busy": "2025-02-11T14:00:31.456193Z",
     "iopub.status.idle": "2025-02-11T14:00:31.802842Z",
     "shell.execute_reply": "2025-02-11T14:00:31.802076Z",
     "shell.execute_reply.started": "2025-02-11T14:00:31.456540Z"
    },
    "id": "1adFT4PrzRTH",
    "trusted": true
   },
   "outputs": [
    {
     "name": "stdout",
     "output_type": "stream",
     "text": [
      "tensor([[     0,     36,    456,  37208,   6453,  19894,  56222, 109551,     43,\n",
      "            190,  14949, 109615, 109673, 109535,      1]], device='cuda:0')\n",
      "Generated Question: من الذي ناقش استخدام وظيفة شيفت في ITA2؟\n"
     ]
    }
   ],
   "source": [
    "# Select a test example\n",
    "test_example = test_processed[20]  # Choose one example\n",
    "\n",
    "# Convert input to tensors\n",
    "input_ids = test_example[\"input_ids\"].unsqueeze(0).to(device)  # Add batch dimension\n",
    "attention_mask = test_example[\"attention_mask\"].unsqueeze(0).to(device)\n",
    "\n",
    "# Generate output\n",
    "model.eval()  # Set model to evaluation mode\n",
    "with torch.no_grad():\n",
    "    output_ids = model.generate(\n",
    "        input_ids=input_ids,\n",
    "        attention_mask=attention_mask,\n",
    "        max_length=128,  # Max length of generated text\n",
    "        num_beams=5,  # Beam search for better results\n",
    "        early_stopping=True,\n",
    "    )\n",
    "\n",
    "# Decode the generated output\n",
    "print(output_ids)\n",
    "generated_text = tokenizer.decode(output_ids[0], skip_special_tokens=True)\n",
    "print(\"Generated Question:\", generated_text)\n"
   ]
  },
  {
   "attachments": {
    "a5e5c595-7178-4668-b039-102cc5a3471b.png": {
     "image/png": "[encoded data removed]"
    }
   },
   "cell_type": "markdown",
   "metadata": {},
   "source": [
    "![image.png](attachment:a5e5c595-7178-4668-b039-102cc5a3471b.png)"
   ]
  },
  {
   "cell_type": "code",
   "execution_count": 60,
   "metadata": {
    "execution": {
     "iopub.execute_input": "2025-02-11T13:50:08.222242Z",
     "iopub.status.busy": "2025-02-11T13:50:08.221920Z",
     "iopub.status.idle": "2025-02-11T13:50:17.131144Z",
     "shell.execute_reply": "2025-02-11T13:50:17.130174Z",
     "shell.execute_reply.started": "2025-02-11T13:50:08.222219Z"
    },
    "id": "YTDC7cmSzRTI",
    "trusted": true
   },
   "outputs": [
    {
     "name": "stdout",
     "output_type": "stream",
     "text": [
      "Example 1:\n",
      "  Context (Input): ناقشت اللجنة امكانية استخدام وظيفة شيفت كما هو الحال في ITA2 مما يسمح بتمثيل اكثر من 64 رمزا برمز من ست بتات في رمز شيفتيد تحدد بعض رموز الاحرف الاختيارات بين خيارات رموز الاحرف التالية وهو يسمح بتشفير مدمج ولكنه اقل موثوقية لنقل البيانات كخطا في نقل شفرة التغيير يجعل عادة جزءا طويلا من الارسال غير قابل للقراءة قررت لجنة المعايير عدم التغيير ولذلك تطلبت ASCII رمزا على الاقل من سبعة بتات 215 236 4\n",
      "  Prediction: في ASCII ما هي الرموز التي يمكن تمثيلها في رمز شيفت؟\n",
      "  Ground Truth: ما هو مختلف في رمز التحول\n",
      "------------\n",
      "Example 2:\n",
      "  Context (Input): ناقشت اللجنة امكانية استخدام وظيفة شيفت كما هو الحال في ITA2 مما يسمح بتمثيل اكثر من 64 رمزا برمز من ست بتات في رمز شيفتيد تحدد بعض رموز الاحرف الاختيارات بين خيارات رموز الاحرف التالية وهو يسمح بتشفير مدمج ولكنه اقل موثوقية لنقل البيانات كخطا في نقل شفرة التغيير يجعل عادة جزءا طويلا من الارسال غير قابل للقراءة قررت لجنة المعايير عدم التغيير ولذلك تطلبت ASCII رمزا على الاقل من سبعة بتات 215 236 4\n",
      "  Prediction: متى تم مناقشة وظيفة شيفت؟\n",
      "  Ground Truth: لماذا قرروا عدم تغيير الشفرة\n",
      "------------\n",
      "Example 3:\n",
      "  Context (Input): مع ملء الرموز الخاصة الاخرى ورموز التحكم تم نشر ASCII كـ ASA X3 4 1963 مع ترك 28 موضعا للشفرة دون اي معنى معين محجوز للتقييس في المستقبل ورمز تحكم واحد غير محدد 66 245 كان هناك بعض النقاش في ذلك الوقت ما اذا كان يجب ان يكون هناك المزيد من احرف التحكم بدلا من الحروف الابجدية الصغيرة 435 لم يدم هذا التردد طويلا خلال مايو 1963 اقترح فريق عمل CCITT على الابجدية الجديدة التلغراف تعيين احرف صغيرة للاعمدة 6 و 7 و ينترناتيونال منظمة المقاييس TC 97 SC 2 صوتت خلال شهر اكتوبر لدمج التغيير في مشروع المعيار صو\n",
      "  Prediction: ما الذي تم نشره كـ ASA X3-4 1963؟\n",
      "  Ground Truth: ما الذي نشره ASCII كمتى ومتى\n",
      "------------\n",
      "Example 4:\n",
      "  Context (Input): مع ملء الرموز الخاصة الاخرى ورموز التحكم تم نشر ASCII كـ ASA X3 4 1963 مع ترك 28 موضعا للشفرة دون اي معنى معين محجوز للتقييس في المستقبل ورمز تحكم واحد غير محدد 66 245 كان هناك بعض النقاش في ذلك الوقت ما اذا كان يجب ان يكون هناك المزيد من احرف التحكم بدلا من الحروف الابجدية الصغيرة 435 لم يدم هذا التردد طويلا خلال مايو 1963 اقترح فريق عمل CCITT على الابجدية الجديدة التلغراف تعيين احرف صغيرة للاعمدة 6 و 7 و ينترناتيونال منظمة المقاييس TC 97 SC 2 صوتت خلال شهر اكتوبر لدمج التغيير في مشروع المعيار صو\n",
      "  Prediction: كم عدد مواقع الشفرة الموجودة في ASCII؟\n",
      "  Ground Truth: كم عدد مواقف الشفرات التي لم يتم تحديدها لتوحيد المعايير\n",
      "------------\n",
      "Example 5:\n",
      "  Context (Input): مع ملء الرموز الخاصة الاخرى ورموز التحكم تم نشر ASCII كـ ASA X3 4 1963 مع ترك 28 موضعا للشفرة دون اي معنى معين محجوز للتقييس في المستقبل ورمز تحكم واحد غير محدد 66 245 كان هناك بعض النقاش في ذلك الوقت ما اذا كان يجب ان يكون هناك المزيد من احرف التحكم بدلا من الحروف الابجدية الصغيرة 435 لم يدم هذا التردد طويلا خلال مايو 1963 اقترح فريق عمل CCITT على الابجدية الجديدة التلغراف تعيين احرف صغيرة للاعمدة 6 و 7 و ينترناتيونال منظمة المقاييس TC 97 SC 2 صوتت خلال شهر اكتوبر لدمج التغيير في مشروع المعيار صو\n",
      "  Prediction: ما الذي اقترحه فريق عمل CCITT على الابجدية الجديدة التلغراف؟\n",
      "  Ground Truth: متى تم التغيير الى ASCII رسميا\n",
      "------------\n",
      "Example 6:\n",
      "  Context (Input): مع ملء الرموز الخاصة الاخرى ورموز التحكم تم نشر ASCII كـ ASA X3 4 1963 مع ترك 28 موضعا للشفرة دون اي معنى معين محجوز للتقييس في المستقبل ورمز تحكم واحد غير محدد 66 245 كان هناك بعض النقاش في ذلك الوقت ما اذا كان يجب ان يكون هناك المزيد من احرف التحكم بدلا من الحروف الابجدية الصغيرة 435 لم يدم هذا التردد طويلا خلال مايو 1963 اقترح فريق عمل CCITT على الابجدية الجديدة التلغراف تعيين احرف صغيرة للاعمدة 6 و 7 و ينترناتيونال منظمة المقاييس TC 97 SC 2 صوتت خلال شهر اكتوبر لدمج التغيير في مشروع المعيار صو\n",
      "  Prediction: ما هي المجموعة التي تم التصويت عليها لدمج التغييرات في مشروع المعيار؟\n",
      "  Ground Truth: تسبب الاحرف الصغيرة في اختلاف في الطقطق ما سبب هذا\n",
      "------------\n",
      "Example 7:\n",
      "  Context (Input): وقد صادقت هيئات معايير دولية اخرى على ترميزات الاحرف مثل ISO IEC 646 التي تكون متطابقة او متماثلة تقريبا مع ASCII مع تمديدات احرف خارج الابجدية الانجليزية والرموز المستخدمة خارج الولايات المتحدة مثل رمز الجنيه الاسترليني في المملكة المتحدة تحتاج كل دولة تقريبا الى نسخة معدلة من ASCII حيث ان ASCII مناسب فقط لاحتياجات الولايات المتحدة الامريكية وعدد قليل من البلدان الاخرى على سبيل المثال كان لدى كندا نسختها الخاصة التي تدعم الاحرف الفرنسية تتضمن الترميزات الاخرى المعدلة ISCII الهند و VISCII فيتنام و YUSCII يوغوسلافيا على الرغم من ان هذه الترميزات يشار اليها\n",
      "  Prediction: في أي دولة كانت كندا لديها نسخ خاصة من ASCII؟\n",
      "  Ground Truth: ما هو اصدار retified من ASCII\n",
      "------------\n",
      "Example 8:\n",
      "  Context (Input): وقد صادقت هيئات معايير دولية اخرى على ترميزات الاحرف مثل ISO IEC 646 التي تكون متطابقة او متماثلة تقريبا مع ASCII مع تمديدات احرف خارج الابجدية الانجليزية والرموز المستخدمة خارج الولايات المتحدة مثل رمز الجنيه الاسترليني في المملكة المتحدة تحتاج كل دولة تقريبا الى نسخة معدلة من ASCII حيث ان ASCII مناسب فقط لاحتياجات الولايات المتحدة الامريكية وعدد قليل من البلدان الاخرى على سبيل المثال كان لدى كندا نسختها الخاصة التي تدعم الاحرف الفرنسية تتضمن الترميزات الاخرى المعدلة ISCII الهند و VISCII فيتنام و YUSCII يوغوسلافيا على الرغم من ان هذه الترميزات يشار اليها\n",
      "  Prediction: في أي بلد في كندا لديها نسخة من ASCII؟\n",
      "  Ground Truth: ما هو نوع الامتدادات التي تحتوي عليها ترميزات الاحرف الاخرى\n",
      "------------\n",
      "Example 9:\n",
      "  Context (Input): وقد صادقت هيئات معايير دولية اخرى على ترميزات الاحرف مثل ISO IEC 646 التي تكون متطابقة او متماثلة تقريبا مع ASCII مع تمديدات احرف خارج الابجدية الانجليزية والرموز المستخدمة خارج الولايات المتحدة مثل رمز الجنيه الاسترليني في المملكة المتحدة تحتاج كل دولة تقريبا الى نسخة معدلة من ASCII حيث ان ASCII مناسب فقط لاحتياجات الولايات المتحدة الامريكية وعدد قليل من البلدان الاخرى على سبيل المثال كان لدى كندا نسختها الخاصة التي تدعم الاحرف الفرنسية تتضمن الترميزات الاخرى المعدلة ISCII الهند و VISCII فيتنام و YUSCII يوغوسلافيا على الرغم من ان هذه الترميزات يشار اليها\n",
      "  Prediction: ما هي بعض الدول التي لديها نسخة معدلة من ASCII؟\n",
      "  Ground Truth: لماذا احتاجت معظم البلدان الى نسخة معدلة من ASCII\n",
      "------------\n",
      "Example 10:\n",
      "  Context (Input): وقد صادقت هيئات معايير دولية اخرى على ترميزات الاحرف مثل ISO IEC 646 التي تكون متطابقة او متماثلة تقريبا مع ASCII مع تمديدات احرف خارج الابجدية الانجليزية والرموز المستخدمة خارج الولايات المتحدة مثل رمز الجنيه الاسترليني في المملكة المتحدة تحتاج كل دولة تقريبا الى نسخة معدلة من ASCII حيث ان ASCII مناسب فقط لاحتياجات الولايات المتحدة الامريكية وعدد قليل من البلدان الاخرى على سبيل المثال كان لدى كندا نسختها الخاصة التي تدعم الاحرف الفرنسية تتضمن الترميزات الاخرى المعدلة ISCII الهند و VISCII فيتنام و YUSCII يوغوسلافيا على الرغم من ان هذه الترميزات يشار اليها\n",
      "  Prediction: ماذا تعني الترميزات التي تم تعديلها من ASCII؟\n",
      "  Ground Truth: لماذا الاصدارات الاخرى من ASCII غير صحيح ASCII\n",
      "------------\n",
      "Example 11:\n",
      "  Context (Input): تم وضع العديد من الاحرف غير الابجدية الرقمية لتتوافق مع موقفهم المنحرف على الالات الكاتبة هناك دهاء مهم هو ان هذه كانت تستند الى الالات الكاتبة الميكانيكية وليس الالات الكاتبة الكهربائية اتبعت الالات الكاتبة الميكانيكية المجموعة القياسية التي وضعتها ريمنجتون رقم 2 1878 وكانت الالة الكاتبة الاولى مع مفتاح شيفت والقيم المحولة من 23456789 amp الالات الكاتبة المبكرة المحذوفة 0 و 1 باستخدام O حرف الحرف الكبير و و ل حرف صغير L بدلا من ذلك لكن 1 و 0 اصبحت الازواج قياسية بمجرد ان اصبح 0 و 1 شائعا وهكذا في ASCII تم وضع في العمود الثاني\n",
      "  Prediction: ما هو الرقم القياسي الذي وضعته ريمنجتون؟\n",
      "  Ground Truth: متى تم انشاء اول الة طباعة مع مفتاح shift\n",
      "------------\n",
      "Example 12:\n",
      "  Context (Input): تم وضع العديد من الاحرف غير الابجدية الرقمية لتتوافق مع موقفهم المنحرف على الالات الكاتبة هناك دهاء مهم هو ان هذه كانت تستند الى الالات الكاتبة الميكانيكية وليس الالات الكاتبة الكهربائية اتبعت الالات الكاتبة الميكانيكية المجموعة القياسية التي وضعتها ريمنجتون رقم 2 1878 وكانت الالة الكاتبة الاولى مع مفتاح شيفت والقيم المحولة من 23456789 amp الالات الكاتبة المبكرة المحذوفة 0 و 1 باستخدام O حرف الحرف الكبير و و ل حرف صغير L بدلا من ذلك لكن 1 و 0 اصبحت الازواج قياسية بمجرد ان اصبح 0 و 1 شائعا وهكذا في ASCII تم وضع في العمود الثاني\n",
      "  Prediction: ما هي الالات الكاتبة المبكرة التي كانت تستخدم حرف Wift؟\n",
      "  Ground Truth: ما الذي استخدم بدلا من 0 و 1\n",
      "------------\n",
      "Example 13:\n",
      "  Context (Input): تم وضع العديد من الاحرف غير الابجدية الرقمية لتتوافق مع موقفهم المنحرف على الالات الكاتبة هناك دهاء مهم هو ان هذه كانت تستند الى الالات الكاتبة الميكانيكية وليس الالات الكاتبة الكهربائية اتبعت الالات الكاتبة الميكانيكية المجموعة القياسية التي وضعتها ريمنجتون رقم 2 1878 وكانت الالة الكاتبة الاولى مع مفتاح شيفت والقيم المحولة من 23456789 amp الالات الكاتبة المبكرة المحذوفة 0 و 1 باستخدام O حرف الحرف الكبير و و ل حرف صغير L بدلا من ذلك لكن 1 و 0 اصبحت الازواج قياسية بمجرد ان اصبح 0 و 1 شائعا وهكذا في ASCII تم وضع في العمود الثاني\n",
      "  Prediction: في أي عام تم وضع العديد من الاحرف غير الابجدية الرقمية؟\n",
      "  Ground Truth: ما التنسيق الذي استخدمه Teletype Model 33\n",
      "------------\n",
      "Example 14:\n",
      "  Context (Input): تم وضع العديد من الاحرف غير الابجدية الرقمية لتتوافق مع موقفهم المنحرف على الالات الكاتبة هناك دهاء مهم هو ان هذه كانت تستند الى الالات الكاتبة الميكانيكية وليس الالات الكاتبة الكهربائية اتبعت الالات الكاتبة الميكانيكية المجموعة القياسية التي وضعتها ريمنجتون رقم 2 1878 وكانت الالة الكاتبة الاولى مع مفتاح شيفت والقيم المحولة من 23456789 amp الالات الكاتبة المبكرة المحذوفة 0 و 1 باستخدام O حرف الحرف الكبير و و ل حرف صغير L بدلا من ذلك لكن 1 و 0 اصبحت الازواج قياسية بمجرد ان اصبح 0 و 1 شائعا وهكذا في ASCII تم وضع في العمود الثاني\n",
      "  Prediction: ما هو الاسم المستخدم في الالات الكاتبة الميكانيكية؟\n",
      "  Ground Truth: هل تتناسب قيم ازاحة الرموز الموجودة على لوحات المفاتيح الحديثة بشكل وثيق مع جدول ASCII\n",
      "------------\n",
      "Example 15:\n",
      "  Context (Input): تعتبر رهيزوبيا التي تحدد النيتروجين حالة مثيرة للاهتمام حيث تشارك العناصر الترابطية بشكل طبيعي في الاقتران بين المملكة تحتوي عناصر مثل بلازميدات Agrobacterium Ti او Ri على عناصر يمكن نقلها الى خلايا نباتية تدخل الجينات المنقولة الى نواة الخلية النباتية وتحول الخلايا النباتية بشكل فعال الى مصانع لانتاج الافيون والتي تستخدمها البكتيريا كمصدر للكربون والطاقة تشكل الخلايا النباتية المصابة اورام التاج او اورام الجذر وبالتالي فان بلازميدات Ti و Ri هي اندوسيبونات في البكتيريا والتي بدورها تكون متجانسة او طفيليات للنبات المصاب\n",
      "  Prediction: ما هي العناصر الترابطية التي تشارك بشكل طبيعي في الاقتران بين المملكة؟\n",
      "  Ground Truth: ما العناصر التي يمكن نقلها الى الخلايا النباتية\n",
      "------------\n",
      "Example 16:\n",
      "  Context (Input): تعتبر رهيزوبيا التي تحدد النيتروجين حالة مثيرة للاهتمام حيث تشارك العناصر الترابطية بشكل طبيعي في الاقتران بين المملكة تحتوي عناصر مثل بلازميدات Agrobacterium Ti او Ri على عناصر يمكن نقلها الى خلايا نباتية تدخل الجينات المنقولة الى نواة الخلية النباتية وتحول الخلايا النباتية بشكل فعال الى مصانع لانتاج الافيون والتي تستخدمها البكتيريا كمصدر للكربون والطاقة تشكل الخلايا النباتية المصابة اورام التاج او اورام الجذر وبالتالي فان بلازميدات Ti و Ri هي اندوسيبونات في البكتيريا والتي بدورها تكون متجانسة او طفيليات للنبات المصاب\n",
      "  Prediction: متى يتم نقل البلازميدات؟\n",
      "  Ground Truth: اين تدخل الجينات المنقولة\n",
      "------------\n",
      "Example 17:\n",
      "  Context (Input): تعتبر رهيزوبيا التي تحدد النيتروجين حالة مثيرة للاهتمام حيث تشارك العناصر الترابطية بشكل طبيعي في الاقتران بين المملكة تحتوي عناصر مثل بلازميدات Agrobacterium Ti او Ri على عناصر يمكن نقلها الى خلايا نباتية تدخل الجينات المنقولة الى نواة الخلية النباتية وتحول الخلايا النباتية بشكل فعال الى مصانع لانتاج الافيون والتي تستخدمها البكتيريا كمصدر للكربون والطاقة تشكل الخلايا النباتية المصابة اورام التاج او اورام الجذر وبالتالي فان بلازميدات Ti و Ri هي اندوسيبونات في البكتيريا والتي بدورها تكون متجانسة او طفيليات للنبات المصاب\n",
      "  Prediction: عندما تكون بلازميدات Ti و Ri متجانسة أو طفيليات للنبات المصاب بالنيتروجين في الخلية النباتية المصابة فان الخلايا النباتية تتحول الى مصانع لانتاج الافيون؟\n",
      "  Ground Truth: ماذا تستخدم البكتيريا كمصدر للكهرباء والطاقة\n",
      "------------\n",
      "Example 18:\n",
      "  Context (Input): تعتبر رهيزوبيا التي تحدد النيتروجين حالة مثيرة للاهتمام حيث تشارك العناصر الترابطية بشكل طبيعي في الاقتران بين المملكة تحتوي عناصر مثل بلازميدات Agrobacterium Ti او Ri على عناصر يمكن نقلها الى خلايا نباتية تدخل الجينات المنقولة الى نواة الخلية النباتية وتحول الخلايا النباتية بشكل فعال الى مصانع لانتاج الافيون والتي تستخدمها البكتيريا كمصدر للكربون والطاقة تشكل الخلايا النباتية المصابة اورام التاج او اورام الجذر وبالتالي فان بلازميدات Ti و Ri هي اندوسيبونات في البكتيريا والتي بدورها تكون متجانسة او طفيليات للنبات المصاب\n",
      "  Prediction: في اي نوع من النباتات يمكن نقل الجينات المنقولة؟\n",
      "  Ground Truth: ماذا يحدث للخلايا النباتية المصابة\n",
      "------------\n",
      "Example 19:\n",
      "  Context (Input): تعتبر رهيزوبيا التي تحدد النيتروجين حالة مثيرة للاهتمام حيث تشارك العناصر الترابطية بشكل طبيعي في الاقتران بين المملكة تحتوي عناصر مثل بلازميدات Agrobacterium Ti او Ri على عناصر يمكن نقلها الى خلايا نباتية تدخل الجينات المنقولة الى نواة الخلية النباتية وتحول الخلايا النباتية بشكل فعال الى مصانع لانتاج الافيون والتي تستخدمها البكتيريا كمصدر للكربون والطاقة تشكل الخلايا النباتية المصابة اورام التاج او اورام الجذر وبالتالي فان بلازميدات Ti و Ri هي اندوسيبونات في البكتيريا والتي بدورها تكون متجانسة او طفيليات للنبات المصاب\n",
      "  Prediction: ما هي العناصر التي تساهم بشكل طبيعي في الاقتران بين المملكة؟\n",
      "  Ground Truth: ما هي الباطن الداخلية للبكتيريا\n",
      "------------\n",
      "Example 20:\n",
      "  Context (Input): المومسوم هو حجرة المعدة الرابعة والاخيرة في المجترات وهو مكافئ وثيق لمعدة احادية المعدة مثل تلك الموجودة في البشر او الخنازير وتتم معالجة ديجتا هنا بنفس الطريقة الى حد كبير وهو يعمل في المقام الاول كموقع للتحلل الحمضي للبروتين الميكروبي والغذائي واعداد مصادر البروتين هذه لمزيد من الهضم والامتصاص في الامعاء الدقيقة يتم نقل ديجتا اخيرا الى الامعاء الدقيقة حيث يحدث هضم وامتصاص العناصر الغذائية كما يتم هضم الميكروبات المنتجة في شبكية الكرش في الامعاء الدقيقة\n",
      "  Prediction: ما هي حجرة المعدة الرابعة والاخيرة في المجترات؟\n",
      "  Ground Truth: ما المقصورة الرابعة والاخيرة من المعدة في الحيوانات المجترة\n",
      "------------\n",
      "BLEU Score: 0.2704\n"
     ]
    }
   ],
   "source": [
    "predictions = []\n",
    "true_labels = []\n",
    "contexts = []\n",
    "\n",
    "for example in test_processed[20:40]:\n",
    "    input_ids = example[\"input_ids\"].unsqueeze(0).to(device)\n",
    "    attention_mask = example[\"attention_mask\"].unsqueeze(0).to(device)\n",
    "\n",
    "    # Decode the input context\n",
    "    context_text = tokenizer.decode(example[\"input_ids\"], skip_special_tokens=True)\n",
    "    contexts.append(context_text)\n",
    "\n",
    "    # Extract the true label (ground truth)\n",
    "    true_label_ids = example[\"labels\"]\n",
    "    true_label_text = tokenizer.decode(true_label_ids, skip_special_tokens=True)\n",
    "    true_labels.append(true_label_text)\n",
    "\n",
    "    # Generate prediction\n",
    "    with torch.no_grad():\n",
    "        output_ids = model.generate(\n",
    "            input_ids=input_ids,\n",
    "            attention_mask=attention_mask,\n",
    "            max_length=512,\n",
    "            do_sample = True,\n",
    "            # num_beams=5,\n",
    "            # length_penalty=2.0,  # Increase length preference\n",
    "            top_p = 0.9,\n",
    "            temperature = 0.7,\n",
    "            num_return_sequences = 5,\n",
    "            early_stopping=True\n",
    "        )\n",
    "\n",
    "    predicted_text = tokenizer.decode(output_ids[0], skip_special_tokens=True) # try False\n",
    "    predictions.append(predicted_text)\n",
    "\n",
    "# Print some sample results\n",
    "for i, (context, pred, true) in enumerate(zip(contexts[:], predictions[:], true_labels[:])):\n",
    "    print(f\"Example {i+1}:\")\n",
    "    print(f\"  Context (Input): {context}\")\n",
    "    print(f\"  Prediction: {pred}\")\n",
    "    print(f\"  Ground Truth: {true}\")\n",
    "    print(\"------------\")\n",
    "\n",
    "# Compute BLEU score\n",
    "bleu_scores = [sentence_bleu([true.split()], pred.split()) for true, pred in zip(true_labels, predictions)]\n",
    "average_bleu = sum(bleu_scores) / len(bleu_scores)\n",
    "\n",
    "print(f\"BLEU Score: {average_bleu:.4f}\")"
   ]
  }
 ],
 "metadata": {
  "accelerator": "GPU",
  "colab": {
   "gpuType": "T4",
   "provenance": [],
   "toc_visible": true
  },
  "kaggle": {
   "accelerator": "nvidiaTeslaT4",
   "dataSources": [
    {
     "datasetId": 6581115,
     "sourceId": 10629051,
     "sourceType": "datasetVersion"
    },
    {
     "datasetId": 6623945,
     "sourceId": 10690581,
     "sourceType": "datasetVersion"
    },
    {
     "datasetId": 6654858,
     "sourceId": 10733306,
     "sourceType": "datasetVersion"
    },
    {
     "modelId": 237687,
     "modelInstanceId": 215966,
     "sourceId": 252593,
     "sourceType": "modelInstanceVersion"
    },
    {
     "modelId": 237695,
     "modelInstanceId": 215972,
     "sourceId": 252600,
     "sourceType": "modelInstanceVersion"
    },
    {
     "modelId": 237793,
     "modelInstanceId": 216055,
     "sourceId": 252685,
     "sourceType": "modelInstanceVersion"
    },
    {
     "modelId": 238976,
     "modelInstanceId": 217258,
     "sourceId": 254103,
     "sourceType": "modelInstanceVersion"
    },
    {
     "isSourceIdPinned": true,
     "modelId": 241314,
     "modelInstanceId": 219557,
     "sourceId": 256856,
     "sourceType": "modelInstanceVersion"
    }
   ],
   "dockerImageVersionId": 30840,
   "isGpuEnabled": true,
   "isInternetEnabled": true,
   "language": "python",
   "sourceType": "notebook"
  },
  "kernelspec": {
   "display_name": "Python 3",
   "language": "python",
   "name": "python3"
  },
  "language_info": {
   "codemirror_mode": {
    "name": "ipython",
    "version": 3
   },
   "file_extension": ".py",
   "mimetype": "text/x-python",
   "name": "python",
   "nbconvert_exporter": "python",
   "pygments_lexer": "ipython3",
   "version": "3.10.12"
  }
 },
 "nbformat": 4,
 "nbformat_minor": 4
}
