{
 "cells": [
  {
   "cell_type": "markdown",
   "metadata": {},
   "source": [
    "# Libraries"
   ]
  },
  {
   "cell_type": "code",
   "execution_count": 6,
   "metadata": {},
   "outputs": [],
   "source": [
    "import re\n",
    "import torch\n",
    "import numpy as np\n",
    "import pandas as pd\n",
    "import tokenizers\n",
    "from nltk.corpus import stopwords\n",
    "from transformers import T5ForConditionalGeneration, Trainer, TrainingArguments, AutoTokenizer, T5Tokenizer\n",
    "from sklearn.model_selection import train_test_split"
   ]
  },
  {
   "cell_type": "markdown",
   "metadata": {},
   "source": [
    "# Reading Data"
   ]
  },
  {
   "cell_type": "code",
   "execution_count": 7,
   "metadata": {},
   "outputs": [],
   "source": [
    "df_squad = pd.read_excel('Arabic squad/Arabic-SQuAD.xlsx')\n",
    "df_arcd = pd.read_excel('ARCD/arcd-train.xlsx')\n",
    "df_tydiqa = pd.read_csv('tydiqa/tydiqa-arabic.csv')\n",
    "df_mlqa = pd.read_excel('MLQA/MLQA-dev-context-ar-question-ar.xlsx')"
   ]
  },
  {
   "cell_type": "markdown",
   "metadata": {},
   "source": [
    "# Data Overview"
   ]
  },
  {
   "cell_type": "code",
   "execution_count": 8,
   "metadata": {},
   "outputs": [
    {
     "data": {
      "text/html": [
       "<div>\n",
       "<style scoped>\n",
       "    .dataframe tbody tr th:only-of-type {\n",
       "        vertical-align: middle;\n",
       "    }\n",
       "\n",
       "    .dataframe tbody tr th {\n",
       "        vertical-align: top;\n",
       "    }\n",
       "\n",
       "    .dataframe thead th {\n",
       "        text-align: right;\n",
       "    }\n",
       "</style>\n",
       "<table border=\"1\" class=\"dataframe\">\n",
       "  <thead>\n",
       "    <tr style=\"text-align: right;\">\n",
       "      <th></th>\n",
       "      <th>id</th>\n",
       "      <th>question</th>\n",
       "      <th>context</th>\n",
       "      <th>answers</th>\n",
       "      <th>c_id</th>\n",
       "    </tr>\n",
       "  </thead>\n",
       "  <tbody>\n",
       "    <tr>\n",
       "      <th>0</th>\n",
       "      <td>570bce516b8089140040fa42</td>\n",
       "      <td>ما هو ASCII على أساس؟</td>\n",
       "      <td>يعتمد ASCII أساس ا على الأبجدية الإنجليزية ، و...</td>\n",
       "      <td>[{'text': 'الأبجدية الإنجليزية', 'answer_start...</td>\n",
       "      <td>0</td>\n",
       "    </tr>\n",
       "    <tr>\n",
       "      <th>1</th>\n",
       "      <td>570bce516b8089140040fa43</td>\n",
       "      <td>كم شخصيات محددة موجودة في كود ASCII؟</td>\n",
       "      <td>يعتمد ASCII أساس ا على الأبجدية الإنجليزية ، و...</td>\n",
       "      <td>[{'text': '128 حرف ا محدد', 'answer_start': 58}]</td>\n",
       "      <td>0</td>\n",
       "    </tr>\n",
       "    <tr>\n",
       "      <th>2</th>\n",
       "      <td>570bce516b8089140040fa44</td>\n",
       "      <td>كم عدد أحرف التحكم غير الطباعة؟</td>\n",
       "      <td>يعتمد ASCII أساس ا على الأبجدية الإنجليزية ، و...</td>\n",
       "      <td>[{'text': '33 حرف ا تحكم ا غير الطباعة', 'answ...</td>\n",
       "      <td>0</td>\n",
       "    </tr>\n",
       "    <tr>\n",
       "      <th>3</th>\n",
       "      <td>570bce516b8089140040fa45</td>\n",
       "      <td>كم شخصيات قابلة للطباعة؟</td>\n",
       "      <td>يعتمد ASCII أساس ا على الأبجدية الإنجليزية ، و...</td>\n",
       "      <td>[{'text': '95 حرف ا قابلا للطباعة', 'answer_st...</td>\n",
       "      <td>0</td>\n",
       "    </tr>\n",
       "    <tr>\n",
       "      <th>4</th>\n",
       "      <td>570bce516b8089140040fa46</td>\n",
       "      <td>ما هو الفضاء المعروف أيضا باسم ماذا؟</td>\n",
       "      <td>يعتمد ASCII أساس ا على الأبجدية الإنجليزية ، و...</td>\n",
       "      <td>[{'text': 'رسم ا غير مرئي 223', 'answer_start'...</td>\n",
       "      <td>0</td>\n",
       "    </tr>\n",
       "  </tbody>\n",
       "</table>\n",
       "</div>"
      ],
      "text/plain": [
       "                         id                              question  \\\n",
       "0  570bce516b8089140040fa42                 ما هو ASCII على أساس؟   \n",
       "1  570bce516b8089140040fa43  كم شخصيات محددة موجودة في كود ASCII؟   \n",
       "2  570bce516b8089140040fa44       كم عدد أحرف التحكم غير الطباعة؟   \n",
       "3  570bce516b8089140040fa45              كم شخصيات قابلة للطباعة؟   \n",
       "4  570bce516b8089140040fa46  ما هو الفضاء المعروف أيضا باسم ماذا؟   \n",
       "\n",
       "                                             context  \\\n",
       "0  يعتمد ASCII أساس ا على الأبجدية الإنجليزية ، و...   \n",
       "1  يعتمد ASCII أساس ا على الأبجدية الإنجليزية ، و...   \n",
       "2  يعتمد ASCII أساس ا على الأبجدية الإنجليزية ، و...   \n",
       "3  يعتمد ASCII أساس ا على الأبجدية الإنجليزية ، و...   \n",
       "4  يعتمد ASCII أساس ا على الأبجدية الإنجليزية ، و...   \n",
       "\n",
       "                                             answers  c_id  \n",
       "0  [{'text': 'الأبجدية الإنجليزية', 'answer_start...     0  \n",
       "1   [{'text': '128 حرف ا محدد', 'answer_start': 58}]     0  \n",
       "2  [{'text': '33 حرف ا تحكم ا غير الطباعة', 'answ...     0  \n",
       "3  [{'text': '95 حرف ا قابلا للطباعة', 'answer_st...     0  \n",
       "4  [{'text': 'رسم ا غير مرئي 223', 'answer_start'...     0  "
      ]
     },
     "execution_count": 8,
     "metadata": {},
     "output_type": "execute_result"
    }
   ],
   "source": [
    "df_squad.head()"
   ]
  },
  {
   "cell_type": "code",
   "execution_count": 9,
   "metadata": {},
   "outputs": [
    {
     "data": {
      "text/plain": [
       "(48344, 5)"
      ]
     },
     "execution_count": 9,
     "metadata": {},
     "output_type": "execute_result"
    }
   ],
   "source": [
    "df_squad.shape"
   ]
  },
  {
   "cell_type": "code",
   "execution_count": 10,
   "metadata": {},
   "outputs": [
    {
     "data": {
      "text/html": [
       "<div>\n",
       "<style scoped>\n",
       "    .dataframe tbody tr th:only-of-type {\n",
       "        vertical-align: middle;\n",
       "    }\n",
       "\n",
       "    .dataframe tbody tr th {\n",
       "        vertical-align: top;\n",
       "    }\n",
       "\n",
       "    .dataframe thead th {\n",
       "        text-align: right;\n",
       "    }\n",
       "</style>\n",
       "<table border=\"1\" class=\"dataframe\">\n",
       "  <thead>\n",
       "    <tr style=\"text-align: right;\">\n",
       "      <th></th>\n",
       "      <th>id</th>\n",
       "      <th>question</th>\n",
       "      <th>context</th>\n",
       "      <th>answers</th>\n",
       "      <th>c_id</th>\n",
       "    </tr>\n",
       "  </thead>\n",
       "  <tbody>\n",
       "    <tr>\n",
       "      <th>0</th>\n",
       "      <td>969331847966</td>\n",
       "      <td>- من هو جمال أحمد حمزة خاشقجي؟</td>\n",
       "      <td>جمال أحمد حمزة خاشقجي (13 أكتوبر 1958، المدينة...</td>\n",
       "      <td>[{'text': 'صحفي وإعلامي', 'answer_start': 73}]</td>\n",
       "      <td>0</td>\n",
       "    </tr>\n",
       "    <tr>\n",
       "      <th>1</th>\n",
       "      <td>115150665555</td>\n",
       "      <td>- متى ولد جمال أحمد حمزة خاشقجي وتوفي؟ ال</td>\n",
       "      <td>جمال أحمد حمزة خاشقجي (13 أكتوبر 1958، المدينة...</td>\n",
       "      <td>[{'text': 'حمزة خاشقجي (13 أكتوبر 1958، المدين...</td>\n",
       "      <td>0</td>\n",
       "    </tr>\n",
       "    <tr>\n",
       "      <th>2</th>\n",
       "      <td>74212080718</td>\n",
       "      <td>- في أي مدينة ولد جمال أحمد حمزة خاشقجي؟ ال</td>\n",
       "      <td>جمال أحمد حمزة خاشقجي (13 أكتوبر 1958، المدينة...</td>\n",
       "      <td>[{'text': 'المدينة المنورة', 'answer_start': 39}]</td>\n",
       "      <td>0</td>\n",
       "    </tr>\n",
       "    <tr>\n",
       "      <th>3</th>\n",
       "      <td>465699296586</td>\n",
       "      <td>- في أي صحيفة قام بكتابة عمود منذ عام 2017؟ ال</td>\n",
       "      <td>جمال أحمد حمزة خاشقجي (13 أكتوبر 1958، المدينة...</td>\n",
       "      <td>[{'text': 'واشنطن بوست', 'answer_start': 224}]</td>\n",
       "      <td>1</td>\n",
       "    </tr>\n",
       "    <tr>\n",
       "      <th>4</th>\n",
       "      <td>564177542570</td>\n",
       "      <td>- كيف وصفها في الصحف ووسائل الإعلام الدولية؟ ال</td>\n",
       "      <td>جمال أحمد حمزة خاشقجي (13 أكتوبر 1958، المدينة...</td>\n",
       "      <td>[{'text': 'وُصف في الصحف وأجهزة الاعلام العالم...</td>\n",
       "      <td>1</td>\n",
       "    </tr>\n",
       "  </tbody>\n",
       "</table>\n",
       "</div>"
      ],
      "text/plain": [
       "             id                                          question  \\\n",
       "0  969331847966                   - من هو جمال أحمد حمزة خاشقجي؟    \n",
       "1  115150665555         - متى ولد جمال أحمد حمزة خاشقجي وتوفي؟ ال   \n",
       "2   74212080718       - في أي مدينة ولد جمال أحمد حمزة خاشقجي؟ ال   \n",
       "3  465699296586    - في أي صحيفة قام بكتابة عمود منذ عام 2017؟ ال   \n",
       "4  564177542570   - كيف وصفها في الصحف ووسائل الإعلام الدولية؟ ال   \n",
       "\n",
       "                                             context  \\\n",
       "0  جمال أحمد حمزة خاشقجي (13 أكتوبر 1958، المدينة...   \n",
       "1  جمال أحمد حمزة خاشقجي (13 أكتوبر 1958، المدينة...   \n",
       "2  جمال أحمد حمزة خاشقجي (13 أكتوبر 1958، المدينة...   \n",
       "3  جمال أحمد حمزة خاشقجي (13 أكتوبر 1958، المدينة...   \n",
       "4  جمال أحمد حمزة خاشقجي (13 أكتوبر 1958، المدينة...   \n",
       "\n",
       "                                             answers  c_id  \n",
       "0     [{'text': 'صحفي وإعلامي', 'answer_start': 73}]     0  \n",
       "1  [{'text': 'حمزة خاشقجي (13 أكتوبر 1958، المدين...     0  \n",
       "2  [{'text': 'المدينة المنورة', 'answer_start': 39}]     0  \n",
       "3     [{'text': 'واشنطن بوست', 'answer_start': 224}]     1  \n",
       "4  [{'text': 'وُصف في الصحف وأجهزة الاعلام العالم...     1  "
      ]
     },
     "execution_count": 10,
     "metadata": {},
     "output_type": "execute_result"
    }
   ],
   "source": [
    "df_arcd.head()"
   ]
  },
  {
   "cell_type": "code",
   "execution_count": 11,
   "metadata": {},
   "outputs": [
    {
     "data": {
      "text/plain": [
       "(693, 5)"
      ]
     },
     "execution_count": 11,
     "metadata": {},
     "output_type": "execute_result"
    }
   ],
   "source": [
    "df_arcd.shape"
   ]
  },
  {
   "cell_type": "code",
   "execution_count": 12,
   "metadata": {},
   "outputs": [
    {
     "data": {
      "text/html": [
       "<div>\n",
       "<style scoped>\n",
       "    .dataframe tbody tr th:only-of-type {\n",
       "        vertical-align: middle;\n",
       "    }\n",
       "\n",
       "    .dataframe tbody tr th {\n",
       "        vertical-align: top;\n",
       "    }\n",
       "\n",
       "    .dataframe thead th {\n",
       "        text-align: right;\n",
       "    }\n",
       "</style>\n",
       "<table border=\"1\" class=\"dataframe\">\n",
       "  <thead>\n",
       "    <tr style=\"text-align: right;\">\n",
       "      <th></th>\n",
       "      <th>id</th>\n",
       "      <th>question</th>\n",
       "      <th>context</th>\n",
       "      <th>answers</th>\n",
       "      <th>c_id</th>\n",
       "    </tr>\n",
       "  </thead>\n",
       "  <tbody>\n",
       "    <tr>\n",
       "      <th>0</th>\n",
       "      <td>arabic-2387335860751143628-1</td>\n",
       "      <td>كم عدد مرات فوز الأوروغواي ببطولة كاس العالم ل...</td>\n",
       "      <td>أقيمت البطولة 21 مرة، شارك في النهائيات 78 دول...</td>\n",
       "      <td>[{'text': 'بطولتين', 'answer_start': 394}]</td>\n",
       "      <td>0</td>\n",
       "    </tr>\n",
       "    <tr>\n",
       "      <th>1</th>\n",
       "      <td>arabic--3358420169913421088-0</td>\n",
       "      <td>من هو مكتشف المرو أو الكوارتز ؟</td>\n",
       "      <td>المرو أو الكوارتز  هو معدن يعود اكتشافه إلى ال...</td>\n",
       "      <td>[{'text': '(بيير كوري) وأخوه (جاك)', 'answer_s...</td>\n",
       "      <td>1</td>\n",
       "    </tr>\n",
       "    <tr>\n",
       "      <th>2</th>\n",
       "      <td>arabic-6869798435672288559-0</td>\n",
       "      <td>كيف يتصل الجنين بالرحم ؟</td>\n",
       "      <td>المَشِيمَة أو الخَلاَص أو السُخْد (بالإنجليزي...</td>\n",
       "      <td>[{'text': 'عن طريق الحبل السري', 'answer_start...</td>\n",
       "      <td>2</td>\n",
       "    </tr>\n",
       "    <tr>\n",
       "      <th>3</th>\n",
       "      <td>arabic-1608369850259830544-0</td>\n",
       "      <td>ما هي المَشِيمَة أو الخَلاَص أو السُخْد؟</td>\n",
       "      <td>المَشِيمَة أو الخَلاَص أو السُخْد (بالإنجليزي...</td>\n",
       "      <td>[{'text': 'عضو دائري مسطح الشكل يتصل بالجنين ع...</td>\n",
       "      <td>2</td>\n",
       "    </tr>\n",
       "    <tr>\n",
       "      <th>4</th>\n",
       "      <td>arabic--7165672200361826550-0</td>\n",
       "      <td>أين يقع مسجد السلطان عبد المجيد؟</td>\n",
       "      <td>مسجد السلطان عبد المجيد، هو مسجد أثري تاريخي ف...</td>\n",
       "      <td>[{'text': 'مدينة جبيل اللبنانية', 'answer_star...</td>\n",
       "      <td>3</td>\n",
       "    </tr>\n",
       "  </tbody>\n",
       "</table>\n",
       "</div>"
      ],
      "text/plain": [
       "                              id  \\\n",
       "0   arabic-2387335860751143628-1   \n",
       "1  arabic--3358420169913421088-0   \n",
       "2   arabic-6869798435672288559-0   \n",
       "3   arabic-1608369850259830544-0   \n",
       "4  arabic--7165672200361826550-0   \n",
       "\n",
       "                                            question  \\\n",
       "0  كم عدد مرات فوز الأوروغواي ببطولة كاس العالم ل...   \n",
       "1                    من هو مكتشف المرو أو الكوارتز ؟   \n",
       "2                           كيف يتصل الجنين بالرحم ؟   \n",
       "3           ما هي المَشِيمَة أو الخَلاَص أو السُخْد؟   \n",
       "4                   أين يقع مسجد السلطان عبد المجيد؟   \n",
       "\n",
       "                                             context  \\\n",
       "0  أقيمت البطولة 21 مرة، شارك في النهائيات 78 دول...   \n",
       "1  المرو أو الكوارتز  هو معدن يعود اكتشافه إلى ال...   \n",
       "2   المَشِيمَة أو الخَلاَص أو السُخْد (بالإنجليزي...   \n",
       "3   المَشِيمَة أو الخَلاَص أو السُخْد (بالإنجليزي...   \n",
       "4  مسجد السلطان عبد المجيد، هو مسجد أثري تاريخي ف...   \n",
       "\n",
       "                                             answers  c_id  \n",
       "0         [{'text': 'بطولتين', 'answer_start': 394}]     0  \n",
       "1  [{'text': '(بيير كوري) وأخوه (جاك)', 'answer_s...     1  \n",
       "2  [{'text': 'عن طريق الحبل السري', 'answer_start...     2  \n",
       "3  [{'text': 'عضو دائري مسطح الشكل يتصل بالجنين ع...     2  \n",
       "4  [{'text': 'مدينة جبيل اللبنانية', 'answer_star...     3  "
      ]
     },
     "execution_count": 12,
     "metadata": {},
     "output_type": "execute_result"
    }
   ],
   "source": [
    "df_tydiqa.head()"
   ]
  },
  {
   "cell_type": "code",
   "execution_count": 13,
   "metadata": {},
   "outputs": [
    {
     "data": {
      "text/plain": [
       "(921, 5)"
      ]
     },
     "execution_count": 13,
     "metadata": {},
     "output_type": "execute_result"
    }
   ],
   "source": [
    "df_tydiqa.shape"
   ]
  },
  {
   "cell_type": "code",
   "execution_count": 14,
   "metadata": {},
   "outputs": [
    {
     "data": {
      "text/html": [
       "<div>\n",
       "<style scoped>\n",
       "    .dataframe tbody tr th:only-of-type {\n",
       "        vertical-align: middle;\n",
       "    }\n",
       "\n",
       "    .dataframe tbody tr th {\n",
       "        vertical-align: top;\n",
       "    }\n",
       "\n",
       "    .dataframe thead th {\n",
       "        text-align: right;\n",
       "    }\n",
       "</style>\n",
       "<table border=\"1\" class=\"dataframe\">\n",
       "  <thead>\n",
       "    <tr style=\"text-align: right;\">\n",
       "      <th></th>\n",
       "      <th>id</th>\n",
       "      <th>question</th>\n",
       "      <th>context</th>\n",
       "      <th>answers</th>\n",
       "      <th>c_id</th>\n",
       "    </tr>\n",
       "  </thead>\n",
       "  <tbody>\n",
       "    <tr>\n",
       "      <th>0</th>\n",
       "      <td>569666f4dc3983dab5624e989212c1d9d0cd1798</td>\n",
       "      <td>هل تزول الإصابة بمرض ذبابة الرمال عبر الوقت؟</td>\n",
       "      <td>تنتقل حمى الفواصد عن طريق لدغات حشرات من جنس ا...</td>\n",
       "      <td>[{'text': 'وتبقى مصابة بالفيروس مدى حياتها', '...</td>\n",
       "      <td>0</td>\n",
       "    </tr>\n",
       "    <tr>\n",
       "      <th>1</th>\n",
       "      <td>561971f7978f678c3d1ba2a946036cdc131c4d49</td>\n",
       "      <td>ما الذي يتكون بالكامل تقريبا من خلايا نسيجية؟</td>\n",
       "      <td>تعد خلايا متن النبات خلايا حية لديها وظائف متن...</td>\n",
       "      <td>[{'text': 'الأوراق', 'answer_start': 194}]</td>\n",
       "      <td>1</td>\n",
       "    </tr>\n",
       "    <tr>\n",
       "      <th>2</th>\n",
       "      <td>60ee75c50c8472be7cce1a24ee2cd7409ee4dd52</td>\n",
       "      <td>ما اسم نوع الخيوط الذي يحتوي على أجزاء من الكرفس؟</td>\n",
       "      <td>خلايا النسيج الغروي - تعيش خلايا النسيج الغروي...</td>\n",
       "      <td>[{'text': 'النسيج الغروي.', 'answer_start': 11...</td>\n",
       "      <td>2</td>\n",
       "    </tr>\n",
       "    <tr>\n",
       "      <th>3</th>\n",
       "      <td>6a636c91f7733165c92ed84864debf6bdbdf7d16</td>\n",
       "      <td>ما هو ناتج تميز الخلايا النباتية؟</td>\n",
       "      <td>تختلف الطبقات الرئيسية من الخلايا عن الخلايا ا...</td>\n",
       "      <td>[{'text': 'هياكل أنسجة الجذور والسيقان والأورا...</td>\n",
       "      <td>3</td>\n",
       "    </tr>\n",
       "    <tr>\n",
       "      <th>4</th>\n",
       "      <td>18a5c05701b7359fcd32a379b2ac4a9a5d7544de</td>\n",
       "      <td>أي نوع من النباتات يحتوي على النسيج الوعائي ال...</td>\n",
       "      <td>تكون خلايا النسيج الوعائي الخشبي  خلايا مطولةً...</td>\n",
       "      <td>[{'text': 'تراشيوفيت', 'answer_start': 320}]</td>\n",
       "      <td>4</td>\n",
       "    </tr>\n",
       "  </tbody>\n",
       "</table>\n",
       "</div>"
      ],
      "text/plain": [
       "                                         id  \\\n",
       "0  569666f4dc3983dab5624e989212c1d9d0cd1798   \n",
       "1  561971f7978f678c3d1ba2a946036cdc131c4d49   \n",
       "2  60ee75c50c8472be7cce1a24ee2cd7409ee4dd52   \n",
       "3  6a636c91f7733165c92ed84864debf6bdbdf7d16   \n",
       "4  18a5c05701b7359fcd32a379b2ac4a9a5d7544de   \n",
       "\n",
       "                                            question  \\\n",
       "0       هل تزول الإصابة بمرض ذبابة الرمال عبر الوقت؟   \n",
       "1      ما الذي يتكون بالكامل تقريبا من خلايا نسيجية؟   \n",
       "2  ما اسم نوع الخيوط الذي يحتوي على أجزاء من الكرفس؟   \n",
       "3                  ما هو ناتج تميز الخلايا النباتية؟   \n",
       "4  أي نوع من النباتات يحتوي على النسيج الوعائي ال...   \n",
       "\n",
       "                                             context  \\\n",
       "0  تنتقل حمى الفواصد عن طريق لدغات حشرات من جنس ا...   \n",
       "1  تعد خلايا متن النبات خلايا حية لديها وظائف متن...   \n",
       "2  خلايا النسيج الغروي - تعيش خلايا النسيج الغروي...   \n",
       "3  تختلف الطبقات الرئيسية من الخلايا عن الخلايا ا...   \n",
       "4  تكون خلايا النسيج الوعائي الخشبي  خلايا مطولةً...   \n",
       "\n",
       "                                             answers  c_id  \n",
       "0  [{'text': 'وتبقى مصابة بالفيروس مدى حياتها', '...     0  \n",
       "1         [{'text': 'الأوراق', 'answer_start': 194}]     1  \n",
       "2  [{'text': 'النسيج الغروي.', 'answer_start': 11...     2  \n",
       "3  [{'text': 'هياكل أنسجة الجذور والسيقان والأورا...     3  \n",
       "4       [{'text': 'تراشيوفيت', 'answer_start': 320}]     4  "
      ]
     },
     "execution_count": 14,
     "metadata": {},
     "output_type": "execute_result"
    }
   ],
   "source": [
    "df_mlqa.head()"
   ]
  },
  {
   "cell_type": "code",
   "execution_count": 15,
   "metadata": {},
   "outputs": [
    {
     "data": {
      "text/plain": [
       "(517, 5)"
      ]
     },
     "execution_count": 15,
     "metadata": {},
     "output_type": "execute_result"
    }
   ],
   "source": [
    "df_mlqa.shape"
   ]
  },
  {
   "cell_type": "code",
   "execution_count": null,
   "metadata": {},
   "outputs": [
    {
     "name": "stdout",
     "output_type": "stream",
     "text": [
      "<class 'pandas.core.frame.DataFrame'>\n",
      "RangeIndex: 48344 entries, 0 to 48343\n",
      "Data columns (total 5 columns):\n",
      " #   Column    Non-Null Count  Dtype \n",
      "---  ------    --------------  ----- \n",
      " 0   id        48344 non-null  object\n",
      " 1   question  48344 non-null  object\n",
      " 2   context   48344 non-null  object\n",
      " 3   answers   48344 non-null  object\n",
      " 4   c_id      48344 non-null  int64 \n",
      "dtypes: int64(1), object(4)\n",
      "memory usage: 1.8+ MB\n"
     ]
    }
   ],
   "source": [
    "df_squad.info()"
   ]
  },
  {
   "cell_type": "code",
   "execution_count": 17,
   "metadata": {},
   "outputs": [
    {
     "name": "stdout",
     "output_type": "stream",
     "text": [
      "<class 'pandas.core.frame.DataFrame'>\n",
      "RangeIndex: 693 entries, 0 to 692\n",
      "Data columns (total 5 columns):\n",
      " #   Column    Non-Null Count  Dtype \n",
      "---  ------    --------------  ----- \n",
      " 0   id        693 non-null    int64 \n",
      " 1   question  693 non-null    object\n",
      " 2   context   693 non-null    object\n",
      " 3   answers   693 non-null    object\n",
      " 4   c_id      693 non-null    int64 \n",
      "dtypes: int64(2), object(3)\n",
      "memory usage: 27.2+ KB\n"
     ]
    }
   ],
   "source": [
    "df_arcd.info()"
   ]
  },
  {
   "cell_type": "code",
   "execution_count": 18,
   "metadata": {},
   "outputs": [
    {
     "name": "stdout",
     "output_type": "stream",
     "text": [
      "<class 'pandas.core.frame.DataFrame'>\n",
      "RangeIndex: 921 entries, 0 to 920\n",
      "Data columns (total 5 columns):\n",
      " #   Column    Non-Null Count  Dtype \n",
      "---  ------    --------------  ----- \n",
      " 0   id        921 non-null    object\n",
      " 1   question  921 non-null    object\n",
      " 2   context   921 non-null    object\n",
      " 3   answers   921 non-null    object\n",
      " 4   c_id      921 non-null    int64 \n",
      "dtypes: int64(1), object(4)\n",
      "memory usage: 36.1+ KB\n"
     ]
    }
   ],
   "source": [
    "df_tydiqa.info()"
   ]
  },
  {
   "cell_type": "code",
   "execution_count": 19,
   "metadata": {},
   "outputs": [
    {
     "name": "stdout",
     "output_type": "stream",
     "text": [
      "<class 'pandas.core.frame.DataFrame'>\n",
      "RangeIndex: 517 entries, 0 to 516\n",
      "Data columns (total 5 columns):\n",
      " #   Column    Non-Null Count  Dtype \n",
      "---  ------    --------------  ----- \n",
      " 0   id        517 non-null    object\n",
      " 1   question  517 non-null    object\n",
      " 2   context   517 non-null    object\n",
      " 3   answers   517 non-null    object\n",
      " 4   c_id      517 non-null    int64 \n",
      "dtypes: int64(1), object(4)\n",
      "memory usage: 20.3+ KB\n"
     ]
    }
   ],
   "source": [
    "df_mlqa.info()"
   ]
  },
  {
   "cell_type": "markdown",
   "metadata": {},
   "source": [
    "# Removing id column"
   ]
  },
  {
   "cell_type": "code",
   "execution_count": 20,
   "metadata": {},
   "outputs": [],
   "source": [
    "# TODO: Removing ids column in all datasets"
   ]
  },
  {
   "cell_type": "code",
   "execution_count": 21,
   "metadata": {},
   "outputs": [],
   "source": [
    "df_squad.drop('id', axis=1, inplace=True)"
   ]
  },
  {
   "cell_type": "code",
   "execution_count": null,
   "metadata": {},
   "outputs": [
    {
     "name": "stdout",
     "output_type": "stream",
     "text": [
      "<class 'pandas.core.frame.DataFrame'>\n",
      "RangeIndex: 48344 entries, 0 to 48343\n",
      "Data columns (total 4 columns):\n",
      " #   Column    Non-Null Count  Dtype \n",
      "---  ------    --------------  ----- \n",
      " 0   question  48344 non-null  object\n",
      " 1   context   48344 non-null  object\n",
      " 2   answers   48344 non-null  object\n",
      " 3   c_id      48344 non-null  int64 \n",
      "dtypes: int64(1), object(3)\n",
      "memory usage: 1.5+ MB\n"
     ]
    }
   ],
   "source": [
    "df_squad.info()"
   ]
  },
  {
   "cell_type": "code",
   "execution_count": 23,
   "metadata": {},
   "outputs": [
    {
     "data": {
      "text/html": [
       "<div>\n",
       "<style scoped>\n",
       "    .dataframe tbody tr th:only-of-type {\n",
       "        vertical-align: middle;\n",
       "    }\n",
       "\n",
       "    .dataframe tbody tr th {\n",
       "        vertical-align: top;\n",
       "    }\n",
       "\n",
       "    .dataframe thead th {\n",
       "        text-align: right;\n",
       "    }\n",
       "</style>\n",
       "<table border=\"1\" class=\"dataframe\">\n",
       "  <thead>\n",
       "    <tr style=\"text-align: right;\">\n",
       "      <th></th>\n",
       "      <th>question</th>\n",
       "      <th>context</th>\n",
       "      <th>answers</th>\n",
       "      <th>c_id</th>\n",
       "    </tr>\n",
       "  </thead>\n",
       "  <tbody>\n",
       "    <tr>\n",
       "      <th>0</th>\n",
       "      <td>ما هو ASCII على أساس؟</td>\n",
       "      <td>يعتمد ASCII أساس ا على الأبجدية الإنجليزية ، و...</td>\n",
       "      <td>[{'text': 'الأبجدية الإنجليزية', 'answer_start...</td>\n",
       "      <td>0</td>\n",
       "    </tr>\n",
       "    <tr>\n",
       "      <th>1</th>\n",
       "      <td>كم شخصيات محددة موجودة في كود ASCII؟</td>\n",
       "      <td>يعتمد ASCII أساس ا على الأبجدية الإنجليزية ، و...</td>\n",
       "      <td>[{'text': '128 حرف ا محدد', 'answer_start': 58}]</td>\n",
       "      <td>0</td>\n",
       "    </tr>\n",
       "    <tr>\n",
       "      <th>2</th>\n",
       "      <td>كم عدد أحرف التحكم غير الطباعة؟</td>\n",
       "      <td>يعتمد ASCII أساس ا على الأبجدية الإنجليزية ، و...</td>\n",
       "      <td>[{'text': '33 حرف ا تحكم ا غير الطباعة', 'answ...</td>\n",
       "      <td>0</td>\n",
       "    </tr>\n",
       "    <tr>\n",
       "      <th>3</th>\n",
       "      <td>كم شخصيات قابلة للطباعة؟</td>\n",
       "      <td>يعتمد ASCII أساس ا على الأبجدية الإنجليزية ، و...</td>\n",
       "      <td>[{'text': '95 حرف ا قابلا للطباعة', 'answer_st...</td>\n",
       "      <td>0</td>\n",
       "    </tr>\n",
       "    <tr>\n",
       "      <th>4</th>\n",
       "      <td>ما هو الفضاء المعروف أيضا باسم ماذا؟</td>\n",
       "      <td>يعتمد ASCII أساس ا على الأبجدية الإنجليزية ، و...</td>\n",
       "      <td>[{'text': 'رسم ا غير مرئي 223', 'answer_start'...</td>\n",
       "      <td>0</td>\n",
       "    </tr>\n",
       "    <tr>\n",
       "      <th>5</th>\n",
       "      <td>لماذا تم ترميز الرمز بحيث تكون معظم الرموز معًا؟</td>\n",
       "      <td>تم تزيين الرمز نفسه بحيث تكون معظم رموز التحكم...</td>\n",
       "      <td>[{'text': 'لسهولة تحديد الهوية', 'answer_start...</td>\n",
       "      <td>1</td>\n",
       "    </tr>\n",
       "    <tr>\n",
       "      <th>6</th>\n",
       "      <td>كم عدد المراكز في العمودين الأولين؟</td>\n",
       "      <td>تم تزيين الرمز نفسه بحيث تكون معظم رموز التحكم...</td>\n",
       "      <td>[{'text': '32 موضع', 'answer_start': 128}]</td>\n",
       "      <td>1</td>\n",
       "    </tr>\n",
       "    <tr>\n",
       "      <th>7</th>\n",
       "      <td>ما الذي قررت اللجنة أنه مهم؟</td>\n",
       "      <td>تم تزيين الرمز نفسه بحيث تكون معظم رموز التحكم...</td>\n",
       "      <td>[{'text': 'دعم الأحرف الهجائية الكبيرة المكونة...</td>\n",
       "      <td>1</td>\n",
       "    </tr>\n",
       "    <tr>\n",
       "      <th>8</th>\n",
       "      <td>أين كان الحرف ألف يضع في الموقف؟</td>\n",
       "      <td>تم تزيين الرمز نفسه بحيث تكون معظم رموز التحكم...</td>\n",
       "      <td>[{'text': '41hex', 'answer_start': 757}]</td>\n",
       "      <td>1</td>\n",
       "    </tr>\n",
       "    <tr>\n",
       "      <th>9</th>\n",
       "      <td>تم دمج ASCII في ما مجموعة الأحرف الأخرى؟</td>\n",
       "      <td>تم دمج ASCII في مجموعة أحرف ونيكودي كأول 128 ر...</td>\n",
       "      <td>[{'text': 'ونيكودي', 'answer_start': 28}]</td>\n",
       "      <td>2</td>\n",
       "    </tr>\n",
       "  </tbody>\n",
       "</table>\n",
       "</div>"
      ],
      "text/plain": [
       "                                           question  \\\n",
       "0                             ما هو ASCII على أساس؟   \n",
       "1              كم شخصيات محددة موجودة في كود ASCII؟   \n",
       "2                   كم عدد أحرف التحكم غير الطباعة؟   \n",
       "3                          كم شخصيات قابلة للطباعة؟   \n",
       "4              ما هو الفضاء المعروف أيضا باسم ماذا؟   \n",
       "5  لماذا تم ترميز الرمز بحيث تكون معظم الرموز معًا؟   \n",
       "6               كم عدد المراكز في العمودين الأولين؟   \n",
       "7                      ما الذي قررت اللجنة أنه مهم؟   \n",
       "8                  أين كان الحرف ألف يضع في الموقف؟   \n",
       "9          تم دمج ASCII في ما مجموعة الأحرف الأخرى؟   \n",
       "\n",
       "                                             context  \\\n",
       "0  يعتمد ASCII أساس ا على الأبجدية الإنجليزية ، و...   \n",
       "1  يعتمد ASCII أساس ا على الأبجدية الإنجليزية ، و...   \n",
       "2  يعتمد ASCII أساس ا على الأبجدية الإنجليزية ، و...   \n",
       "3  يعتمد ASCII أساس ا على الأبجدية الإنجليزية ، و...   \n",
       "4  يعتمد ASCII أساس ا على الأبجدية الإنجليزية ، و...   \n",
       "5  تم تزيين الرمز نفسه بحيث تكون معظم رموز التحكم...   \n",
       "6  تم تزيين الرمز نفسه بحيث تكون معظم رموز التحكم...   \n",
       "7  تم تزيين الرمز نفسه بحيث تكون معظم رموز التحكم...   \n",
       "8  تم تزيين الرمز نفسه بحيث تكون معظم رموز التحكم...   \n",
       "9  تم دمج ASCII في مجموعة أحرف ونيكودي كأول 128 ر...   \n",
       "\n",
       "                                             answers  c_id  \n",
       "0  [{'text': 'الأبجدية الإنجليزية', 'answer_start...     0  \n",
       "1   [{'text': '128 حرف ا محدد', 'answer_start': 58}]     0  \n",
       "2  [{'text': '33 حرف ا تحكم ا غير الطباعة', 'answ...     0  \n",
       "3  [{'text': '95 حرف ا قابلا للطباعة', 'answer_st...     0  \n",
       "4  [{'text': 'رسم ا غير مرئي 223', 'answer_start'...     0  \n",
       "5  [{'text': 'لسهولة تحديد الهوية', 'answer_start...     1  \n",
       "6         [{'text': '32 موضع', 'answer_start': 128}]     1  \n",
       "7  [{'text': 'دعم الأحرف الهجائية الكبيرة المكونة...     1  \n",
       "8           [{'text': '41hex', 'answer_start': 757}]     1  \n",
       "9          [{'text': 'ونيكودي', 'answer_start': 28}]     2  "
      ]
     },
     "execution_count": 23,
     "metadata": {},
     "output_type": "execute_result"
    }
   ],
   "source": [
    "df_squad.head(10)"
   ]
  },
  {
   "cell_type": "markdown",
   "metadata": {},
   "source": [
    "# try1"
   ]
  },
  {
   "cell_type": "markdown",
   "metadata": {},
   "source": [
    "tried to make something but found out it is the same as the original data"
   ]
  },
  {
   "cell_type": "code",
   "execution_count": 24,
   "metadata": {},
   "outputs": [],
   "source": [
    "# # Assign a unique question_id to each question\n",
    "# df_squad['question_id'] = df_squad.index\n",
    "\n",
    "# # Function to get the context and its associated question_ids\n",
    "# def get_context_question_ids(df):\n",
    "#     grouped = df.groupby('c_id').agg(\n",
    "#         context=('context', 'first'),\n",
    "#         question_ids=('question_id', list)\n",
    "#     ).reset_index()\n",
    "#     return grouped\n",
    "\n",
    "# # Generate the new DataFrame\n",
    "# C_Q_df = get_context_question_ids(df_squad)"
   ]
  },
  {
   "cell_type": "code",
   "execution_count": 25,
   "metadata": {},
   "outputs": [],
   "source": [
    "# C_Q_df.head(15)"
   ]
  },
  {
   "cell_type": "code",
   "execution_count": 26,
   "metadata": {},
   "outputs": [],
   "source": [
    "# # Create a function to get the assigned questions\n",
    "# def get_assigned_questions(df, c_id):\n",
    "#     filtered = df[df['c_id'] == c_id]\n",
    "#     Q = filtered['question'].tolist()\n",
    "#     A = filtered['answers'].tolist()\n",
    "#     return Q, A\n"
   ]
  },
  {
   "cell_type": "code",
   "execution_count": 27,
   "metadata": {},
   "outputs": [],
   "source": [
    "# training_data = []\n",
    "\n",
    "# for _, row in C_Q_df.iterrows():\n",
    "#     context = row['context']\n",
    "#     question_ids = row['question_ids']\n",
    "    \n",
    "#     # For each question_id in the context, fetch the corresponding question\n",
    "#     for question_id in question_ids:\n",
    "#         question = df_squad.loc[df_squad['question_id'] == question_id, 'question'].values[0]\n",
    "#         training_data.append({\n",
    "#             'context': context,\n",
    "#             'question': question,\n",
    "#             'answers': df_squad.loc[df_squad['question_id'] == question_id, 'answers'].values[0]\n",
    "#         })\n",
    "        \n",
    "# training_df = pd.DataFrame(training_data)"
   ]
  },
  {
   "cell_type": "code",
   "execution_count": 28,
   "metadata": {},
   "outputs": [],
   "source": [
    "# training_df.head(15)"
   ]
  },
  {
   "cell_type": "code",
   "execution_count": 29,
   "metadata": {},
   "outputs": [],
   "source": [
    "# TODO: Arrange all data frames by their c_id column, to make same context after each other"
   ]
  },
  {
   "cell_type": "code",
   "execution_count": 30,
   "metadata": {},
   "outputs": [],
   "source": [
    "# TODO: Combine all datasets as they already contain the same columns (pd.concat([df1, df2], ignore_index=True))"
   ]
  },
  {
   "cell_type": "markdown",
   "metadata": {},
   "source": [
    "# Text Preprocessing"
   ]
  },
  {
   "cell_type": "markdown",
   "metadata": {},
   "source": [
    "## text cleaning functions"
   ]
  },
  {
   "cell_type": "markdown",
   "metadata": {},
   "source": [
    "### Normalization"
   ]
  },
  {
   "cell_type": "code",
   "execution_count": 31,
   "metadata": {},
   "outputs": [],
   "source": [
    "def remove_diacritics(text):\n",
    "    # remove diacritics from the text as it may confuse the model\n",
    "    return re.sub(r'[\\u0617-\\u061A\\u064B-\\u0652]', '', text)\n"
   ]
  },
  {
   "cell_type": "markdown",
   "metadata": {},
   "source": [
    "### Text cleaning"
   ]
  },
  {
   "cell_type": "code",
   "execution_count": 32,
   "metadata": {},
   "outputs": [],
   "source": [
    "def remove_non_arabic(text):\n",
    "    # Remove non-Arabic characters, keeping essential punctuation\n",
    "    text = re.sub(r'[^\\u0600-\\u06FF\\s؟]', '', text)\n",
    "    return text"
   ]
  },
  {
   "cell_type": "code",
   "execution_count": 33,
   "metadata": {},
   "outputs": [],
   "source": [
    "def remove_punk(text):\n",
    "    # Remove punctuation\n",
    "    arabic_punctuation = r'[،؛؟…!\"#$%&\\'()*+,-./:;<=>@^_`{|}~]'\n",
    "    text = re.sub(arabic_punctuation, '', text)\n",
    "    return text"
   ]
  },
  {
   "cell_type": "code",
   "execution_count": 34,
   "metadata": {},
   "outputs": [],
   "source": [
    "def remove_extra_spaces(text):\n",
    "    # Remove extra spaces\n",
    "    text = re.sub(r'\\s+', ' ', text).strip()\n",
    "    return text"
   ]
  },
  {
   "cell_type": "code",
   "execution_count": 35,
   "metadata": {},
   "outputs": [],
   "source": [
    "def remove_alef_variations(text):\n",
    "    text = re.sub(r'[إأٱآ]', 'ا', text)\n",
    "    return text"
   ]
  },
  {
   "cell_type": "markdown",
   "metadata": {},
   "source": [
    "### Handling numbers"
   ]
  },
  {
   "cell_type": "code",
   "execution_count": 36,
   "metadata": {},
   "outputs": [],
   "source": [
    "def handle_numbers(text, replace_with=None):\n",
    "    if replace_with:\n",
    "        text = re.sub(r'\\d+', replace_with, text)\n",
    "    else:\n",
    "        text = re.sub(r'\\d+', '', text)\n",
    "    return text"
   ]
  },
  {
   "cell_type": "markdown",
   "metadata": {},
   "source": [
    "## Stop word removal"
   ]
  },
  {
   "cell_type": "code",
   "execution_count": 37,
   "metadata": {},
   "outputs": [
    {
     "name": "stderr",
     "output_type": "stream",
     "text": [
      "[nltk_data] Downloading package stopwords to\n",
      "[nltk_data]     C:\\Users\\Mohammed237\\AppData\\Roaming\\nltk_data...\n",
      "[nltk_data]   Package stopwords is already up-to-date!\n"
     ]
    },
    {
     "data": {
      "text/plain": [
       "True"
      ]
     },
     "execution_count": 37,
     "metadata": {},
     "output_type": "execute_result"
    }
   ],
   "source": [
    "import nltk\n",
    "nltk.download('stopwords')"
   ]
  },
  {
   "cell_type": "code",
   "execution_count": 38,
   "metadata": {},
   "outputs": [
    {
     "name": "stdout",
     "output_type": "stream",
     "text": [
      "{'أولاء', 'تعلَّم', 'ديسمبر', 'ذ', 'لسنا', 'إذما', 'لها', 'سبحان', 'سمعا', 'ته', 'خاصة', 'لبيك', 'لعلَّ', 'غداة', 'علًّ', 'جعل', 'أطعم', 'أنتن', 'شتان', 'إياها', 'أربعمئة', 'بعد', 'درى', 'حدَث', 'همزة', 'آض', 'عما', 'نفس', 'هيا', 'هذان', 'بل', 'إلا', 'أكثر', 'إحدى', 'ز', 'نحن', 'أبو', 'أبدا', 'شيكل', 'بعض', 'فيم', 'فيه', 'باء', 'دال', 'خلافا', 'أ', 'ذينك', 'أقبل', 'هلّا', 'فلا', 'ل', 'تارة', 'تَيْنِ', 'ءَ', 'سرا', 'بؤسا', 'فضلا', 'ذان', 'خمسون', 'كانون', 'صار', 'راح', 'حيَّ', 'ماذا', 'قد', 'تِه', 'الذين', 'نحو', 'اللذان', 'ومن', 'آهٍ', 'كذلك', 'أيلول', 'فيفري', 'حسب', 'بين', 'لكي', 'حرى', 'منها', 'وراءَك', 'قلما', 'مائة', 'تفعلين', 'سوف', 'آناء', 'تسعمئة', 'ساء', 'لمّا', 'بنا', 'هي', 'لئن', 'فيها', 'تجاه', 'كى', 'بهن', 'كليكما', 'اثنا', 'به', 'له', 'معاذ', 'كأنما', 'الذي', 'كاف', 'كأيّن', 'بات', 'لك', 'ذَيْنِ', 'أفريل', 'إلّا', 'أعلم', 'إليكما', 'أعطى', 'أنبأ', 'ص', 'هاتين', 'تعسا', 'ثم', 'عامة', 'إياي', 'ثاني', 'كلا', 'كسا', 'خلا', 'متى', 'لدى', 'نَخْ', 'نبَّا', 'ثمانين', 'ذال', 'تسعين', 'أوت', 'مافتئ', 'حبيب', 'ضاد', 'هاكَ', 'كما', 'إياكما', 'حار', 'فو', 'غ', 'قبل', 'بطآن', 'أل', 'عن', 'آهِ', 'هذا', 'ظاء', 'ثاء', 'عسى', 'ميم', 'خال', 'ه', 'واهاً', 'هما', 'رُبَّ', 'ها', 'قام', 'أربعمائة', 'فمن', 'بي', 'تحوّل', 'ما', 'هَذَيْنِ', 'أنتِ', 'إزاء', 'مساء', 'ليرة', 'ليت', 'ثلاثة', 'كأن', 'ثمّة', 'عدا', 'صبر', 'ذين', 'حاي', 'إنَّ', 'حزيران', 'أي', 'اللاتي', 'ذانك', 'ثالث', 'بمن', 'إليك', 'الألى', 'وإذا', 'هَاتَيْنِ', 'بكما', 'آهاً', 'ث', 'الآن', 'والذي', 'عاشر', 'بكم', 'ر', 'فيما', 'حجا', 'إياكن', 'بما', 'مرّة', 'اثني', 'أوه', 'اللائي', 'لدن', 'قاف', 'ما أفعله', 'أمام', 'بس', 'ثمَّ', 'كأي', 'ذِي', 'فبراير', 'ذه', 'بها', 'هَيْهات', 'ذاك', 'هذي', 'مليم', 'تي', 'هل', 'اثنان', 'يفعلان', 'ما برح', 'في', 'منه', 'مكانَك', 'صهٍ', 'أجل', 'ذا', 'وما', 'ترك', 'هَؤلاء', 'سابع', 'ض', 'ي', 'حَذارِ', 'ّأيّان', 'أولئك', 'آذار', 'أى', 'ذلكما', 'غين', 'أغسطس', 'علق', 'كن', 'سبعمئة', 'وإن', 'ثمّ', 'صاد', 'حيث', 'ثلاثمائة', 'على', 'ليسوا', 'أما', 'تسعون', 'ذلكن', 'كأين', 'حمدا', 'هنا', 'م', 'نيسان', 'هاتان', 'إيانا', 'هَذِه', 'جلل', 'ثمنمئة', 'عاد', 'هَذِي', 'قرش', 'هبّ', 'إن', 'ذلك', 'تسعمائة', 'أبٌ', 'بخٍ', 'أصبح', 'كرب', 'جويلية', 'ثماني', 'يناير', 'ذهب', 'إمّا', 'ولكن', 'لام', 'وا', 'غير', 'انقلب', 'تفعلان', 'ج', 'بَسْ', 'ذواتا', 'أفعل به', 'تسعة', 'ح', 'كلتا', 'ليست', 'مه', 'إياهما', 'ورد', 'أخبر', 'نَّ', 'مادام', 'تحت', 'ذي', 'لا', 'إليكم', 'ذوا', 'ظنَّ', 'مذ', 'أربعاء', 'بئس', 'دونك', 'علم', 'أنت', 'تانِك', 'اللذين', 'ثمانون', 'ذانِ', 'هنالك', 'ثان', 'عَدَسْ', 'تاسع', 'جميع', 'عشرون', 'أوشك', 'رابع', 'هيت', 'هكذا', 'آنفا', 'سقى', 'لي', 'عند', 'لهن', 'درهم', 'واحد', 'ليس', 'سحقا', 'هؤلاء', 'بكن', 'شين', 'سوى', 'غدا', 'مئة', 'ئ', 'بهم', 'حاء', 'غادر', 'شرع', 'هاتي', 'شبه', 'أنًّ', 'إنه', 'كذا', 'انبرى', 'أنّى', 'أف', 'ابتدأ', 'و', 'فوق', 'تموز', 'رأى', 'آه', 'ذات', 'هيهات', 'نوفمبر', 'تينك', 'لما', 'أمد', 'بهما', 'تشرين', 'أسكن', 'غالبا', 'سبعون', 'إي', 'سادس', 'إياهن', 'ع', 'ثلاثاء', 'سبت', 'والذين', 'لم', 'لهما', 'لست', 'حاشا', 'إياهم', 'بغتة', 'حقا', 'تبدّل', 'أحد', 'صباح', 'اخلولق', 'لنا', 'شمال', 'فلس', 'سبتمبر', 'لات', 'مكانكما', 'ثلاثمئة', 'وجد', 'هاته', 'خمسين', 'ارتدّ', 'هن', 'ذلكم', 'إيهٍ', 'نيف', 'أضحى', 'أنتم', 'مازال', 'شباط', 'مارس', 'دون', 'هناك', 'ما انفك', 'إذ', 'صبرا', 'ن', 'بَلْهَ', 'ضحوة', 'آب', 'مما', 'اللتين', 'إنا', 'أمّا', 'هاهنا', 'حمٌ', 'لكم', 'أمس', 'أكتوبر', 'تسع', 'عين', 'تِي', 'طفق', 'ست', 'ب', 'اتخذ', 'أنتما', 'خامس', 'ياء', 'ظ', 'ريث', 'ثلاث', 'يوليو', 'جانفي', 'أيضا', 'أمامكَ', 'كيف', 'إما', 'لوما', 'جيم', 'أم', 'كيت', 'لكيلا', 'تفعلون', 'عليك', 'رجع', 'ثلاثون', 'بسّ', 'طاء', 'هَجْ', 'أينما', 'ذِه', 'ألا', 'أيّ', 'ستمئة', 'أبريل', 'أمسى', 'دينار', 'هَذانِ', 'ش', 'مئتان', 'أربعة', 'عشرة', 'هَاتِه', 'أرى', 'هاك', 'إيه', 'سبعة', 'أقل', 'ممن', 'فلان', 'ة', 'خمسمئة', 'ثلاثين', 'اللتان', 'لكنما', 'خميس', 'شَتَّانَ', 'مكانكم', 'ط', 'أو', 'خمسة', 'أوّهْ', 'لهم', 'عشر', 'وُشْكَانَ', 'صراحة', 'أولالك', 'كثيرا', 'طرا', 'طَق', 'ين', 'فاء', 'بعدا', 'تلك', 'جنيه', 'دولار', 'مثل', 'إلَيْكَ', 'حمو', 'ثمان', 'مكانكنّ', 'أيّان', 'هلا', 'عوض', 'لكنَّ', 'كيفما', 'ثمانمئة', 'آ', 'كِخ', 'رويدك', 'ثمانية', 'إليكنّ', 'آها', 'تخذ', 'هلم', 'كأنّ', 'منذ', 'سبعمائة', 'سنتيم', 'مع', 'ألف', 'ولا', 'كل', 'ف', 'اثنين', 'أنا', 'تلكم', 'عليه', 'ت', 'هيّا', 'كان', 'بك', 'عشرين', 'ذو', 'كليهما', 'أجمع', 'لعل', 'هو', 'أخذ', 'آمينَ', 'يمين', 'وهب', 'نا', 'راء', 'اربعين', 'ماي', 'بلى', 'كأيّ', 'هَذا', 'هللة', 'لاسيما', 'يفعلون', 'عدَّ', 'هذين', 'ليسا', 'حادي', 'خلف', 'سبعين', 'سين', 'نعم', 'شتانَ', 'حتى', 'كي', 'هذه', 'أفٍّ', 'ظلّ', 'ليستا', 'ثمة', 'ء', 'بضع', 'أول', 'الألاء', 'ق', 'يا', 'إى', 'مهما', 'إذاً', 'أيا', 'جوان', 'أمامك', 'إليكَ', 'صهْ', 'ريال', 'ثامن', 'يونيو', 'صدقا', 'لستن', 'بخ', 'خاء', 'إليكن', 'تلكما', 'اربعون', 'إذا', 'ستمائة', 'لسن', 'قطّ', 'تين', 'لكن', 'عيانا', 'هم', 'زود', 'كلّما', 'إذن', 'أنشأ', 'بماذا', 'نون', 'هَاتانِ', 'أيار', 'فرادى', 'حين', 'أخو', 'س', 'أنى', 'أهلا', 'لن', 'لولا', 'تاء', 'زعم', 'أخٌ', 'إياك', 'ستة', 'ا', 'فإن', 'لا سيما', 'واو', 'سبع', 'يوان', 'وهو', 'جير', 'د', 'عل', 'يورو', 'لستم', 'طالما', 'عجبا', 'دواليك', 'تلقاء', 'ى', 'وَيْ', 'مايو', 'قاطبة', 'أن', 'أيها', 'ستون', 'بيد', 'أربع', 'ذواتي', 'تانِ', 'ولو', 'كاد', 'هاء', 'إياه', 'خمس', 'لكما', 'لو', 'جمعة', 'اللتيا', 'ؤ', 'استحال', 'طاق', 'إنما', 'ك', 'كم', 'فإذا', 'كلاهما', 'خ', 'ألفى', 'أُفٍّ', 'ستين', 'أصلا', 'آي', 'زاي', 'رزق', 'ذيت', 'لعمر', 'من', 'خبَّر', 'حيثما', 'أين', 'هَاتِي', 'كلما', 'سرعان', 'إلى', 'كلَّا', 'اللواتي', 'التي', 'حبذا', 'خمسمائة', 'لستما', 'وإذ', 'إياكم'}\n"
     ]
    }
   ],
   "source": [
    "stop_words = set(stopwords.words('arabic'))\n",
    "print(stop_words)"
   ]
  },
  {
   "cell_type": "code",
   "execution_count": 39,
   "metadata": {},
   "outputs": [],
   "source": [
    "def remove_stop_words(text):\n",
    "    words = text.split()\n",
    "    filtered_words = [word for word in words if word not in stop_words]\n",
    "    return ' '.join(filtered_words)"
   ]
  },
  {
   "cell_type": "markdown",
   "metadata": {},
   "source": [
    "## Sentence splitting"
   ]
  },
  {
   "cell_type": "code",
   "execution_count": 40,
   "metadata": {},
   "outputs": [],
   "source": [
    "def split_sentences(text):\n",
    "    sentences = re.split(r'[؟.!؟]', text)\n",
    "    # Remove empty sentences and strip spaces\n",
    "    return [sentence.strip() for sentence in sentences if sentence.strip()]"
   ]
  },
  {
   "cell_type": "markdown",
   "metadata": {},
   "source": [
    "## Remove additional spaces between letters"
   ]
  },
  {
   "cell_type": "code",
   "execution_count": 41,
   "metadata": {},
   "outputs": [],
   "source": [
    "def fix_arabic_spacing(text):\n",
    "    # Reconnect ا to the previous word if it is fully isolated\n",
    "    text = re.sub(r'(\\S)\\s+ا\\s+', r'\\1ا ', text)\n",
    "    \n",
    "    # Reconnect أ and ي to the next word if they are fully isolated\n",
    "    text = re.sub(r'\\s+أ\\s+(\\S)', r' أ\\1', text)\n",
    "    text = re.sub(r'\\s+ي\\s+(\\S)', r' ي\\1', text)\n",
    "    \n",
    "    # Normalize spaces (remove extra spaces)\n",
    "    text = remove_extra_spaces(text)\n",
    "    \n",
    "    return text"
   ]
  },
  {
   "attachments": {
    "image.png": {
     "image/png": "[encoded data removed]"
    }
   },
   "cell_type": "markdown",
   "metadata": {},
   "source": [
    "![image.png](attachment:image.png)"
   ]
  },
  {
   "cell_type": "markdown",
   "metadata": {},
   "source": [
    "## Tokenization"
   ]
  },
  {
   "cell_type": "code",
   "execution_count": 42,
   "metadata": {},
   "outputs": [
    {
     "name": "stdout",
     "output_type": "stream",
     "text": [
      "SentencePiece version: 0.2.0\n"
     ]
    }
   ],
   "source": [
    "import sentencepiece\n",
    "print(\"SentencePiece version:\", sentencepiece.__version__)"
   ]
  },
  {
   "cell_type": "code",
   "execution_count": 43,
   "metadata": {},
   "outputs": [
    {
     "name": "stderr",
     "output_type": "stream",
     "text": [
      "You are using the default legacy behaviour of the <class 'transformers.models.t5.tokenization_t5.T5Tokenizer'>. This is expected, and simply means that the `legacy` (previous) behavior will be used so nothing changes for you. If you want to use the new behaviour, set `legacy=False`. This should only be set if you understand what it means, and thoroughly read the reason why this was added as explained in https://github.com/huggingface/transformers/pull/24565\n"
     ]
    }
   ],
   "source": [
    "# Initialize T5 tokenizer\n",
    "tokenizer = T5Tokenizer.from_pretrained(\"t5-small\")"
   ]
  },
  {
   "cell_type": "code",
   "execution_count": 44,
   "metadata": {},
   "outputs": [
    {
     "name": "stdout",
     "output_type": "stream",
     "text": [
      "text after tokenize:  ['▁', 'هذا', '▁', 'نص', '▁', 'تجريبي']\n",
      "Token IDs (no padding): [3, 2, 3, 2, 3, 2, 1]\n",
      "Decoded Text: \n"
     ]
    }
   ],
   "source": [
    "# Example Arabic text\n",
    "text = \"هذا نص تجريبي\"\n",
    "\n",
    "# Tokenize the text\n",
    "encoded = tokenizer.tokenize(text)\n",
    "# encoded = tokenizer.convert_tokens_to_string(encoded)\n",
    "print(\"text after tokenize: \", encoded)\n",
    "\n",
    "# Tokenize the text without padding\n",
    "input_ids = tokenizer.encode(text, max_length=512, truncation=True, padding=False)\n",
    "print(\"Token IDs (no padding):\", input_ids)\n",
    "\n",
    "# Decode token IDs back to text (skip special tokens)\n",
    "decoded_text = tokenizer.decode(input_ids, skip_special_tokens=True)\n",
    "print(\"Decoded Text:\", decoded_text)"
   ]
  },
  {
   "cell_type": "code",
   "execution_count": 45,
   "metadata": {},
   "outputs": [
    {
     "name": "stdout",
     "output_type": "stream",
     "text": [
      "Tokens: ['▁', 'هذا', '▁', 'نص', '▁', 'تجريبي']\n",
      "Unknown Tokens: ['▁', '▁', '▁']\n",
      "Token: ▁, Token ID: 3\n",
      "Token: هذا, Token ID: 2\n",
      "Token: ▁, Token ID: 3\n",
      "Token: نص, Token ID: 2\n",
      "Token: ▁, Token ID: 3\n",
      "Token: تجريبي, Token ID: 2\n",
      "Vocabulary Size: 32100\n",
      "Token 'ه' NOT found in vocabulary.\n",
      "Token 'ذا' NOT found in vocabulary.\n",
      "Token 'نص' NOT found in vocabulary.\n",
      "Token 'تجريبي' NOT found in vocabulary.\n"
     ]
    }
   ],
   "source": [
    "arabic_text = \"هذا نص تجريبي\"\n",
    "tokens = tokenizer.tokenize(arabic_text)\n",
    "print(\"Tokens:\", tokens)\n",
    "\n",
    "# Check if any tokens are unknown\n",
    "unknown_tokens = [token for token in tokens if tokenizer.convert_tokens_to_ids(token) == 3]\n",
    "print(\"Unknown Tokens:\", unknown_tokens)\n",
    "\n",
    "for token in tokens:\n",
    "    token_id = tokenizer.convert_tokens_to_ids(token)\n",
    "    print(f\"Token: {token}, Token ID: {token_id}\")\n",
    "    \n",
    "vocab = tokenizer.get_vocab()\n",
    "print(\"Vocabulary Size:\", len(vocab))\n",
    "\n",
    "# Check if some Arabic tokens exist in the vocabulary\n",
    "arabic_tokens = [\"ه\", \"ذا\", \"نص\", \"تجريبي\"]\n",
    "for token in arabic_tokens:\n",
    "    if token in vocab:\n",
    "        print(f\"Token '{token}' found in vocabulary with ID: {vocab[token]}\")\n",
    "    else:\n",
    "        print(f\"Token '{token}' NOT found in vocabulary.\")"
   ]
  },
  {
   "cell_type": "markdown",
   "metadata": {},
   "source": [
    "after trying t5 tokenizer (small), it seems that this model has not trained enough on arabic words, it doesn't recognize it"
   ]
  },
  {
   "cell_type": "code",
   "execution_count": 46,
   "metadata": {},
   "outputs": [
    {
     "name": "stderr",
     "output_type": "stream",
     "text": [
      "The tokenizer class you load from this checkpoint is not the same type as the class this function is called from. It may result in unexpected tokenization. \n",
      "The tokenizer class you load from this checkpoint is 'T5Tokenizer'. \n",
      "The class this function is called from is 'MT5Tokenizer'.\n",
      "You are using the default legacy behaviour of the <class 'transformers.models.mt5.tokenization_mt5.MT5Tokenizer'>. This is expected, and simply means that the `legacy` (previous) behavior will be used so nothing changes for you. If you want to use the new behaviour, set `legacy=False`. This should only be set if you understand what it means, and thoroughly read the reason why this was added as explained in https://github.com/huggingface/transformers/pull/24565\n"
     ]
    },
    {
     "name": "stdout",
     "output_type": "stream",
     "text": [
      "Arabic Bert Tokens: ['هذا', 'نص', 'تجريبي']\n",
      "T5 Tokens: ['▁', 'هذا', '▁نص', '▁تجر', 'يبي']\n",
      "Arabic Bert Token IDs: [33, 387, 1170, 7928, 34]\n",
      "T5 Token IDs: [259, 2820, 14165, 136419, 93460, 1]\n",
      "Arabic Bert Decoded Text: هذا نص تجريبي\n",
      "T5 Decoded Text: هذا نص تجريبي\n"
     ]
    }
   ],
   "source": [
    "from transformers import AutoTokenizer,MT5Tokenizer\n",
    "\n",
    "# Initialize AraBERT tokenizer\n",
    "arabert_tokenizer = AutoTokenizer.from_pretrained(\"aubmindlab/bert-base-arabertv2\")\n",
    "t5_mutli_tokenizer = MT5Tokenizer.from_pretrained(\"google/mt5-small\")\n",
    "\n",
    "# Example Arabic text\n",
    "arabic_text = \"هذا نص تجريبي\"\n",
    "\n",
    "# Tokenize the text\n",
    "araber_tokens = arabert_tokenizer.tokenize(arabic_text)\n",
    "t5_tokens = t5_mutli_tokenizer.tokenize(arabic_text)\n",
    "print(\"Arabic Bert Tokens:\", araber_tokens)\n",
    "print(\"T5 Tokens:\", t5_tokens)\n",
    "\n",
    "# Encode the text\n",
    "arabert_input_ids = arabert_tokenizer.encode(arabic_text, max_length=512, truncation=True, padding=False)\n",
    "t5_input_ids = t5_mutli_tokenizer.encode(arabic_text, max_length=512, truncation=True, padding=False)\n",
    "print(\"Arabic Bert Token IDs:\", arabert_input_ids)\n",
    "print(\"T5 Token IDs:\", t5_input_ids)\n",
    "\n",
    "# Decode token IDs back to text\n",
    "arabert_decoded_text = arabert_tokenizer.decode(arabert_input_ids, skip_special_tokens=True)\n",
    "t5_decoded_text = t5_mutli_tokenizer.decode(t5_input_ids, skip_special_tokens=True)\n",
    "print(\"Arabic Bert Decoded Text:\", arabert_decoded_text)\n",
    "print(\"T5 Decoded Text:\", t5_decoded_text)"
   ]
  },
  {
   "cell_type": "markdown",
   "metadata": {},
   "source": [
    "both models seems to be good at tokenizing the arabic, but arabic bert is better at tokenizing the words than T5 as it seems from the output "
   ]
  },
  {
   "cell_type": "code",
   "execution_count": 47,
   "metadata": {},
   "outputs": [],
   "source": [
    "# tokenizer = MT5Tokenizer.from_pretrained(\"google/mt5-small\")\n",
    "tokenizer = AutoTokenizer.from_pretrained(\"aubmindlab/bert-base-arabertv2\")"
   ]
  },
  {
   "cell_type": "code",
   "execution_count": 48,
   "metadata": {},
   "outputs": [],
   "source": [
    "def AraBert_tokenizer(text, max_length=512, padding=\"max_length\", truncation=True):\n",
    "    \n",
    "    tokenized_output = tokenizer(\n",
    "        text,\n",
    "        max_length=max_length,\n",
    "        padding=padding,\n",
    "        truncation=truncation,\n",
    "        return_tensors=\"pt\"  # Return PyTorch tensors\n",
    "    )\n",
    "    return tokenized_output"
   ]
  },
  {
   "cell_type": "markdown",
   "metadata": {},
   "source": [
    "## Apply Functions on the text"
   ]
  },
  {
   "cell_type": "code",
   "execution_count": 49,
   "metadata": {},
   "outputs": [
    {
     "data": {
      "text/html": [
       "<div>\n",
       "<style scoped>\n",
       "    .dataframe tbody tr th:only-of-type {\n",
       "        vertical-align: middle;\n",
       "    }\n",
       "\n",
       "    .dataframe tbody tr th {\n",
       "        vertical-align: top;\n",
       "    }\n",
       "\n",
       "    .dataframe thead th {\n",
       "        text-align: right;\n",
       "    }\n",
       "</style>\n",
       "<table border=\"1\" class=\"dataframe\">\n",
       "  <thead>\n",
       "    <tr style=\"text-align: right;\">\n",
       "      <th></th>\n",
       "      <th>question</th>\n",
       "      <th>context</th>\n",
       "      <th>answers</th>\n",
       "      <th>c_id</th>\n",
       "    </tr>\n",
       "  </thead>\n",
       "  <tbody>\n",
       "    <tr>\n",
       "      <th>0</th>\n",
       "      <td>ما هو ASCII على أساس؟</td>\n",
       "      <td>يعتمد ASCII أساس ا على الأبجدية الإنجليزية ، و...</td>\n",
       "      <td>[{'text': 'الأبجدية الإنجليزية', 'answer_start...</td>\n",
       "      <td>0</td>\n",
       "    </tr>\n",
       "    <tr>\n",
       "      <th>1</th>\n",
       "      <td>كم شخصيات محددة موجودة في كود ASCII؟</td>\n",
       "      <td>يعتمد ASCII أساس ا على الأبجدية الإنجليزية ، و...</td>\n",
       "      <td>[{'text': '128 حرف ا محدد', 'answer_start': 58}]</td>\n",
       "      <td>0</td>\n",
       "    </tr>\n",
       "    <tr>\n",
       "      <th>2</th>\n",
       "      <td>كم عدد أحرف التحكم غير الطباعة؟</td>\n",
       "      <td>يعتمد ASCII أساس ا على الأبجدية الإنجليزية ، و...</td>\n",
       "      <td>[{'text': '33 حرف ا تحكم ا غير الطباعة', 'answ...</td>\n",
       "      <td>0</td>\n",
       "    </tr>\n",
       "    <tr>\n",
       "      <th>3</th>\n",
       "      <td>كم شخصيات قابلة للطباعة؟</td>\n",
       "      <td>يعتمد ASCII أساس ا على الأبجدية الإنجليزية ، و...</td>\n",
       "      <td>[{'text': '95 حرف ا قابلا للطباعة', 'answer_st...</td>\n",
       "      <td>0</td>\n",
       "    </tr>\n",
       "    <tr>\n",
       "      <th>4</th>\n",
       "      <td>ما هو الفضاء المعروف أيضا باسم ماذا؟</td>\n",
       "      <td>يعتمد ASCII أساس ا على الأبجدية الإنجليزية ، و...</td>\n",
       "      <td>[{'text': 'رسم ا غير مرئي 223', 'answer_start'...</td>\n",
       "      <td>0</td>\n",
       "    </tr>\n",
       "    <tr>\n",
       "      <th>5</th>\n",
       "      <td>لماذا تم ترميز الرمز بحيث تكون معظم الرموز معًا؟</td>\n",
       "      <td>تم تزيين الرمز نفسه بحيث تكون معظم رموز التحكم...</td>\n",
       "      <td>[{'text': 'لسهولة تحديد الهوية', 'answer_start...</td>\n",
       "      <td>1</td>\n",
       "    </tr>\n",
       "    <tr>\n",
       "      <th>6</th>\n",
       "      <td>كم عدد المراكز في العمودين الأولين؟</td>\n",
       "      <td>تم تزيين الرمز نفسه بحيث تكون معظم رموز التحكم...</td>\n",
       "      <td>[{'text': '32 موضع', 'answer_start': 128}]</td>\n",
       "      <td>1</td>\n",
       "    </tr>\n",
       "    <tr>\n",
       "      <th>7</th>\n",
       "      <td>ما الذي قررت اللجنة أنه مهم؟</td>\n",
       "      <td>تم تزيين الرمز نفسه بحيث تكون معظم رموز التحكم...</td>\n",
       "      <td>[{'text': 'دعم الأحرف الهجائية الكبيرة المكونة...</td>\n",
       "      <td>1</td>\n",
       "    </tr>\n",
       "    <tr>\n",
       "      <th>8</th>\n",
       "      <td>أين كان الحرف ألف يضع في الموقف؟</td>\n",
       "      <td>تم تزيين الرمز نفسه بحيث تكون معظم رموز التحكم...</td>\n",
       "      <td>[{'text': '41hex', 'answer_start': 757}]</td>\n",
       "      <td>1</td>\n",
       "    </tr>\n",
       "    <tr>\n",
       "      <th>9</th>\n",
       "      <td>تم دمج ASCII في ما مجموعة الأحرف الأخرى؟</td>\n",
       "      <td>تم دمج ASCII في مجموعة أحرف ونيكودي كأول 128 ر...</td>\n",
       "      <td>[{'text': 'ونيكودي', 'answer_start': 28}]</td>\n",
       "      <td>2</td>\n",
       "    </tr>\n",
       "  </tbody>\n",
       "</table>\n",
       "</div>"
      ],
      "text/plain": [
       "                                           question  \\\n",
       "0                             ما هو ASCII على أساس؟   \n",
       "1              كم شخصيات محددة موجودة في كود ASCII؟   \n",
       "2                   كم عدد أحرف التحكم غير الطباعة؟   \n",
       "3                          كم شخصيات قابلة للطباعة؟   \n",
       "4              ما هو الفضاء المعروف أيضا باسم ماذا؟   \n",
       "5  لماذا تم ترميز الرمز بحيث تكون معظم الرموز معًا؟   \n",
       "6               كم عدد المراكز في العمودين الأولين؟   \n",
       "7                      ما الذي قررت اللجنة أنه مهم؟   \n",
       "8                  أين كان الحرف ألف يضع في الموقف؟   \n",
       "9          تم دمج ASCII في ما مجموعة الأحرف الأخرى؟   \n",
       "\n",
       "                                             context  \\\n",
       "0  يعتمد ASCII أساس ا على الأبجدية الإنجليزية ، و...   \n",
       "1  يعتمد ASCII أساس ا على الأبجدية الإنجليزية ، و...   \n",
       "2  يعتمد ASCII أساس ا على الأبجدية الإنجليزية ، و...   \n",
       "3  يعتمد ASCII أساس ا على الأبجدية الإنجليزية ، و...   \n",
       "4  يعتمد ASCII أساس ا على الأبجدية الإنجليزية ، و...   \n",
       "5  تم تزيين الرمز نفسه بحيث تكون معظم رموز التحكم...   \n",
       "6  تم تزيين الرمز نفسه بحيث تكون معظم رموز التحكم...   \n",
       "7  تم تزيين الرمز نفسه بحيث تكون معظم رموز التحكم...   \n",
       "8  تم تزيين الرمز نفسه بحيث تكون معظم رموز التحكم...   \n",
       "9  تم دمج ASCII في مجموعة أحرف ونيكودي كأول 128 ر...   \n",
       "\n",
       "                                             answers  c_id  \n",
       "0  [{'text': 'الأبجدية الإنجليزية', 'answer_start...     0  \n",
       "1   [{'text': '128 حرف ا محدد', 'answer_start': 58}]     0  \n",
       "2  [{'text': '33 حرف ا تحكم ا غير الطباعة', 'answ...     0  \n",
       "3  [{'text': '95 حرف ا قابلا للطباعة', 'answer_st...     0  \n",
       "4  [{'text': 'رسم ا غير مرئي 223', 'answer_start'...     0  \n",
       "5  [{'text': 'لسهولة تحديد الهوية', 'answer_start...     1  \n",
       "6         [{'text': '32 موضع', 'answer_start': 128}]     1  \n",
       "7  [{'text': 'دعم الأحرف الهجائية الكبيرة المكونة...     1  \n",
       "8           [{'text': '41hex', 'answer_start': 757}]     1  \n",
       "9          [{'text': 'ونيكودي', 'answer_start': 28}]     2  "
      ]
     },
     "execution_count": 49,
     "metadata": {},
     "output_type": "execute_result"
    }
   ],
   "source": [
    "df_squad.head(10)"
   ]
  },
  {
   "cell_type": "code",
   "execution_count": 50,
   "metadata": {},
   "outputs": [],
   "source": [
    "# TODO: 2 approaches to be taken on the datasets:\n",
    "#              1- apply the fixme changes to squad data\n",
    "#              Done\n",
    "#              2- try the nlp preprocessing techniques to the other datasets (arcd, tydiqa, mlqa) and see if there any problems in them"
   ]
  },
  {
   "cell_type": "markdown",
   "metadata": {},
   "source": [
    "### Questions column"
   ]
  },
  {
   "cell_type": "code",
   "execution_count": 51,
   "metadata": {},
   "outputs": [],
   "source": [
    "df_squad['processed_question'] = df_squad['question'].apply(remove_diacritics).apply(fix_arabic_spacing).apply(remove_extra_spaces).apply(remove_punk).apply(remove_alef_variations)"
   ]
  },
  {
   "cell_type": "markdown",
   "metadata": {},
   "source": [
    "* i tried to apply text clean function but i think it made some question not understandable"
   ]
  },
  {
   "cell_type": "code",
   "execution_count": 52,
   "metadata": {},
   "outputs": [
    {
     "data": {
      "text/plain": [
       "0                              ما هو ASCII على اساس\n",
       "1               كم شخصيات محددة موجودة في كود ASCII\n",
       "2                    كم عدد احرف التحكم غير الطباعة\n",
       "3                           كم شخصيات قابلة للطباعة\n",
       "4               ما هو الفضاء المعروف ايضا باسم ماذا\n",
       "5    لماذا تم ترميز الرمز بحيث تكون معظم الرموز معا\n",
       "6                كم عدد المراكز في العمودين الاولين\n",
       "7                       ما الذي قررت اللجنة انه مهم\n",
       "8                   اين كان الحرف الف يضع في الموقف\n",
       "9           تم دمج ASCII في ما مجموعة الاحرف الاخرى\n",
       "Name: processed_question, dtype: object"
      ]
     },
     "execution_count": 52,
     "metadata": {},
     "output_type": "execute_result"
    }
   ],
   "source": [
    "df_squad['processed_question'].head(10)"
   ]
  },
  {
   "cell_type": "code",
   "execution_count": 53,
   "metadata": {},
   "outputs": [],
   "source": [
    "## to check if there ? in every question or not\n",
    "# list = []\n",
    "# for i in range(len(df_squad['question'])):\n",
    "#     c = df_squad['question'][i].count('؟')\n",
    "#     list.append(c)\n",
    "#     # print(df_squad['question'][0])\n",
    "# list"
   ]
  },
  {
   "cell_type": "markdown",
   "metadata": {},
   "source": [
    "### Context column"
   ]
  },
  {
   "cell_type": "code",
   "execution_count": 54,
   "metadata": {},
   "outputs": [],
   "source": [
    "# TODO: First see what preprocessing techniques we will use for the text for questions, contexts, answers(only text cleaning(i think))\n",
    "# Done\n",
    "\n",
    "# FIXME: Squad data is cleaned from the diacritics and been replaced with space, how to fix:\n",
    "#           1- combine every ا to its previous word as the original word but some words may corrupt\n",
    "#           2- combine every ى and أ with next word when coming in first\n",
    "#           3- remove every alone character but this also maya corrupt some words as some words splitted from the diacritics (except for ب, ك and و)\n",
    "# Fixed "
   ]
  },
  {
   "cell_type": "code",
   "execution_count": 112,
   "metadata": {},
   "outputs": [],
   "source": [
    "# remove the extra spacing between letters problem\n",
    "df_squad['processed_context'] = df_squad['context'].apply(fix_arabic_spacing)"
   ]
  },
  {
   "cell_type": "code",
   "execution_count": 113,
   "metadata": {},
   "outputs": [],
   "source": [
    "# remove extra spaces between words\n",
    "df_squad['processed_context'] = df_squad['processed_context'].apply(remove_extra_spaces)"
   ]
  },
  {
   "cell_type": "code",
   "execution_count": 114,
   "metadata": {},
   "outputs": [],
   "source": [
    "# remove punctuation from words\n",
    "df_squad['processed_context'] = df_squad['processed_context'].apply(remove_punk)"
   ]
  },
  {
   "cell_type": "code",
   "execution_count": 115,
   "metadata": {},
   "outputs": [],
   "source": [
    "# remove Alef variation from contexts\n",
    "df_squad['processed_context'] = df_squad['processed_context'].apply(remove_alef_variations)"
   ]
  },
  {
   "cell_type": "code",
   "execution_count": 116,
   "metadata": {},
   "outputs": [
    {
     "data": {
      "text/plain": [
       "'ولانه كان من اتباع القضية المطلقة  فقد لعب اليو دورا مهما في قمع مؤيدي دستور عام 1812  ولهذا السبب  ق بض عليه في عام 1820 وتم اعدامه في عام 1822 من قبل جاروت  استمر الصراع بين الحكم المطلق والليبراليين  وفي فترة الحكم المحافظ الذي اطلق عليه العقد الشنيع 1823 1833  والذي اعقب ترينيو ليبرالي  كان هناك قمع لا يرحم من قبل القوات الحكومية ومحاكم التفتيش الكاثوليكية  اخر ضحية لمحاكمة التفتيش كان غيتا ريبولي  وهو مدرس متهم بكونه ربوبيا وماسون تم شنقه في فالنسيا عام 1824 '"
      ]
     },
     "execution_count": 116,
     "metadata": {},
     "output_type": "execute_result"
    }
   ],
   "source": [
    "df_squad['processed_context'][df_squad['c_id'] == 543].tolist()[0]"
   ]
  },
  {
   "cell_type": "code",
   "execution_count": 117,
   "metadata": {},
   "outputs": [],
   "source": [
    "unique_contexts_df = pd.DataFrame(df_squad['context'].unique().tolist(), columns=[\"unique context\"])\n",
    "unique_contexts_df.to_csv(\"unique_context.csv\", index=False, header=True)"
   ]
  },
  {
   "cell_type": "markdown",
   "metadata": {},
   "source": [
    "### Answers column"
   ]
  },
  {
   "cell_type": "code",
   "execution_count": 118,
   "metadata": {},
   "outputs": [],
   "source": [
    "df_squad['processed_answers'] = df_squad['answers'].apply(remove_diacritics).apply(fix_arabic_spacing).apply(remove_extra_spaces).apply(remove_punk).apply(remove_alef_variations)"
   ]
  },
  {
   "cell_type": "code",
   "execution_count": 119,
   "metadata": {},
   "outputs": [
    {
     "data": {
      "text/html": [
       "<div>\n",
       "<style scoped>\n",
       "    .dataframe tbody tr th:only-of-type {\n",
       "        vertical-align: middle;\n",
       "    }\n",
       "\n",
       "    .dataframe tbody tr th {\n",
       "        vertical-align: top;\n",
       "    }\n",
       "\n",
       "    .dataframe thead th {\n",
       "        text-align: right;\n",
       "    }\n",
       "</style>\n",
       "<table border=\"1\" class=\"dataframe\">\n",
       "  <thead>\n",
       "    <tr style=\"text-align: right;\">\n",
       "      <th></th>\n",
       "      <th>question</th>\n",
       "      <th>context</th>\n",
       "      <th>answers</th>\n",
       "      <th>c_id</th>\n",
       "      <th>processed_question</th>\n",
       "      <th>processed_context</th>\n",
       "      <th>processed_answers</th>\n",
       "    </tr>\n",
       "  </thead>\n",
       "  <tbody>\n",
       "    <tr>\n",
       "      <th>0</th>\n",
       "      <td>ما هو ASCII على أساس؟</td>\n",
       "      <td>يعتمد ASCII أساس ا على الأبجدية الإنجليزية ، و...</td>\n",
       "      <td>[{'text': 'الأبجدية الإنجليزية', 'answer_start...</td>\n",
       "      <td>0</td>\n",
       "      <td>ما هو ASCII على اساس</td>\n",
       "      <td>يعتمد ASCII اساسا على الابجدية الانجليزية  ويق...</td>\n",
       "      <td>[text الابجدية الانجليزية answerstart 23]</td>\n",
       "    </tr>\n",
       "    <tr>\n",
       "      <th>1</th>\n",
       "      <td>كم شخصيات محددة موجودة في كود ASCII؟</td>\n",
       "      <td>يعتمد ASCII أساس ا على الأبجدية الإنجليزية ، و...</td>\n",
       "      <td>[{'text': '128 حرف ا محدد', 'answer_start': 58}]</td>\n",
       "      <td>0</td>\n",
       "      <td>كم شخصيات محددة موجودة في كود ASCII</td>\n",
       "      <td>يعتمد ASCII اساسا على الابجدية الانجليزية  ويق...</td>\n",
       "      <td>[text 128 حرفا محدد answerstart 58]</td>\n",
       "    </tr>\n",
       "    <tr>\n",
       "      <th>2</th>\n",
       "      <td>كم عدد أحرف التحكم غير الطباعة؟</td>\n",
       "      <td>يعتمد ASCII أساس ا على الأبجدية الإنجليزية ، و...</td>\n",
       "      <td>[{'text': '33 حرف ا تحكم ا غير الطباعة', 'answ...</td>\n",
       "      <td>0</td>\n",
       "      <td>كم عدد احرف التحكم غير الطباعة</td>\n",
       "      <td>يعتمد ASCII اساسا على الابجدية الانجليزية  ويق...</td>\n",
       "      <td>[text 33 حرفا تحكما غير الطباعة answerstart 405]</td>\n",
       "    </tr>\n",
       "    <tr>\n",
       "      <th>3</th>\n",
       "      <td>كم شخصيات قابلة للطباعة؟</td>\n",
       "      <td>يعتمد ASCII أساس ا على الأبجدية الإنجليزية ، و...</td>\n",
       "      <td>[{'text': '95 حرف ا قابلا للطباعة', 'answer_st...</td>\n",
       "      <td>0</td>\n",
       "      <td>كم شخصيات قابلة للطباعة</td>\n",
       "      <td>يعتمد ASCII اساسا على الابجدية الانجليزية  ويق...</td>\n",
       "      <td>[text 95 حرفا قابلا للطباعة answerstart 494]</td>\n",
       "    </tr>\n",
       "    <tr>\n",
       "      <th>4</th>\n",
       "      <td>ما هو الفضاء المعروف أيضا باسم ماذا؟</td>\n",
       "      <td>يعتمد ASCII أساس ا على الأبجدية الإنجليزية ، و...</td>\n",
       "      <td>[{'text': 'رسم ا غير مرئي 223', 'answer_start'...</td>\n",
       "      <td>0</td>\n",
       "      <td>ما هو الفضاء المعروف ايضا باسم ماذا</td>\n",
       "      <td>يعتمد ASCII اساسا على الابجدية الانجليزية  ويق...</td>\n",
       "      <td>[text رسما غير مرئي 223 answerstart 550]</td>\n",
       "    </tr>\n",
       "  </tbody>\n",
       "</table>\n",
       "</div>"
      ],
      "text/plain": [
       "                               question  \\\n",
       "0                 ما هو ASCII على أساس؟   \n",
       "1  كم شخصيات محددة موجودة في كود ASCII؟   \n",
       "2       كم عدد أحرف التحكم غير الطباعة؟   \n",
       "3              كم شخصيات قابلة للطباعة؟   \n",
       "4  ما هو الفضاء المعروف أيضا باسم ماذا؟   \n",
       "\n",
       "                                             context  \\\n",
       "0  يعتمد ASCII أساس ا على الأبجدية الإنجليزية ، و...   \n",
       "1  يعتمد ASCII أساس ا على الأبجدية الإنجليزية ، و...   \n",
       "2  يعتمد ASCII أساس ا على الأبجدية الإنجليزية ، و...   \n",
       "3  يعتمد ASCII أساس ا على الأبجدية الإنجليزية ، و...   \n",
       "4  يعتمد ASCII أساس ا على الأبجدية الإنجليزية ، و...   \n",
       "\n",
       "                                             answers  c_id  \\\n",
       "0  [{'text': 'الأبجدية الإنجليزية', 'answer_start...     0   \n",
       "1   [{'text': '128 حرف ا محدد', 'answer_start': 58}]     0   \n",
       "2  [{'text': '33 حرف ا تحكم ا غير الطباعة', 'answ...     0   \n",
       "3  [{'text': '95 حرف ا قابلا للطباعة', 'answer_st...     0   \n",
       "4  [{'text': 'رسم ا غير مرئي 223', 'answer_start'...     0   \n",
       "\n",
       "                    processed_question  \\\n",
       "0                 ما هو ASCII على اساس   \n",
       "1  كم شخصيات محددة موجودة في كود ASCII   \n",
       "2       كم عدد احرف التحكم غير الطباعة   \n",
       "3              كم شخصيات قابلة للطباعة   \n",
       "4  ما هو الفضاء المعروف ايضا باسم ماذا   \n",
       "\n",
       "                                   processed_context  \\\n",
       "0  يعتمد ASCII اساسا على الابجدية الانجليزية  ويق...   \n",
       "1  يعتمد ASCII اساسا على الابجدية الانجليزية  ويق...   \n",
       "2  يعتمد ASCII اساسا على الابجدية الانجليزية  ويق...   \n",
       "3  يعتمد ASCII اساسا على الابجدية الانجليزية  ويق...   \n",
       "4  يعتمد ASCII اساسا على الابجدية الانجليزية  ويق...   \n",
       "\n",
       "                                  processed_answers  \n",
       "0         [text الابجدية الانجليزية answerstart 23]  \n",
       "1               [text 128 حرفا محدد answerstart 58]  \n",
       "2  [text 33 حرفا تحكما غير الطباعة answerstart 405]  \n",
       "3      [text 95 حرفا قابلا للطباعة answerstart 494]  \n",
       "4          [text رسما غير مرئي 223 answerstart 550]  "
      ]
     },
     "execution_count": 119,
     "metadata": {},
     "output_type": "execute_result"
    }
   ],
   "source": [
    "df_squad.head()"
   ]
  },
  {
   "cell_type": "markdown",
   "metadata": {},
   "source": [
    "# Prepare the data for Train"
   ]
  },
  {
   "cell_type": "code",
   "execution_count": 120,
   "metadata": {},
   "outputs": [],
   "source": [
    "def preprocess_dataset(dataset):\n",
    "    preprocessed_data = []\n",
    "    \n",
    "    for example in dataset:\n",
    "        # Skip empty examples\n",
    "        if not example[\"context\"] or not example[\"question\"] or not example[\"answers\"]:\n",
    "            continue\n",
    "        \n",
    "        # Tokenize the input (context)\n",
    "        inputs = tokenizer(\n",
    "            example[\"context\"],\n",
    "            max_length=512,\n",
    "            truncation=True,\n",
    "            padding=\"max_length\",\n",
    "            return_tensors=\"pt\"\n",
    "        )\n",
    "        \n",
    "        # Tokenize the target (question and answer)\n",
    "        labels = tokenizer(\n",
    "            example[\"question\"] + \" \" + example[\"answers\"],\n",
    "            max_length=128,\n",
    "            truncation=True,\n",
    "            padding=\"max_length\",\n",
    "            return_tensors=\"pt\"\n",
    "        )\n",
    "        \n",
    "        # Check for invalid token IDs\n",
    "        if (inputs[\"input_ids\"] >= tokenizer.vocab_size).any() or (labels[\"input_ids\"] >= tokenizer.vocab_size).any():\n",
    "            continue  # Skip invalid examples\n",
    "        \n",
    "        # Append preprocessed data\n",
    "        preprocessed_data.append({\n",
    "            \"input_ids\": inputs[\"input_ids\"].squeeze(),  # Remove batch dimension\n",
    "            \"attention_mask\": inputs[\"attention_mask\"].squeeze(),  # Remove batch dimension\n",
    "            \"labels\": labels[\"input_ids\"].squeeze()  # Remove batch dimension\n",
    "        })\n",
    "    \n",
    "    return preprocessed_data"
   ]
  },
  {
   "attachments": {
    "image-2.png": {
     "image/png": "[encoded data removed]"
    },
    "image.png": {
     "image/png": "[encoded data removed]"
    }
   },
   "cell_type": "markdown",
   "metadata": {},
   "source": [
    "![image.png](attachment:image.png)\n",
    "![image-2.png](attachment:image-2.png)"
   ]
  },
  {
   "cell_type": "code",
   "execution_count": 121,
   "metadata": {},
   "outputs": [],
   "source": [
    "# Split by context_id to avoid data leakage\n",
    "context_ids = df_squad[\"c_id\"].unique()\n",
    "train_ids, test_ids = train_test_split(context_ids, test_size=0.2, random_state=42)\n",
    "train_ids, val_ids = train_test_split(train_ids, test_size=0.1, random_state=42)\n",
    "\n",
    "# Create splits\n",
    "train_data = df_squad[df_squad[\"c_id\"].isin(train_ids)].to_dict(\"records\")\n",
    "val_data = df_squad[df_squad[\"c_id\"].isin(val_ids)].to_dict(\"records\")\n",
    "test_data = df_squad[df_squad[\"c_id\"].isin(test_ids)].to_dict(\"records\")\n",
    "\n",
    "# Preprocess each split\n",
    "train_processed = preprocess_dataset(train_data)\n",
    "val_processed = preprocess_dataset(val_data)\n",
    "test_processed = preprocess_dataset(test_data)"
   ]
  },
  {
   "cell_type": "code",
   "execution_count": 122,
   "metadata": {},
   "outputs": [],
   "source": [
    "# # Compare the first 5 examples\n",
    "# for i, example in enumerate(train_processed[:3], 1):\n",
    "#     # Extract the original context and decoded context\n",
    "#     original_context = train_data.iloc[i - 1][\"processed_context\"]\n",
    "#     decoded_context = example[\"context\"]\n",
    "    \n",
    "#     # Print and compare\n",
    "#     print(f\"Example {i}:\")\n",
    "#     print(\"Decoded Context:\", decoded_context)\n",
    "#     print(\"Original Context:\", original_context)\n",
    "    \n",
    "#     # Check if they match\n",
    "#     if decoded_context == original_context:\n",
    "#         print(\"The contexts match!\")\n",
    "#     else:\n",
    "#         print(\"The contexts DO NOT match!\")\n",
    "#     print(\"-\" * 50)"
   ]
  },
  {
   "cell_type": "markdown",
   "metadata": {},
   "source": [
    "# Model"
   ]
  },
  {
   "cell_type": "code",
   "execution_count": 3,
   "metadata": {},
   "outputs": [],
   "source": [
    "# TODO:\n",
    "#       1- try T5 Medium model -> see what the vocab size of the model and compare it with the tokenizer (t5 tokenizer is 64000, AraBert tokenizer is 250100)\n",
    "#       2- try AraBert model -> see what the vocab size of the model as it may be bigger than T5\n",
    "#       3- try to make the model limit bigger than its original limit -> adjust the size of the model to be equal to the tokenizer vocab size"
   ]
  },
  {
   "cell_type": "code",
   "execution_count": 4,
   "metadata": {},
   "outputs": [],
   "source": [
    "# load the model\n",
    "model = T5ForConditionalGeneration.from_pretrained(\"t5-small\")"
   ]
  },
  {
   "cell_type": "code",
   "execution_count": null,
   "metadata": {},
   "outputs": [
    {
     "name": "stderr",
     "output_type": "stream",
     "text": [
      "The new embeddings will be initialized from a multivariate normal distribution that has old embeddings' mean and covariance. As described in this article: https://nlp.stanford.edu/~johnhew/vocab-expansion.html. To disable this, use `mean_resizing=False`\n"
     ]
    },
    {
     "name": "stdout",
     "output_type": "stream",
     "text": [
      "New model vocabulary size: 64000\n"
     ]
    }
   ],
   "source": [
    "# Resize the model's embedding layer\n",
    "model.resize_token_embeddings(len(tokenizer))\n",
    "\n",
    "# Verify the new vocabulary size\n",
    "print(\"New model vocabulary size:\", model.config.vocab_size)"
   ]
  },
  {
   "cell_type": "code",
   "execution_count": 124,
   "metadata": {},
   "outputs": [],
   "source": [
    "# from transformers import T5Tokenizer\n",
    "\n",
    "# Initialize T5 tokenizer\n",
    "# tokenizer = T5Tokenizer.from_pretrained(\"t5-small\")"
   ]
  },
  {
   "cell_type": "markdown",
   "metadata": {},
   "source": [
    "## small example"
   ]
  },
  {
   "cell_type": "code",
   "execution_count": 129,
   "metadata": {},
   "outputs": [
    {
     "name": "stdout",
     "output_type": "stream",
     "text": [
      "Input IDs shape: torch.Size([8, 512])\n",
      "Attention Masks shape: torch.Size([8, 512])\n",
      "Labels shape: torch.Size([8, 128])\n"
     ]
    }
   ],
   "source": [
    "import torch\n",
    "\n",
    "# Example: Extract a batch of data\n",
    "batch = train_processed[:8]  # First 8 examples\n",
    "\n",
    "# Extract input IDs, attention masks, and labels\n",
    "input_ids = [example[\"input_ids\"] for example in batch]\n",
    "attention_masks = [example[\"attention_mask\"] for example in batch]\n",
    "labels = [example[\"labels\"] for example in batch]\n",
    "\n",
    "# Stack the tensors\n",
    "input_ids = torch.stack(input_ids)\n",
    "attention_masks = torch.stack(attention_masks)\n",
    "labels = torch.stack(labels)\n",
    "\n",
    "# Now you can feed these tensors into the model\n",
    "print(\"Input IDs shape:\", input_ids.shape)\n",
    "print(\"Attention Masks shape:\", attention_masks.shape)\n",
    "print(\"Labels shape:\", labels.shape)"
   ]
  },
  {
   "cell_type": "code",
   "execution_count": 130,
   "metadata": {},
   "outputs": [
    {
     "name": "stdout",
     "output_type": "stream",
     "text": [
      "Tokenizer vocab size: 250100\n",
      "Max token ID in dataset: tensor(238564)\n"
     ]
    }
   ],
   "source": [
    "# Get the vocab size of your tokenizer\n",
    "vocab_size = tokenizer.vocab_size\n",
    "print(\"Tokenizer vocab size:\", vocab_size)\n",
    "\n",
    "# Check if any token ID is out of range\n",
    "max_token_id = max(max(example[\"input_ids\"]) for example in train_processed)\n",
    "print(\"Max token ID in dataset:\", max_token_id)\n",
    "\n",
    "if max_token_id >= vocab_size:\n",
    "    print(\"Error: Some token IDs exceed the vocabulary size!\")"
   ]
  },
  {
   "cell_type": "code",
   "execution_count": 131,
   "metadata": {},
   "outputs": [
    {
     "name": "stdout",
     "output_type": "stream",
     "text": [
      "Input IDs: tensor([  5323,    550,  56747, 116682,   5523,    575,    259,  24689,   1021,\n",
      "         29726,    341,  36965, 117421,   3510,   3595,   3904,  13284,    259,\n",
      "         30829,    858,    259,    343,  16259,   8871,   6238,  48345,   1021,\n",
      "         29726, 116682,   5523,  57432,  42414,    556,    617,  14051,    722,\n",
      "           259,    942,  13950,   6531,  76498,    259, 119143,  11124,    575,\n",
      "        117529,    402,  44098,  21105,    259,    260,  40047,  39103,    259,\n",
      "          2820,    259,    572,   2218,    259, 128728,    630,  41357,  24110,\n",
      "          1491, 116682,   5523,    617,  78199,    259,    343,   1240,   8871,\n",
      "          1412,    548,  12908,    259, 128728,    630,    259,   4237,  17824,\n",
      "         48345,    259,    942,   1021,  29726, 116682,   5523,   1189,  10790,\n",
      "          8764,  17629,   4239,  12908, 116682,   5523,    259,   4237,  17824,\n",
      "         48345,    259,    942,  13950,    766,  35598,   2578,  29726,    259,\n",
      "           260,  19301,   2598,    556,    259,   3971,    259,    343,    259,\n",
      "         10942,    259,  17966,    259,  11492,    941,   3194,  24110,  11818,\n",
      "         44929,   3510,  17781,   1930,    259,    477,  46492,   1736,    632,\n",
      "           259,    942,   1021,  29726, 116682,   5523,    556,    617,  14051,\n",
      "           722,    259,    942,   1412,    913,    259,  14236,   7718,    259,\n",
      "           477,  26049,  56504,   7862,    722,   1491,    259,  24689,    259,\n",
      "        151642,   2578,    942,    259,   7706,    259,    477,  12164,   5015,\n",
      "         37491,    858,    259,    572,  24234,    259, 116233,  11286, 116682,\n",
      "          5523,    259,  19904,    630,  14051,    259,   6520,  12870,    630,\n",
      "         66785,    333,   1086, 145500,  94810,    614,  30982,    722,    259,\n",
      "        128728,    630,    259,  14268,  15722,  61037,    259,    260,      1,\n",
      "             0,      0,      0,      0,      0,      0,      0,      0,      0,\n",
      "             0,      0,      0,      0,      0,      0,      0,      0,      0,\n",
      "             0,      0,      0,      0,      0,      0,      0,      0,      0,\n",
      "             0,      0,      0,      0,      0,      0,      0,      0,      0,\n",
      "             0,      0,      0,      0,      0,      0,      0,      0,      0,\n",
      "             0,      0,      0,      0,      0,      0,      0,      0,      0,\n",
      "             0,      0,      0,      0,      0,      0,      0,      0,      0,\n",
      "             0,      0,      0,      0,      0,      0,      0,      0,      0,\n",
      "             0,      0,      0,      0,      0,      0,      0,      0,      0,\n",
      "             0,      0,      0,      0,      0,      0,      0,      0,      0,\n",
      "             0,      0,      0,      0,      0,      0,      0,      0,      0,\n",
      "             0,      0,      0,      0,      0,      0,      0,      0,      0,\n",
      "             0,      0,      0,      0,      0,      0,      0,      0,      0,\n",
      "             0,      0,      0,      0,      0,      0,      0,      0,      0,\n",
      "             0,      0,      0,      0,      0,      0,      0,      0,      0,\n",
      "             0,      0,      0,      0,      0,      0,      0,      0,      0,\n",
      "             0,      0,      0,      0,      0,      0,      0,      0,      0,\n",
      "             0,      0,      0,      0,      0,      0,      0,      0,      0,\n",
      "             0,      0,      0,      0,      0,      0,      0,      0,      0,\n",
      "             0,      0,      0,      0,      0,      0,      0,      0,      0,\n",
      "             0,      0,      0,      0,      0,      0,      0,      0,      0,\n",
      "             0,      0,      0,      0,      0,      0,      0,      0,      0,\n",
      "             0,      0,      0,      0,      0,      0,      0,      0,      0,\n",
      "             0,      0,      0,      0,      0,      0,      0,      0,      0,\n",
      "             0,      0,      0,      0,      0,      0,      0,      0,      0,\n",
      "             0,      0,      0,      0,      0,      0,      0,      0,      0,\n",
      "             0,      0,      0,      0,      0,      0,      0,      0,      0,\n",
      "             0,      0,      0,      0,      0,      0,      0,      0,      0,\n",
      "             0,      0,      0,      0,      0,      0,      0,      0,      0,\n",
      "             0,      0,      0,      0,      0,      0,      0,      0,      0,\n",
      "             0,      0,      0,      0,      0,      0,      0,      0,      0,\n",
      "             0,      0,      0,      0,      0,      0,      0,      0,      0,\n",
      "             0,      0,      0,      0,      0,      0,      0,      0,      0,\n",
      "             0,      0,      0,      0,      0,      0,      0,      0])\n",
      "Labels: tensor([  5323,    550,  56747, 116682,   5523,    575,   1415,    259,  24689,\n",
      "          2578,  29726,  22178,  10027,   2273,    491,    596,    277,   1381,\n",
      "         11572,    259,    277,    974,  36965, 117421,    277,    261,    259,\n",
      "           277,  57996,    290,   6283,  11572,   1190,   1354,    439,      1,\n",
      "             0,      0,      0,      0,      0,      0,      0,      0,      0,\n",
      "             0,      0,      0,      0,      0,      0,      0,      0,      0,\n",
      "             0,      0,      0,      0,      0,      0,      0,      0,      0,\n",
      "             0,      0,      0,      0,      0,      0,      0,      0,      0,\n",
      "             0,      0,      0,      0,      0,      0,      0,      0,      0,\n",
      "             0,      0,      0,      0,      0,      0,      0,      0,      0,\n",
      "             0,      0,      0,      0,      0,      0,      0,      0,      0,\n",
      "             0,      0,      0,      0,      0,      0,      0,      0,      0,\n",
      "             0,      0,      0,      0,      0,      0,      0,      0,      0,\n",
      "             0,      0,      0,      0,      0,      0,      0,      0,      0,\n",
      "             0,      0])\n",
      "Invalid input IDs: []\n",
      "Invalid labels: []\n"
     ]
    }
   ],
   "source": [
    "# Check the first example in train_processed\n",
    "example = train_processed[0]\n",
    "print(\"Input IDs:\", example[\"input_ids\"])\n",
    "print(\"Labels:\", example[\"labels\"])\n",
    "\n",
    "# Check for invalid token IDs\n",
    "invalid_input_ids = [token_id for token_id in example[\"input_ids\"] if token_id >= tokenizer.vocab_size]\n",
    "invalid_labels = [token_id for token_id in example[\"labels\"] if token_id >= tokenizer.vocab_size]\n",
    "\n",
    "print(\"Invalid input IDs:\", invalid_input_ids)\n",
    "print(\"Invalid labels:\", invalid_labels)"
   ]
  },
  {
   "cell_type": "code",
   "execution_count": null,
   "metadata": {},
   "outputs": [
    {
     "name": "stderr",
     "output_type": "stream",
     "text": [
      "c:\\Users\\Mohammed237\\AppData\\Local\\Programs\\Python\\Python311\\Lib\\site-packages\\transformers\\training_args.py:1575: FutureWarning: `evaluation_strategy` is deprecated and will be removed in version 4.46 of 🤗 Transformers. Use `eval_strategy` instead\n",
      "  warnings.warn(\n",
      "Passing a tuple of `past_key_values` is deprecated and will be removed in Transformers v4.48.0. You should pass an instance of `EncoderDecoderCache` instead, e.g. `past_key_values=EncoderDecoderCache.from_legacy_cache(past_key_values)`.\n"
     ]
    }
   ],
   "source": [
    "# Define training arguments\n",
    "training_args = TrainingArguments(\n",
    "    output_dir=\"./results\",\n",
    "    per_device_train_batch_size=8,\n",
    "    per_device_eval_batch_size=8,\n",
    "    num_train_epochs=3,\n",
    "    evaluation_strategy=\"epoch\",\n",
    "    save_strategy=\"epoch\",\n",
    "    logging_dir=\"./logs\",\n",
    "    logging_steps=10,\n",
    "    save_total_limit=2,\n",
    "    load_best_model_at_end=True,\n",
    ")\n",
    "\n",
    "# Create a Trainer instance\n",
    "trainer = Trainer(\n",
    "    model=model,\n",
    "    args=training_args,\n",
    "    train_dataset=train_processed,\n",
    "    eval_dataset=val_processed,\n",
    ")\n",
    "\n",
    "# Train the model\n",
    "trainer.train()"
   ]
  },
  {
   "cell_type": "code",
   "execution_count": null,
   "metadata": {},
   "outputs": [],
   "source": []
  }
 ],
 "metadata": {
  "kernelspec": {
   "display_name": "Python 3",
   "language": "python",
   "name": "python3"
  },
  "language_info": {
   "codemirror_mode": {
    "name": "ipython",
    "version": 3
   },
   "file_extension": ".py",
   "mimetype": "text/x-python",
   "name": "python",
   "nbconvert_exporter": "python",
   "pygments_lexer": "ipython3",
   "version": "3.11.9"
  }
 },
 "nbformat": 4,
 "nbformat_minor": 2
}
