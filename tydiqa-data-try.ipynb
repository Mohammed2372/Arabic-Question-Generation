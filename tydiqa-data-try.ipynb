{
 "cells": [
  {
   "cell_type": "markdown",
   "metadata": {},
   "source": [
    "# Installs"
   ]
  },
  {
   "cell_type": "code",
   "execution_count": null,
   "metadata": {
    "execution": {
     "iopub.execute_input": "2025-03-26T20:20:54.314088Z",
     "iopub.status.busy": "2025-03-26T20:20:54.313884Z",
     "iopub.status.idle": "2025-03-26T20:22:58.664232Z",
     "shell.execute_reply": "2025-03-26T20:22:58.663221Z",
     "shell.execute_reply.started": "2025-03-26T20:20:54.314068Z"
    },
    "trusted": true
   },
   "outputs": [
    {
     "name": "stdout",
     "output_type": "stream",
     "text": [
      "Collecting rouge-score\n",
      "  Downloading rouge_score-0.1.2.tar.gz (17 kB)\n",
      "  Preparing metadata (setup.py) ... \u001b[?25l\u001b[?25hdone\n",
      "Requirement already satisfied: absl-py in /usr/local/lib/python3.10/dist-packages (from rouge-score) (1.4.0)\n",
      "Requirement already satisfied: nltk in /usr/local/lib/python3.10/dist-packages (from rouge-score) (3.2.4)\n",
      "Requirement already satisfied: numpy in /usr/local/lib/python3.10/dist-packages (from rouge-score) (1.26.4)\n",
      "Requirement already satisfied: six>=1.14.0 in /usr/local/lib/python3.10/dist-packages (from rouge-score) (1.17.0)\n",
      "Requirement already satisfied: mkl_fft in /usr/local/lib/python3.10/dist-packages (from numpy->rouge-score) (1.3.8)\n",
      "Requirement already satisfied: mkl_random in /usr/local/lib/python3.10/dist-packages (from numpy->rouge-score) (1.2.4)\n",
      "Requirement already satisfied: mkl_umath in /usr/local/lib/python3.10/dist-packages (from numpy->rouge-score) (0.1.1)\n",
      "Requirement already satisfied: mkl in /usr/local/lib/python3.10/dist-packages (from numpy->rouge-score) (2025.0.1)\n",
      "Requirement already satisfied: tbb4py in /usr/local/lib/python3.10/dist-packages (from numpy->rouge-score) (2022.0.0)\n",
      "Requirement already satisfied: mkl-service in /usr/local/lib/python3.10/dist-packages (from numpy->rouge-score) (2.4.1)\n",
      "Requirement already satisfied: intel-openmp>=2024 in /usr/local/lib/python3.10/dist-packages (from mkl->numpy->rouge-score) (2024.2.0)\n",
      "Requirement already satisfied: tbb==2022.* in /usr/local/lib/python3.10/dist-packages (from mkl->numpy->rouge-score) (2022.0.0)\n",
      "Requirement already satisfied: tcmlib==1.* in /usr/local/lib/python3.10/dist-packages (from tbb==2022.*->mkl->numpy->rouge-score) (1.2.0)\n",
      "Requirement already satisfied: intel-cmplr-lib-rt in /usr/local/lib/python3.10/dist-packages (from mkl_umath->numpy->rouge-score) (2024.2.0)\n",
      "Requirement already satisfied: intel-cmplr-lib-ur==2024.2.0 in /usr/local/lib/python3.10/dist-packages (from intel-openmp>=2024->mkl->numpy->rouge-score) (2024.2.0)\n",
      "Building wheels for collected packages: rouge-score\n",
      "  Building wheel for rouge-score (setup.py) ... \u001b[?25l\u001b[?25hdone\n",
      "  Created wheel for rouge-score: filename=rouge_score-0.1.2-py3-none-any.whl size=24935 sha256=cf71549e540e67432f534cdab9bbf1ba2b217450f65b8624c0ca9c6b3e702980\n",
      "  Stored in directory: /root/.cache/pip/wheels/5f/dd/89/461065a73be61a532ff8599a28e9beef17985c9e9c31e541b4\n",
      "Successfully built rouge-score\n",
      "Installing collected packages: rouge-score\n",
      "Successfully installed rouge-score-0.1.2\n",
      "Found existing installation: wandb 0.19.1\n",
      "Uninstalling wandb-0.19.1:\n",
      "  Successfully uninstalled wandb-0.19.1\n",
      "Requirement already satisfied: openpyxl in /usr/local/lib/python3.10/dist-packages (3.1.5)\n",
      "Requirement already satisfied: et-xmlfile in /usr/local/lib/python3.10/dist-packages (from openpyxl) (2.0.0)\n",
      "Collecting camel-tools\n",
      "  Downloading camel_tools-1.5.5-py3-none-any.whl.metadata (10 kB)\n",
      "Requirement already satisfied: future in /usr/local/lib/python3.10/dist-packages (from camel-tools) (1.0.0)\n",
      "Requirement already satisfied: six in /usr/local/lib/python3.10/dist-packages (from camel-tools) (1.17.0)\n",
      "Collecting docopt (from camel-tools)\n",
      "  Downloading docopt-0.6.2.tar.gz (25 kB)\n",
      "  Preparing metadata (setup.py) ... \u001b[?25l\u001b[?25hdone\n",
      "Requirement already satisfied: cachetools in /usr/local/lib/python3.10/dist-packages (from camel-tools) (5.5.0)\n",
      "Requirement already satisfied: numpy<2 in /usr/local/lib/python3.10/dist-packages (from camel-tools) (1.26.4)\n",
      "Requirement already satisfied: scipy in /usr/local/lib/python3.10/dist-packages (from camel-tools) (1.13.1)\n",
      "Requirement already satisfied: pandas in /usr/local/lib/python3.10/dist-packages (from camel-tools) (2.2.3)\n",
      "Requirement already satisfied: scikit-learn in /usr/local/lib/python3.10/dist-packages (from camel-tools) (1.2.2)\n",
      "Requirement already satisfied: dill in /usr/local/lib/python3.10/dist-packages (from camel-tools) (0.3.8)\n",
      "Requirement already satisfied: torch>=2.0 in /usr/local/lib/python3.10/dist-packages (from camel-tools) (2.5.1+cu121)\n",
      "Collecting transformers<4.44.0,>=4.0 (from camel-tools)\n",
      "  Downloading transformers-4.43.4-py3-none-any.whl.metadata (43 kB)\n",
      "\u001b[2K     \u001b[90m━━━━━━━━━━━━━━━━━━━━━━━━━━━━━━━━━━━━━━━━\u001b[0m \u001b[32m43.7/43.7 kB\u001b[0m \u001b[31m1.4 MB/s\u001b[0m eta \u001b[36m0:00:00\u001b[0m\n",
      "\u001b[?25hRequirement already satisfied: editdistance in /usr/local/lib/python3.10/dist-packages (from camel-tools) (0.8.1)\n",
      "Requirement already satisfied: requests in /usr/local/lib/python3.10/dist-packages (from camel-tools) (2.32.3)\n",
      "Requirement already satisfied: emoji in /usr/local/lib/python3.10/dist-packages (from camel-tools) (2.14.1)\n",
      "Collecting pyrsistent (from camel-tools)\n",
      "  Downloading pyrsistent-0.20.0-cp310-cp310-manylinux_2_17_x86_64.manylinux2014_x86_64.whl.metadata (27 kB)\n",
      "Requirement already satisfied: tabulate in /usr/local/lib/python3.10/dist-packages (from camel-tools) (0.9.0)\n",
      "Requirement already satisfied: tqdm in /usr/local/lib/python3.10/dist-packages (from camel-tools) (4.67.1)\n",
      "Collecting muddler (from camel-tools)\n",
      "  Downloading muddler-0.1.3-py3-none-any.whl.metadata (7.5 kB)\n",
      "Collecting camel-kenlm>=2024.5.6 (from camel-tools)\n",
      "  Downloading camel-kenlm-2024.5.6.zip (556 kB)\n",
      "\u001b[2K     \u001b[90m━━━━━━━━━━━━━━━━━━━━━━━━━━━━━━━━━━━━━━━━\u001b[0m \u001b[32m556.4/556.4 kB\u001b[0m \u001b[31m11.9 MB/s\u001b[0m eta \u001b[36m0:00:00\u001b[0m00:01\u001b[0m\n",
      "\u001b[?25h  Installing build dependencies ... \u001b[?25l\u001b[?25hdone\n",
      "  Getting requirements to build wheel ... \u001b[?25l\u001b[?25hdone\n",
      "  Preparing metadata (pyproject.toml) ... \u001b[?25l\u001b[?25hdone\n",
      "Requirement already satisfied: mkl_fft in /usr/local/lib/python3.10/dist-packages (from numpy<2->camel-tools) (1.3.8)\n",
      "Requirement already satisfied: mkl_random in /usr/local/lib/python3.10/dist-packages (from numpy<2->camel-tools) (1.2.4)\n",
      "Requirement already satisfied: mkl_umath in /usr/local/lib/python3.10/dist-packages (from numpy<2->camel-tools) (0.1.1)\n",
      "Requirement already satisfied: mkl in /usr/local/lib/python3.10/dist-packages (from numpy<2->camel-tools) (2025.0.1)\n",
      "Requirement already satisfied: tbb4py in /usr/local/lib/python3.10/dist-packages (from numpy<2->camel-tools) (2022.0.0)\n",
      "Requirement already satisfied: mkl-service in /usr/local/lib/python3.10/dist-packages (from numpy<2->camel-tools) (2.4.1)\n",
      "Requirement already satisfied: filelock in /usr/local/lib/python3.10/dist-packages (from torch>=2.0->camel-tools) (3.17.0)\n",
      "Requirement already satisfied: typing-extensions>=4.8.0 in /usr/local/lib/python3.10/dist-packages (from torch>=2.0->camel-tools) (4.12.2)\n",
      "Requirement already satisfied: networkx in /usr/local/lib/python3.10/dist-packages (from torch>=2.0->camel-tools) (3.4.2)\n",
      "Requirement already satisfied: jinja2 in /usr/local/lib/python3.10/dist-packages (from torch>=2.0->camel-tools) (3.1.4)\n",
      "Requirement already satisfied: fsspec in /usr/local/lib/python3.10/dist-packages (from torch>=2.0->camel-tools) (2024.12.0)\n",
      "Requirement already satisfied: sympy==1.13.1 in /usr/local/lib/python3.10/dist-packages (from torch>=2.0->camel-tools) (1.13.1)\n",
      "Requirement already satisfied: mpmath<1.4,>=1.1.0 in /usr/local/lib/python3.10/dist-packages (from sympy==1.13.1->torch>=2.0->camel-tools) (1.3.0)\n",
      "Requirement already satisfied: huggingface-hub<1.0,>=0.23.2 in /usr/local/lib/python3.10/dist-packages (from transformers<4.44.0,>=4.0->camel-tools) (0.29.0)\n",
      "Requirement already satisfied: packaging>=20.0 in /usr/local/lib/python3.10/dist-packages (from transformers<4.44.0,>=4.0->camel-tools) (24.2)\n",
      "Requirement already satisfied: pyyaml>=5.1 in /usr/local/lib/python3.10/dist-packages (from transformers<4.44.0,>=4.0->camel-tools) (6.0.2)\n",
      "Requirement already satisfied: regex!=2019.12.17 in /usr/local/lib/python3.10/dist-packages (from transformers<4.44.0,>=4.0->camel-tools) (2024.11.6)\n",
      "Requirement already satisfied: safetensors>=0.4.1 in /usr/local/lib/python3.10/dist-packages (from transformers<4.44.0,>=4.0->camel-tools) (0.4.5)\n",
      "Collecting tokenizers<0.20,>=0.19 (from transformers<4.44.0,>=4.0->camel-tools)\n",
      "  Downloading tokenizers-0.19.1-cp310-cp310-manylinux_2_17_x86_64.manylinux2014_x86_64.whl.metadata (6.7 kB)\n",
      "Requirement already satisfied: python-dateutil>=2.8.2 in /usr/local/lib/python3.10/dist-packages (from pandas->camel-tools) (2.9.0.post0)\n",
      "Requirement already satisfied: pytz>=2020.1 in /usr/local/lib/python3.10/dist-packages (from pandas->camel-tools) (2025.1)\n",
      "Requirement already satisfied: tzdata>=2022.7 in /usr/local/lib/python3.10/dist-packages (from pandas->camel-tools) (2025.1)\n",
      "Requirement already satisfied: charset-normalizer<4,>=2 in /usr/local/lib/python3.10/dist-packages (from requests->camel-tools) (3.4.1)\n",
      "Requirement already satisfied: idna<4,>=2.5 in /usr/local/lib/python3.10/dist-packages (from requests->camel-tools) (3.10)\n",
      "Requirement already satisfied: urllib3<3,>=1.21.1 in /usr/local/lib/python3.10/dist-packages (from requests->camel-tools) (2.3.0)\n",
      "Requirement already satisfied: certifi>=2017.4.17 in /usr/local/lib/python3.10/dist-packages (from requests->camel-tools) (2025.1.31)\n",
      "Requirement already satisfied: joblib>=1.1.1 in /usr/local/lib/python3.10/dist-packages (from scikit-learn->camel-tools) (1.4.2)\n",
      "Requirement already satisfied: threadpoolctl>=2.0.0 in /usr/local/lib/python3.10/dist-packages (from scikit-learn->camel-tools) (3.5.0)\n",
      "Requirement already satisfied: MarkupSafe>=2.0 in /usr/local/lib/python3.10/dist-packages (from jinja2->torch>=2.0->camel-tools) (3.0.2)\n",
      "Requirement already satisfied: intel-openmp>=2024 in /usr/local/lib/python3.10/dist-packages (from mkl->numpy<2->camel-tools) (2024.2.0)\n",
      "Requirement already satisfied: tbb==2022.* in /usr/local/lib/python3.10/dist-packages (from mkl->numpy<2->camel-tools) (2022.0.0)\n",
      "Requirement already satisfied: tcmlib==1.* in /usr/local/lib/python3.10/dist-packages (from tbb==2022.*->mkl->numpy<2->camel-tools) (1.2.0)\n",
      "Requirement already satisfied: intel-cmplr-lib-rt in /usr/local/lib/python3.10/dist-packages (from mkl_umath->numpy<2->camel-tools) (2024.2.0)\n",
      "Requirement already satisfied: intel-cmplr-lib-ur==2024.2.0 in /usr/local/lib/python3.10/dist-packages (from intel-openmp>=2024->mkl->numpy<2->camel-tools) (2024.2.0)\n",
      "Downloading camel_tools-1.5.5-py3-none-any.whl (124 kB)\n",
      "\u001b[2K   \u001b[90m━━━━━━━━━━━━━━━━━━━━━━━━━━━━━━━━━━━━━━━━\u001b[0m \u001b[32m124.5/124.5 kB\u001b[0m \u001b[31m6.3 MB/s\u001b[0m eta \u001b[36m0:00:00\u001b[0m\n",
      "\u001b[?25hDownloading transformers-4.43.4-py3-none-any.whl (9.4 MB)\n",
      "\u001b[2K   \u001b[90m━━━━━━━━━━━━━━━━━━━━━━━━━━━━━━━━━━━━━━━━\u001b[0m \u001b[32m9.4/9.4 MB\u001b[0m \u001b[31m93.4 MB/s\u001b[0m eta \u001b[36m0:00:00\u001b[0m:00:01\u001b[0m00:01\u001b[0m\n",
      "\u001b[?25hDownloading muddler-0.1.3-py3-none-any.whl (16 kB)\n",
      "Downloading pyrsistent-0.20.0-cp310-cp310-manylinux_2_17_x86_64.manylinux2014_x86_64.whl (117 kB)\n",
      "\u001b[2K   \u001b[90m━━━━━━━━━━━━━━━━━━━━━━━━━━━━━━━━━━━━━━━━\u001b[0m \u001b[32m117.7/117.7 kB\u001b[0m \u001b[31m6.8 MB/s\u001b[0m eta \u001b[36m0:00:00\u001b[0m\n",
      "\u001b[?25hDownloading tokenizers-0.19.1-cp310-cp310-manylinux_2_17_x86_64.manylinux2014_x86_64.whl (3.6 MB)\n",
      "\u001b[2K   \u001b[90m━━━━━━━━━━━━━━━━━━━━━━━━━━━━━━━━━━━━━━━━\u001b[0m \u001b[32m3.6/3.6 MB\u001b[0m \u001b[31m74.1 MB/s\u001b[0m eta \u001b[36m0:00:00\u001b[0m:00:01\u001b[0m\n",
      "\u001b[?25hBuilding wheels for collected packages: camel-kenlm, docopt\n",
      "  Building wheel for camel-kenlm (pyproject.toml) ... \u001b[?25l\u001b[?25hdone\n",
      "  Created wheel for camel-kenlm: filename=camel_kenlm-2024.5.6-cp310-cp310-linux_x86_64.whl size=3184708 sha256=6df75999f4004ce7d8a9ef5305b5e16a70ccb1c3479a16f4eb09f20fb49446a9\n",
      "  Stored in directory: /root/.cache/pip/wheels/2b/93/ff/ac84dae74c91ffe3e1c344a71f991946eacc79eada61cb703f\n",
      "  Building wheel for docopt (setup.py) ... \u001b[?25l\u001b[?25hdone\n",
      "  Created wheel for docopt: filename=docopt-0.6.2-py2.py3-none-any.whl size=13706 sha256=387ba3ea7024199ab15c2f3f463598cd838d8981ed01e693af7aea79822542f2\n",
      "  Stored in directory: /root/.cache/pip/wheels/fc/ab/d4/5da2067ac95b36618c629a5f93f809425700506f72c9732fac\n",
      "Successfully built camel-kenlm docopt\n",
      "Installing collected packages: docopt, camel-kenlm, pyrsistent, muddler, tokenizers, transformers, camel-tools\n",
      "  Attempting uninstall: tokenizers\n",
      "    Found existing installation: tokenizers 0.21.0\n",
      "    Uninstalling tokenizers-0.21.0:\n",
      "      Successfully uninstalled tokenizers-0.21.0\n",
      "  Attempting uninstall: transformers\n",
      "    Found existing installation: transformers 4.47.0\n",
      "    Uninstalling transformers-4.47.0:\n",
      "      Successfully uninstalled transformers-4.47.0\n",
      "Successfully installed camel-kenlm-2024.5.6 camel-tools-1.5.5 docopt-0.6.2 muddler-0.1.3 pyrsistent-0.20.0 tokenizers-0.19.1 transformers-4.43.4\n"
     ]
    }
   ],
   "source": [
    "!pip install rouge-score\n",
    "!pip uninstall -y wandb"
   ]
  },
  {
   "cell_type": "markdown",
   "metadata": {
    "id": "IPFBNn2VzRST"
   },
   "source": [
    "# Libraries"
   ]
  },
  {
   "cell_type": "code",
   "execution_count": null,
   "metadata": {
    "execution": {
     "iopub.execute_input": "2025-03-26T20:22:58.665745Z",
     "iopub.status.busy": "2025-03-26T20:22:58.665390Z"
    },
    "id": "8ge5OxtkzRSV",
    "trusted": true
   },
   "outputs": [],
   "source": [
    "import re\n",
    "import ast\n",
    "import torch\n",
    "import tokenizers\n",
    "import numpy as np\n",
    "import pandas as pd\n",
    "from nltk.corpus import stopwords\n",
    "from rouge_score import rouge_scorer\n",
    "from sklearn.metrics import accuracy_score\n",
    "from nltk.translate.bleu_score import sentence_bleu\n",
    "from sklearn.model_selection import train_test_split\n",
    "from transformers import T5ForConditionalGeneration, Trainer, TrainingArguments, AutoTokenizer, T5Tokenizer, MT5ForConditionalGeneration, MT5Tokenizer, EarlyStoppingCallback"
   ]
  },
  {
   "cell_type": "markdown",
   "metadata": {
    "id": "IaqIqnqnzRSX"
   },
   "source": [
    "# Reading Data"
   ]
  },
  {
   "cell_type": "code",
   "execution_count": null,
   "metadata": {
    "id": "7FAZnKzGzRSY",
    "outputId": "50a128ec-8332-4974-b042-82eb801b005c",
    "trusted": true
   },
   "outputs": [],
   "source": [
    "\n",
    "df_tydiqa = pd.read_csv('/kaggle/input/tydiqa-data/tydiqa-arabic.csv')\n",
    "print(\"tydiqa data loaded\")"
   ]
  },
  {
   "cell_type": "markdown",
   "metadata": {
    "id": "315bxYxtzRSZ"
   },
   "source": [
    "# Data Overview"
   ]
  },
  {
   "cell_type": "code",
   "execution_count": 4,
   "metadata": {
    "execution": {
     "iopub.execute_input": "2025-03-26T12:55:06.813530Z",
     "iopub.status.busy": "2025-03-26T12:55:06.813236Z",
     "iopub.status.idle": "2025-03-26T12:55:06.836704Z",
     "shell.execute_reply": "2025-03-26T12:55:06.835884Z",
     "shell.execute_reply.started": "2025-03-26T12:55:06.813505Z"
    },
    "id": "iByoB_C6zRSZ",
    "outputId": "bda27410-a09a-4a95-9ee6-c8c6b53ae715",
    "trusted": true
   },
   "outputs": [
    {
     "data": {
      "text/html": [
       "<div>\n",
       "<style scoped>\n",
       "    .dataframe tbody tr th:only-of-type {\n",
       "        vertical-align: middle;\n",
       "    }\n",
       "\n",
       "    .dataframe tbody tr th {\n",
       "        vertical-align: top;\n",
       "    }\n",
       "\n",
       "    .dataframe thead th {\n",
       "        text-align: right;\n",
       "    }\n",
       "</style>\n",
       "<table border=\"1\" class=\"dataframe\">\n",
       "  <thead>\n",
       "    <tr style=\"text-align: right;\">\n",
       "      <th></th>\n",
       "      <th>id</th>\n",
       "      <th>question</th>\n",
       "      <th>context</th>\n",
       "      <th>answers</th>\n",
       "      <th>c_id</th>\n",
       "    </tr>\n",
       "  </thead>\n",
       "  <tbody>\n",
       "    <tr>\n",
       "      <th>0</th>\n",
       "      <td>arabic-2387335860751143628-1</td>\n",
       "      <td>كم عدد مرات فوز الأوروغواي ببطولة كاس العالم ل...</td>\n",
       "      <td>أقيمت البطولة 21 مرة، شارك في النهائيات 78 دول...</td>\n",
       "      <td>[{'text': 'بطولتين', 'answer_start': 394}]</td>\n",
       "      <td>0</td>\n",
       "    </tr>\n",
       "    <tr>\n",
       "      <th>1</th>\n",
       "      <td>arabic--3358420169913421088-0</td>\n",
       "      <td>من هو مكتشف المرو أو الكوارتز ؟</td>\n",
       "      <td>المرو أو الكوارتز  هو معدن يعود اكتشافه إلى ال...</td>\n",
       "      <td>[{'text': '(بيير كوري) وأخوه (جاك)', 'answer_s...</td>\n",
       "      <td>1</td>\n",
       "    </tr>\n",
       "    <tr>\n",
       "      <th>2</th>\n",
       "      <td>arabic-6869798435672288559-0</td>\n",
       "      <td>كيف يتصل الجنين بالرحم ؟</td>\n",
       "      <td>المَشِيمَة أو الخَلاَص أو السُخْد (بالإنجليزي...</td>\n",
       "      <td>[{'text': 'عن طريق الحبل السري', 'answer_start...</td>\n",
       "      <td>2</td>\n",
       "    </tr>\n",
       "    <tr>\n",
       "      <th>3</th>\n",
       "      <td>arabic-1608369850259830544-0</td>\n",
       "      <td>ما هي المَشِيمَة أو الخَلاَص أو السُخْد؟</td>\n",
       "      <td>المَشِيمَة أو الخَلاَص أو السُخْد (بالإنجليزي...</td>\n",
       "      <td>[{'text': 'عضو دائري مسطح الشكل يتصل بالجنين ع...</td>\n",
       "      <td>2</td>\n",
       "    </tr>\n",
       "    <tr>\n",
       "      <th>4</th>\n",
       "      <td>arabic--7165672200361826550-0</td>\n",
       "      <td>أين يقع مسجد السلطان عبد المجيد؟</td>\n",
       "      <td>مسجد السلطان عبد المجيد، هو مسجد أثري تاريخي ف...</td>\n",
       "      <td>[{'text': 'مدينة جبيل اللبنانية', 'answer_star...</td>\n",
       "      <td>3</td>\n",
       "    </tr>\n",
       "  </tbody>\n",
       "</table>\n",
       "</div>"
      ],
      "text/plain": [
       "                              id  \\\n",
       "0   arabic-2387335860751143628-1   \n",
       "1  arabic--3358420169913421088-0   \n",
       "2   arabic-6869798435672288559-0   \n",
       "3   arabic-1608369850259830544-0   \n",
       "4  arabic--7165672200361826550-0   \n",
       "\n",
       "                                            question  \\\n",
       "0  كم عدد مرات فوز الأوروغواي ببطولة كاس العالم ل...   \n",
       "1                    من هو مكتشف المرو أو الكوارتز ؟   \n",
       "2                           كيف يتصل الجنين بالرحم ؟   \n",
       "3           ما هي المَشِيمَة أو الخَلاَص أو السُخْد؟   \n",
       "4                   أين يقع مسجد السلطان عبد المجيد؟   \n",
       "\n",
       "                                             context  \\\n",
       "0  أقيمت البطولة 21 مرة، شارك في النهائيات 78 دول...   \n",
       "1  المرو أو الكوارتز  هو معدن يعود اكتشافه إلى ال...   \n",
       "2   المَشِيمَة أو الخَلاَص أو السُخْد (بالإنجليزي...   \n",
       "3   المَشِيمَة أو الخَلاَص أو السُخْد (بالإنجليزي...   \n",
       "4  مسجد السلطان عبد المجيد، هو مسجد أثري تاريخي ف...   \n",
       "\n",
       "                                             answers  c_id  \n",
       "0         [{'text': 'بطولتين', 'answer_start': 394}]     0  \n",
       "1  [{'text': '(بيير كوري) وأخوه (جاك)', 'answer_s...     1  \n",
       "2  [{'text': 'عن طريق الحبل السري', 'answer_start...     2  \n",
       "3  [{'text': 'عضو دائري مسطح الشكل يتصل بالجنين ع...     2  \n",
       "4  [{'text': 'مدينة جبيل اللبنانية', 'answer_star...     3  "
      ]
     },
     "execution_count": 4,
     "metadata": {},
     "output_type": "execute_result"
    }
   ],
   "source": [
    "df_tydiqa.head()"
   ]
  },
  {
   "cell_type": "code",
   "execution_count": 5,
   "metadata": {
    "execution": {
     "iopub.execute_input": "2025-03-26T12:55:06.837796Z",
     "iopub.status.busy": "2025-03-26T12:55:06.837523Z",
     "iopub.status.idle": "2025-03-26T12:55:06.842792Z",
     "shell.execute_reply": "2025-03-26T12:55:06.841903Z",
     "shell.execute_reply.started": "2025-03-26T12:55:06.837776Z"
    },
    "id": "tIuptDLrzRSa",
    "outputId": "de4e6f5c-ccc8-41ee-8018-3f0ce0421eb6",
    "trusted": true
   },
   "outputs": [
    {
     "data": {
      "text/plain": [
       "(921, 5)"
      ]
     },
     "execution_count": 5,
     "metadata": {},
     "output_type": "execute_result"
    }
   ],
   "source": [
    "df_tydiqa.shape"
   ]
  },
  {
   "cell_type": "code",
   "execution_count": 6,
   "metadata": {
    "execution": {
     "iopub.execute_input": "2025-03-26T12:55:06.843933Z",
     "iopub.status.busy": "2025-03-26T12:55:06.843686Z",
     "iopub.status.idle": "2025-03-26T12:55:06.872734Z",
     "shell.execute_reply": "2025-03-26T12:55:06.871947Z",
     "shell.execute_reply.started": "2025-03-26T12:55:06.843903Z"
    },
    "id": "z-2IRbewzRSc",
    "outputId": "863caece-798b-465f-9eb3-8a83827df09f",
    "trusted": true
   },
   "outputs": [
    {
     "name": "stdout",
     "output_type": "stream",
     "text": [
      "<class 'pandas.core.frame.DataFrame'>\n",
      "RangeIndex: 921 entries, 0 to 920\n",
      "Data columns (total 5 columns):\n",
      " #   Column    Non-Null Count  Dtype \n",
      "---  ------    --------------  ----- \n",
      " 0   id        921 non-null    object\n",
      " 1   question  921 non-null    object\n",
      " 2   context   921 non-null    object\n",
      " 3   answers   921 non-null    object\n",
      " 4   c_id      921 non-null    int64 \n",
      "dtypes: int64(1), object(4)\n",
      "memory usage: 36.1+ KB\n"
     ]
    }
   ],
   "source": [
    "df_tydiqa.info()"
   ]
  },
  {
   "cell_type": "markdown",
   "metadata": {
    "id": "s-VmXxyDzRSf"
   },
   "source": [
    "# Removing id column"
   ]
  },
  {
   "cell_type": "code",
   "execution_count": 7,
   "metadata": {
    "execution": {
     "iopub.execute_input": "2025-03-26T12:55:06.875243Z",
     "iopub.status.busy": "2025-03-26T12:55:06.874995Z",
     "iopub.status.idle": "2025-03-26T12:55:06.881488Z",
     "shell.execute_reply": "2025-03-26T12:55:06.880607Z",
     "shell.execute_reply.started": "2025-03-26T12:55:06.875224Z"
    },
    "id": "iIwKct8czRSf",
    "trusted": true
   },
   "outputs": [],
   "source": [
    "df_tydiqa.drop('id', axis=1, inplace=True)"
   ]
  },
  {
   "cell_type": "code",
   "execution_count": 8,
   "metadata": {
    "execution": {
     "iopub.execute_input": "2025-03-26T12:55:06.883522Z",
     "iopub.status.busy": "2025-03-26T12:55:06.883238Z",
     "iopub.status.idle": "2025-03-26T12:55:06.897792Z",
     "shell.execute_reply": "2025-03-26T12:55:06.897002Z",
     "shell.execute_reply.started": "2025-03-26T12:55:06.883495Z"
    },
    "id": "IIKQ7aRRzRSf",
    "outputId": "1cc32bde-586e-41c1-dba4-f1ae5ce403a7",
    "trusted": true
   },
   "outputs": [
    {
     "name": "stdout",
     "output_type": "stream",
     "text": [
      "<class 'pandas.core.frame.DataFrame'>\n",
      "RangeIndex: 921 entries, 0 to 920\n",
      "Data columns (total 4 columns):\n",
      " #   Column    Non-Null Count  Dtype \n",
      "---  ------    --------------  ----- \n",
      " 0   question  921 non-null    object\n",
      " 1   context   921 non-null    object\n",
      " 2   answers   921 non-null    object\n",
      " 3   c_id      921 non-null    int64 \n",
      "dtypes: int64(1), object(3)\n",
      "memory usage: 28.9+ KB\n"
     ]
    }
   ],
   "source": [
    "df_tydiqa.info()"
   ]
  },
  {
   "cell_type": "code",
   "execution_count": 9,
   "metadata": {
    "execution": {
     "iopub.execute_input": "2025-03-26T12:55:06.898980Z",
     "iopub.status.busy": "2025-03-26T12:55:06.898686Z",
     "iopub.status.idle": "2025-03-26T12:55:06.914178Z",
     "shell.execute_reply": "2025-03-26T12:55:06.913235Z",
     "shell.execute_reply.started": "2025-03-26T12:55:06.898952Z"
    },
    "id": "EpwwbP3KzRSg",
    "outputId": "0cd7ef52-46c4-4f16-cd4e-70ec7ec49f68",
    "trusted": true
   },
   "outputs": [
    {
     "data": {
      "text/html": [
       "<div>\n",
       "<style scoped>\n",
       "    .dataframe tbody tr th:only-of-type {\n",
       "        vertical-align: middle;\n",
       "    }\n",
       "\n",
       "    .dataframe tbody tr th {\n",
       "        vertical-align: top;\n",
       "    }\n",
       "\n",
       "    .dataframe thead th {\n",
       "        text-align: right;\n",
       "    }\n",
       "</style>\n",
       "<table border=\"1\" class=\"dataframe\">\n",
       "  <thead>\n",
       "    <tr style=\"text-align: right;\">\n",
       "      <th></th>\n",
       "      <th>question</th>\n",
       "      <th>context</th>\n",
       "      <th>answers</th>\n",
       "      <th>c_id</th>\n",
       "    </tr>\n",
       "  </thead>\n",
       "  <tbody>\n",
       "    <tr>\n",
       "      <th>0</th>\n",
       "      <td>كم عدد مرات فوز الأوروغواي ببطولة كاس العالم ل...</td>\n",
       "      <td>أقيمت البطولة 21 مرة، شارك في النهائيات 78 دول...</td>\n",
       "      <td>[{'text': 'بطولتين', 'answer_start': 394}]</td>\n",
       "      <td>0</td>\n",
       "    </tr>\n",
       "    <tr>\n",
       "      <th>1</th>\n",
       "      <td>من هو مكتشف المرو أو الكوارتز ؟</td>\n",
       "      <td>المرو أو الكوارتز  هو معدن يعود اكتشافه إلى ال...</td>\n",
       "      <td>[{'text': '(بيير كوري) وأخوه (جاك)', 'answer_s...</td>\n",
       "      <td>1</td>\n",
       "    </tr>\n",
       "    <tr>\n",
       "      <th>2</th>\n",
       "      <td>كيف يتصل الجنين بالرحم ؟</td>\n",
       "      <td>المَشِيمَة أو الخَلاَص أو السُخْد (بالإنجليزي...</td>\n",
       "      <td>[{'text': 'عن طريق الحبل السري', 'answer_start...</td>\n",
       "      <td>2</td>\n",
       "    </tr>\n",
       "    <tr>\n",
       "      <th>3</th>\n",
       "      <td>ما هي المَشِيمَة أو الخَلاَص أو السُخْد؟</td>\n",
       "      <td>المَشِيمَة أو الخَلاَص أو السُخْد (بالإنجليزي...</td>\n",
       "      <td>[{'text': 'عضو دائري مسطح الشكل يتصل بالجنين ع...</td>\n",
       "      <td>2</td>\n",
       "    </tr>\n",
       "    <tr>\n",
       "      <th>4</th>\n",
       "      <td>أين يقع مسجد السلطان عبد المجيد؟</td>\n",
       "      <td>مسجد السلطان عبد المجيد، هو مسجد أثري تاريخي ف...</td>\n",
       "      <td>[{'text': 'مدينة جبيل اللبنانية', 'answer_star...</td>\n",
       "      <td>3</td>\n",
       "    </tr>\n",
       "    <tr>\n",
       "      <th>5</th>\n",
       "      <td>ما عاصمة جورجيا؟</td>\n",
       "      <td>رغم سيطرة المسلمين على العاصمة تبليسي في 645 م...</td>\n",
       "      <td>[{'text': 'تبليسي', 'answer_start': 31}]</td>\n",
       "      <td>4</td>\n",
       "    </tr>\n",
       "    <tr>\n",
       "      <th>6</th>\n",
       "      <td>ما هي عاصمة جورجيا؟</td>\n",
       "      <td>رغم سيطرة المسلمين على العاصمة تبليسي في 645 م...</td>\n",
       "      <td>[{'text': 'تبليسي', 'answer_start': 31}]</td>\n",
       "      <td>4</td>\n",
       "    </tr>\n",
       "    <tr>\n",
       "      <th>7</th>\n",
       "      <td>ما هو عدد آيات سورة الكهف ؟</td>\n",
       "      <td>سورة الكهف هي سورةٌ مكيةٌ رقمها 18، تسبق سورة ...</td>\n",
       "      <td>[{'text': '110', 'answer_start': 110}, {'text'...</td>\n",
       "      <td>5</td>\n",
       "    </tr>\n",
       "    <tr>\n",
       "      <th>8</th>\n",
       "      <td>ما سبب وفاة لاعب كمال الأجسام ناصر السنباطي؟</td>\n",
       "      <td>توفي ناصر السنباطي يوم 20 مارس 2013 في القاهرة...</td>\n",
       "      <td>[{'text': 'أثناء نومه', 'answer_start': 84}]</td>\n",
       "      <td>6</td>\n",
       "    </tr>\n",
       "    <tr>\n",
       "      <th>9</th>\n",
       "      <td>من هو مخترع المحرك البخاري؟</td>\n",
       "      <td>مخترع المحرك البخاري هو جيمس واط (1736 – 1819م...</td>\n",
       "      <td>[{'text': 'جيمس واط', 'answer_start': 24}]</td>\n",
       "      <td>7</td>\n",
       "    </tr>\n",
       "  </tbody>\n",
       "</table>\n",
       "</div>"
      ],
      "text/plain": [
       "                                            question  \\\n",
       "0  كم عدد مرات فوز الأوروغواي ببطولة كاس العالم ل...   \n",
       "1                    من هو مكتشف المرو أو الكوارتز ؟   \n",
       "2                           كيف يتصل الجنين بالرحم ؟   \n",
       "3           ما هي المَشِيمَة أو الخَلاَص أو السُخْد؟   \n",
       "4                   أين يقع مسجد السلطان عبد المجيد؟   \n",
       "5                                   ما عاصمة جورجيا؟   \n",
       "6                                ما هي عاصمة جورجيا؟   \n",
       "7                        ما هو عدد آيات سورة الكهف ؟   \n",
       "8       ما سبب وفاة لاعب كمال الأجسام ناصر السنباطي؟   \n",
       "9                        من هو مخترع المحرك البخاري؟   \n",
       "\n",
       "                                             context  \\\n",
       "0  أقيمت البطولة 21 مرة، شارك في النهائيات 78 دول...   \n",
       "1  المرو أو الكوارتز  هو معدن يعود اكتشافه إلى ال...   \n",
       "2   المَشِيمَة أو الخَلاَص أو السُخْد (بالإنجليزي...   \n",
       "3   المَشِيمَة أو الخَلاَص أو السُخْد (بالإنجليزي...   \n",
       "4  مسجد السلطان عبد المجيد، هو مسجد أثري تاريخي ف...   \n",
       "5  رغم سيطرة المسلمين على العاصمة تبليسي في 645 م...   \n",
       "6  رغم سيطرة المسلمين على العاصمة تبليسي في 645 م...   \n",
       "7  سورة الكهف هي سورةٌ مكيةٌ رقمها 18، تسبق سورة ...   \n",
       "8  توفي ناصر السنباطي يوم 20 مارس 2013 في القاهرة...   \n",
       "9  مخترع المحرك البخاري هو جيمس واط (1736 – 1819م...   \n",
       "\n",
       "                                             answers  c_id  \n",
       "0         [{'text': 'بطولتين', 'answer_start': 394}]     0  \n",
       "1  [{'text': '(بيير كوري) وأخوه (جاك)', 'answer_s...     1  \n",
       "2  [{'text': 'عن طريق الحبل السري', 'answer_start...     2  \n",
       "3  [{'text': 'عضو دائري مسطح الشكل يتصل بالجنين ع...     2  \n",
       "4  [{'text': 'مدينة جبيل اللبنانية', 'answer_star...     3  \n",
       "5           [{'text': 'تبليسي', 'answer_start': 31}]     4  \n",
       "6           [{'text': 'تبليسي', 'answer_start': 31}]     4  \n",
       "7  [{'text': '110', 'answer_start': 110}, {'text'...     5  \n",
       "8       [{'text': 'أثناء نومه', 'answer_start': 84}]     6  \n",
       "9         [{'text': 'جيمس واط', 'answer_start': 24}]     7  "
      ]
     },
     "execution_count": 9,
     "metadata": {},
     "output_type": "execute_result"
    }
   ],
   "source": [
    "df_tydiqa.head(10)"
   ]
  },
  {
   "cell_type": "markdown",
   "metadata": {
    "id": "GiBukvvgzRSh"
   },
   "source": [
    "# Text Preprocessing"
   ]
  },
  {
   "cell_type": "markdown",
   "metadata": {
    "id": "YS61JBV0zRSi"
   },
   "source": [
    "## text cleaning functions"
   ]
  },
  {
   "cell_type": "markdown",
   "metadata": {
    "id": "2DJi0CgszRSi"
   },
   "source": [
    "### Normalization"
   ]
  },
  {
   "cell_type": "code",
   "execution_count": 10,
   "metadata": {
    "execution": {
     "iopub.execute_input": "2025-03-26T12:55:06.915438Z",
     "iopub.status.busy": "2025-03-26T12:55:06.915118Z",
     "iopub.status.idle": "2025-03-26T12:55:06.925045Z",
     "shell.execute_reply": "2025-03-26T12:55:06.924239Z",
     "shell.execute_reply.started": "2025-03-26T12:55:06.915406Z"
    },
    "id": "lvwfEAyzzRSi",
    "trusted": true
   },
   "outputs": [],
   "source": [
    "def remove_diacritics(text):\n",
    "    # remove diacritics from the text as it may confuse the model\n",
    "    return re.sub(r'[\\u0617-\\u061A\\u064B-\\u0652]', '', text)\n"
   ]
  },
  {
   "cell_type": "markdown",
   "metadata": {
    "id": "B2XSIXibzRSi"
   },
   "source": [
    "### Text cleaning"
   ]
  },
  {
   "cell_type": "code",
   "execution_count": 11,
   "metadata": {
    "execution": {
     "iopub.execute_input": "2025-03-26T12:55:06.926378Z",
     "iopub.status.busy": "2025-03-26T12:55:06.926059Z",
     "iopub.status.idle": "2025-03-26T12:55:06.943661Z",
     "shell.execute_reply": "2025-03-26T12:55:06.942412Z",
     "shell.execute_reply.started": "2025-03-26T12:55:06.926349Z"
    },
    "id": "6HtWWoT1zRSi",
    "trusted": true
   },
   "outputs": [],
   "source": [
    "def remove_non_arabic(text):\n",
    "    # Remove non-Arabic characters, keeping essential punctuation\n",
    "    text = re.sub(r'[^\\u0600-\\u06FF\\s؟]', '', text)\n",
    "    return text"
   ]
  },
  {
   "cell_type": "code",
   "execution_count": 27,
   "metadata": {
    "execution": {
     "iopub.execute_input": "2025-03-26T12:58:10.913809Z",
     "iopub.status.busy": "2025-03-26T12:58:10.913408Z",
     "iopub.status.idle": "2025-03-26T12:58:10.918165Z",
     "shell.execute_reply": "2025-03-26T12:58:10.917259Z",
     "shell.execute_reply.started": "2025-03-26T12:58:10.913779Z"
    },
    "id": "knZ3lf88zRSj",
    "trusted": true
   },
   "outputs": [],
   "source": [
    "def remove_punk(text):\n",
    "    # Remove punctuation\n",
    "    arabic_punctuation = r'[،؛…!\"#$%&\\'()*+,-./:;<=>@^_`{|}~]'\n",
    "    text = re.sub(arabic_punctuation, '', text)\n",
    "    return text"
   ]
  },
  {
   "cell_type": "code",
   "execution_count": 13,
   "metadata": {
    "execution": {
     "iopub.execute_input": "2025-03-26T12:55:06.962974Z",
     "iopub.status.busy": "2025-03-26T12:55:06.962732Z",
     "iopub.status.idle": "2025-03-26T12:55:06.974444Z",
     "shell.execute_reply": "2025-03-26T12:55:06.973539Z",
     "shell.execute_reply.started": "2025-03-26T12:55:06.962952Z"
    },
    "id": "1DhVVL0ezRSj",
    "trusted": true
   },
   "outputs": [],
   "source": [
    "def remove_extra_spaces(text):\n",
    "    # Remove extra spaces\n",
    "    text = re.sub(r'\\s+', ' ', text).strip()\n",
    "    return text"
   ]
  },
  {
   "cell_type": "code",
   "execution_count": 14,
   "metadata": {
    "execution": {
     "iopub.execute_input": "2025-03-26T12:55:06.975537Z",
     "iopub.status.busy": "2025-03-26T12:55:06.975243Z",
     "iopub.status.idle": "2025-03-26T12:55:06.988184Z",
     "shell.execute_reply": "2025-03-26T12:55:06.987330Z",
     "shell.execute_reply.started": "2025-03-26T12:55:06.975518Z"
    },
    "id": "7_yvYp3DzRSs",
    "trusted": true
   },
   "outputs": [],
   "source": [
    "def remove_alef_variations(text):\n",
    "    text = re.sub(r'[إأٱآ]', 'ا', text)\n",
    "    return text"
   ]
  },
  {
   "cell_type": "markdown",
   "metadata": {
    "id": "v1-ycDy3zRSs"
   },
   "source": [
    "### Handling numbers"
   ]
  },
  {
   "cell_type": "code",
   "execution_count": 15,
   "metadata": {
    "execution": {
     "iopub.execute_input": "2025-03-26T12:55:06.989476Z",
     "iopub.status.busy": "2025-03-26T12:55:06.989083Z",
     "iopub.status.idle": "2025-03-26T12:55:06.999961Z",
     "shell.execute_reply": "2025-03-26T12:55:06.999162Z",
     "shell.execute_reply.started": "2025-03-26T12:55:06.989427Z"
    },
    "id": "5k0FNWKpzRSs",
    "trusted": true
   },
   "outputs": [],
   "source": [
    "def handle_numbers(text, replace_with=None):\n",
    "    if replace_with:\n",
    "        text = re.sub(r'\\d+', replace_with, text)\n",
    "    else:\n",
    "        text = re.sub(r'\\d+', '', text)\n",
    "    return text"
   ]
  },
  {
   "cell_type": "markdown",
   "metadata": {
    "id": "Pdu8GuKzzRSs"
   },
   "source": [
    "## Stop word removal"
   ]
  },
  {
   "cell_type": "code",
   "execution_count": 16,
   "metadata": {
    "execution": {
     "iopub.execute_input": "2025-03-26T12:55:07.001290Z",
     "iopub.status.busy": "2025-03-26T12:55:07.000929Z",
     "iopub.status.idle": "2025-03-26T12:55:07.128532Z",
     "shell.execute_reply": "2025-03-26T12:55:07.127695Z",
     "shell.execute_reply.started": "2025-03-26T12:55:07.001247Z"
    },
    "id": "cBQJdkiBzRSs",
    "outputId": "e06f68c1-d577-4f86-f685-c9b9d7765728",
    "trusted": true
   },
   "outputs": [
    {
     "name": "stdout",
     "output_type": "stream",
     "text": [
      "[nltk_data] Downloading package stopwords to /usr/share/nltk_data...\n",
      "[nltk_data]   Unzipping corpora/stopwords.zip.\n"
     ]
    },
    {
     "data": {
      "text/plain": [
       "True"
      ]
     },
     "execution_count": 16,
     "metadata": {},
     "output_type": "execute_result"
    }
   ],
   "source": [
    "import nltk\n",
    "nltk.download('stopwords')"
   ]
  },
  {
   "cell_type": "code",
   "execution_count": 17,
   "metadata": {
    "execution": {
     "iopub.execute_input": "2025-03-26T12:55:07.129681Z",
     "iopub.status.busy": "2025-03-26T12:55:07.129417Z",
     "iopub.status.idle": "2025-03-26T12:55:07.137231Z",
     "shell.execute_reply": "2025-03-26T12:55:07.136334Z",
     "shell.execute_reply.started": "2025-03-26T12:55:07.129656Z"
    },
    "id": "cBok4gSZzRSt",
    "outputId": "206891f6-326d-48b1-ecd3-5f2d4c39dd0c",
    "trusted": true
   },
   "outputs": [
    {
     "name": "stdout",
     "output_type": "stream",
     "text": [
      "{'إى', 'تسعين', 'تسعمائة', 'أضحى', 'كن', 'حسب', 'نفس', 'والذين', 'خمسين', 'آض', 'أنتم', 'لئن', 'غداة', 'بس', 'يوليو', 'كيف', 'أما', 'إليكم', 'وا', 'إيانا', 'ثلاثين', 'يمين', 'آه', 'من', 'هذي', 'قلما', 'مه', 'ذيت', 'أصلا', 'عل', 'آب', 'مكانكما', 'غين', 'أنتن', 'أرى', 'قرش', 'خلا', 'سبعمئة', 'حار', 'ومن', 'على', 'أو', 'خمس', 'لعلَّ', 'أولالك', 'دواليك', 'درى', 'كل', 'عليك', 'لكي', 'لسن', 'آهِ', 'كلما', 'كأيّ', 'فلا', 'لكنَّ', 'خمسمائة', 'بخٍ', 'أمد', 'واحد', 'هلم', 'تسعمئة', 'تموز', 'ر', 'أعلم', 'حيثما', 'سبتمبر', 'بلى', 'آذار', 'ج', 'اللذين', 'أربعمئة', 'أم', 'كذلك', 'رزق', 'لمّا', 'مكانَك', 'لكنما', 'كذا', 'هَذا', 'سبحان', 'استحال', 'حمٌ', 'تشرين', 'مساء', 'عشرة', 'غ', 'هَاتِه', 'له', 'إلا', 'بعض', 'ثم', 'شمال', 'أى', 'ى', 'وما', 'شين', 'هلا', 'هما', 'حاشا', 'يفعلون', 'لستما', 'هاء', 'أبريل', 'فوق', 'أول', 'عدا', 'لعل', 'وَيْ', 'ياء', 'هيّا', 'إزاء', 'إذ', 'جنيه', 'تخذ', 'مازال', 'خامس', 'رويدك', 'تفعلين', 'بسّ', 'أمام', 'ألا', 'نعم', 'ئ', 'ذَيْنِ', 'ش', 'بكما', 'ل', 'الآن', 'زود', 'لاسيما', 'جعل', 'قام', 'اللاتي', 'سرا', 'غير', 'هاتي', 'راح', 'ابتدأ', 'لهن', 'أُفٍّ', 'مكانكم', 'بَسْ', 'سبعون', 'ط', 'إليكنّ', 'ف', 'يوان', 'إنما', 'بؤسا', 'يا', 'كان', 'ساء', 'ذانِ', 'زعم', 'خمسمئة', 'عجبا', 'مئتان', 'حاي', 'خال', 'هَيْهات', 'هيهات', 'خبَّر', 'فيه', 'بماذا', 'ستمئة', 'تانِ', 'ثمّ', 'قبل', 'قد', 'ثمانين', 'حيث', 'فإن', 'رابع', 'ألف', 'لك', 'إياه', 'بنا', 'تين', 'ص', 'بعد', 'اثنا', 'بخ', 'إذن', 'كرب', 'انقلب', 'ك', 'مافتئ', 'إحدى', 'عشرين', 'تاسع', 'حجا', 'صاد', 'لدى', 'تعلَّم', 'حيَّ', 'عدَّ', 'ليسا', 'قاف', 'خميس', 'أنّى', 'طفق', 'حين', 'أعطى', 'إنَّ', 'نحن', 'هللة', 'مارس', 'اللتين', 'ءَ', 'لكيلا', 'عن', 'ثلاث', 'لكما', 'بكم', 'نبَّا', 'ز', 'عشرون', 'دونك', 'لهما', 'دون', 'اثنان', 'وإذا', 'إلّا', 'لست', 'إنه', 'ين', 'تينك', 'ثان', 'بكن', 'واو', 'علًّ', 'كلاهما', 'صهْ', 'لم', 'هَؤلاء', 'مليم', 'تِي', 'إذاً', 'بات', 'وهب', 'جير', 'ذواتا', 'مايو', 'ذ', 'هذين', 'لهم', 'حمو', 'كلتا', 'ذا', 'ريث', 'آنفا', 'والذي', 'ثمان', 'سنتيم', 'لكم', 'كلَّا', 'أبٌ', 'ها', 'أفريل', 'حَذارِ', 'أين', 'ست', 'لسنا', 'دولار', 'سرعان', 'رأى', 'سحقا', 'ترك', 'هَذِه', 'عليه', 'تِه', 'كاف', 'عين', 'عسى', 'جمعة', 'ليس', 'ثمة', 'أهلا', 'مكانكنّ', 'ذهب', 'لا', 'لكن', 'فلس', 'ثاني', 'تلك', 'ثلاثمائة', 'كثيرا', 'به', 'صباح', 'تلكما', 'ديسمبر', 'سادس', 'أكتوبر', 'ّأيّان', 'ت', 'أبو', 'لبيك', 'أخٌ', 'منذ', 'الذي', 'ثاء', 'واهاً', 'لدن', 'منه', 'مثل', 'ثلاثمئة', 'طاء', 'د', 'ض', 'كيت', 'عند', 'سبعين', 'ضحوة', 'بها', 'بهما', 'كأي', 'و', 'ولا', 'خلف', 'ن', 'دال', 'ثلاثون', 'هاته', 'أغسطس', 'ما أفعله', 'شيكل', 'الألاء', 'ح', 'تانِك', 'ذانك', 'أصبح', 'ذين', 'إلَيْكَ', 'ولو', 'ذِي', 'هاهنا', 'هؤلاء', 'وإذ', 'تلكم', 'مذ', 'ذِه', 'خاء', 'أفٍّ', 'ؤ', 'إليك', 'إياهم', 'فاء', 'بل', 'سوف', 'عشر', 'حبيب', 'انبرى', 'أوشك', 'ماذا', 'ستمائة', 'هذان', 'فلان', 'تلقاء', 'أولئك', 'نيسان', 'ة', 'تَيْنِ', 'ممن', 'سوى', 'جلل', 'أوت', 'هَذانِ', 'سبعمائة', 'معاذ', 'حزيران', 'صدقا', 'جويلية', 'إياكم', 'حدَث', 'اربعون', 'حمدا', 'فيفري', 'في', 'بيد', 'اللواتي', 'س', 'ميم', 'أسكن', 'هيا', 'أنتما', 'راء', 'حاء', 'وراءَك', 'سمعا', 'تاء', 'ليسوا', 'هَاتانِ', 'تارة', 'مع', 'نَخْ', 'فمن', 'إذما', 'أربعة', 'ي', 'نوفمبر', 'هكذا', 'ثمانية', 'ثلاثة', 'مرّة', 'ب', 'بعدا', 'درهم', 'ذلك', 'نيف', 'لستن', 'هنالك', 'ثماني', 'عامة', 'تحوّل', 'أمسى', 'أيها', 'مهما', 'كيفما', 'ثمانمئة', 'كأن', 'ء', 'اللائي', 'بئس', 'خاصة', 'اربعين', 'زاي', 'دينار', 'إياك', 'رجع', 'لوما', 'لما', 'صراحة', 'كليهما', 'ذلكن', 'سابع', 'عيانا', 'صبرا', 'بهن', 'بهم', 'آي', 'ذاك', 'لو', 'ثمانون', 'هاك', 'تسع', 'اثنين', 'كلا', 'سبع', 'الألى', 'بطآن', 'مائة', 'هن', 'كانون', 'تعسا', 'أقل', 'ا', 'فو', 'مادام', 'إياكن', 'صار', 'إيه', 'إذا', 'ذال', 'بَلْهَ', 'أربع', 'إياهن', 'خمسون', 'إما', 'اللذان', 'إياي', 'إي', 'شرع', 'ذي', 'تسعة', 'ستين', 'لي', 'أطعم', 'بمن', 'عما', 'آمينَ', 'أنا', 'آهٍ', 'شبه', 'إن', 'إليكَ', 'قطّ', 'أي', 'التي', 'إياها', 'هَاتِي', 'تبدّل', 'أفعل به', 'حتى', 'أف', 'تفعلون', 'أيا', 'لا سيما', 'أبدا', 'هو', 'أربعمائة', 'عَدَسْ', 'أجل', 'هاتان', 'حقا', 'أمامك', 'بغتة', 'هاتين', 'بين', 'وهو', 'خمسة', 'كليكما', 'أنشأ', 'ثمنمئة', 'سقى', 'أخذ', 'فيما', 'وإن', 'كأيّن', 'جيم', 'نا', 'ذلكما', 'ستة', 'أولاء', 'آناء', 'كأنّ', 'أيّان', 'فبراير', 'خ', 'أيّ', 'أوّهْ', 'أمس', 'جانفي', 'علم', 'رُبَّ', 'هنا', 'ث', 'ستون', 'أقبل', 'حادي', 'كاد', 'أكثر', 'هلّا', 'فإذا', 'آ', 'هَاتَيْنِ', 'يورو', 'شتانَ', 'آهاً', 'لام', 'هيت', 'فضلا', 'نَّ', 'أيلول', 'إلى', 'كي', 'ثالث', 'ذلكم', 'ولكن', 'وُشْكَانَ', 'ليست', 'هَجْ', 'تسعون', 'جميع', 'هَذِي', 'إياهما', 'يفعلان', 'كأنما', 'أوه', 'ذات', 'ما', 'صهٍ', 'اثني', 'ع', 'بضع', 'همزة', 'علق', 'مما', 'سين', 'هذه', 'ضاد', 'هل', 'غادر', 'يناير', 'صبر', 'بي', 'إنا', 'منها', 'ذان', 'إياكما', 'م', 'ثامن', 'فيها', 'طَق', 'كسا', 'أيار', 'ليرة', 'كلّما', 'حبذا', 'ذه', 'هذا', 'بك', 'أنت', 'حرى', 'اللتيا', 'أ', 'ليستا', 'أجمع', 'ما برح', 'ماي', 'ثمّة', 'الذين', 'اتخذ', 'تفعلان', 'اللتان', 'ارتدّ', 'لها', 'ذو', 'شتان', 'لات', 'ما انفك', 'أينما', 'سبعة', 'ظنَّ', 'باء', 'بما', 'ليت', 'قاطبة', 'أربعاء', 'كم', 'لعمر', 'ظاء', 'أخو', 'جوان', 'عاد', 'فرادى', 'ثمَّ', 'تي', 'لستم', 'طرا', 'لن', 'طاق', 'ذينك', 'أخبر', 'أمّا', 'ذوا', 'ه', 'اخلولق', 'متى', 'شباط', 'غالبا', 'ألفى', 'عوض', 'هناك', 'كِخ', 'طالما', 'غدا', 'أنتِ', 'ته', 'ذواتي', 'ريال', 'فيم', 'ظلّ', 'إليكما', 'ظ', 'أحد', 'ثلاثاء', 'خلافا', 'وجد', 'هي', 'إليكن', 'هم', 'هَذَيْنِ', 'أل', 'ورد', 'هاكَ', 'أنبأ', 'أنًّ', 'نحو', 'تحت', 'كأين', 'سبت', 'أيضا', 'أمامكَ', 'يونيو', 'كى', 'هبّ', 'كما', 'تجاه', 'إمّا', 'لولا', 'أن', 'شَتَّانَ', 'ق', 'عاشر', 'لنا', 'إيهٍ', 'آها', 'أنى', 'نون', 'مئة'}\n"
     ]
    }
   ],
   "source": [
    "stop_words = set(stopwords.words('arabic'))\n",
    "print(stop_words)"
   ]
  },
  {
   "cell_type": "code",
   "execution_count": 18,
   "metadata": {
    "execution": {
     "iopub.execute_input": "2025-03-26T12:55:07.138506Z",
     "iopub.status.busy": "2025-03-26T12:55:07.138199Z",
     "iopub.status.idle": "2025-03-26T12:55:07.145932Z",
     "shell.execute_reply": "2025-03-26T12:55:07.145225Z",
     "shell.execute_reply.started": "2025-03-26T12:55:07.138486Z"
    },
    "id": "szDf_BrfzRSt",
    "trusted": true
   },
   "outputs": [],
   "source": [
    "def remove_stop_words(text):\n",
    "    words = text.split()\n",
    "    filtered_words = [word for word in words if word not in stop_words]\n",
    "    return ' '.join(filtered_words)"
   ]
  },
  {
   "cell_type": "markdown",
   "metadata": {
    "id": "tJ_STe_8zRSt"
   },
   "source": [
    "## Sentence splitting"
   ]
  },
  {
   "cell_type": "code",
   "execution_count": 19,
   "metadata": {
    "execution": {
     "iopub.execute_input": "2025-03-26T12:55:07.147068Z",
     "iopub.status.busy": "2025-03-26T12:55:07.146788Z",
     "iopub.status.idle": "2025-03-26T12:55:07.158111Z",
     "shell.execute_reply": "2025-03-26T12:55:07.157388Z",
     "shell.execute_reply.started": "2025-03-26T12:55:07.147042Z"
    },
    "id": "a0rpGyA5zRSt",
    "trusted": true
   },
   "outputs": [],
   "source": [
    "def split_sentences(text):\n",
    "    sentences = re.split(r'[؟.!؟]', text)\n",
    "    # Remove empty sentences and strip spaces\n",
    "    return [sentence.strip() for sentence in sentences if sentence.strip()]"
   ]
  },
  {
   "cell_type": "markdown",
   "metadata": {
    "id": "8yyrLkIzzRSu"
   },
   "source": [
    "## Remove additional spaces between letters"
   ]
  },
  {
   "cell_type": "code",
   "execution_count": 20,
   "metadata": {
    "execution": {
     "iopub.execute_input": "2025-03-26T12:55:07.159716Z",
     "iopub.status.busy": "2025-03-26T12:55:07.159476Z",
     "iopub.status.idle": "2025-03-26T12:55:07.171244Z",
     "shell.execute_reply": "2025-03-26T12:55:07.170349Z",
     "shell.execute_reply.started": "2025-03-26T12:55:07.159676Z"
    },
    "id": "2ZawGGL-zRSu",
    "trusted": true
   },
   "outputs": [],
   "source": [
    "def fix_arabic_spacing(text):\n",
    "    # Reconnect ا to the previous word if it is fully isolated\n",
    "    text = re.sub(r'(\\S)\\s+ا\\s+', r'\\1ا ', text)\n",
    "\n",
    "    # Reconnect أ and ي to the next word if they are fully isolated\n",
    "    text = re.sub(r'\\s+أ\\s+(\\S)', r' أ\\1', text)\n",
    "    text = re.sub(r'\\s+ي\\s+(\\S)', r' ي\\1', text)\n",
    "\n",
    "    # Normalize spaces (remove extra spaces)\n",
    "    text = remove_extra_spaces(text)\n",
    "\n",
    "    return text"
   ]
  },
  {
   "cell_type": "markdown",
   "metadata": {
    "id": "05g7z937zRSu"
   },
   "source": [
    "![image.png](attachment:image.png)"
   ]
  },
  {
   "cell_type": "markdown",
   "metadata": {
    "id": "Hkc0YuGWzRSu"
   },
   "source": [
    "# Tokenization"
   ]
  },
  {
   "cell_type": "code",
   "execution_count": 23,
   "metadata": {
    "execution": {
     "iopub.execute_input": "2025-03-26T12:55:07.197952Z",
     "iopub.status.busy": "2025-03-26T12:55:07.197700Z",
     "iopub.status.idle": "2025-03-26T12:55:10.542467Z",
     "shell.execute_reply": "2025-03-26T12:55:10.541543Z",
     "shell.execute_reply.started": "2025-03-26T12:55:07.197929Z"
    },
    "id": "MJcDbF8BzRSu",
    "outputId": "64ee8059-a8d3-48ba-f745-d58a7c6148e6",
    "trusted": true
   },
   "outputs": [
    {
     "name": "stdout",
     "output_type": "stream",
     "text": [
      "Requirement already satisfied: SentencePiece in /usr/local/lib/python3.10/dist-packages (0.2.0)\n",
      "SentencePiece version: 0.2.0\n"
     ]
    }
   ],
   "source": [
    "!pip install SentencePiece \n",
    "import sentencepiece\n",
    "print(\"SentencePiece version:\", sentencepiece.__version__)"
   ]
  },
  {
   "cell_type": "markdown",
   "metadata": {
    "id": "L4zyBZ9MzRSx"
   },
   "source": [
    "### Selected tokenizer"
   ]
  },
  {
   "cell_type": "code",
   "execution_count": 24,
   "metadata": {
    "execution": {
     "iopub.execute_input": "2025-03-26T12:55:10.543804Z",
     "iopub.status.busy": "2025-03-26T12:55:10.543489Z",
     "iopub.status.idle": "2025-03-26T12:55:11.107805Z",
     "shell.execute_reply": "2025-03-26T12:55:11.107105Z",
     "shell.execute_reply.started": "2025-03-26T12:55:10.543780Z"
    },
    "id": "yuX6yjXDzRSx",
    "trusted": true
   },
   "outputs": [
    {
     "name": "stderr",
     "output_type": "stream",
     "text": [
      "You are using the default legacy behaviour of the <class 'transformers.models.t5.tokenization_t5.T5Tokenizer'>. This is expected, and simply means that the `legacy` (previous) behavior will be used so nothing changes for you. If you want to use the new behaviour, set `legacy=False`. This should only be set if you understand what it means, and thoroughly read the reason why this was added as explained in https://github.com/huggingface/transformers/pull/24565\n"
     ]
    }
   ],
   "source": [
    "tokenizer = T5Tokenizer.from_pretrained(\"/kaggle/input/arat5-tokenizer/pytorch/default/1\")"
   ]
  },
  {
   "cell_type": "markdown",
   "metadata": {
    "id": "lE1S1d63zRSx"
   },
   "source": [
    "## Apply Functions on the text"
   ]
  },
  {
   "cell_type": "code",
   "execution_count": 25,
   "metadata": {
    "execution": {
     "iopub.execute_input": "2025-03-26T12:55:11.109065Z",
     "iopub.status.busy": "2025-03-26T12:55:11.108752Z",
     "iopub.status.idle": "2025-03-26T12:55:11.119484Z",
     "shell.execute_reply": "2025-03-26T12:55:11.118643Z",
     "shell.execute_reply.started": "2025-03-26T12:55:11.109037Z"
    },
    "id": "b7EP4RC1zRS1",
    "outputId": "eaf53849-a12e-4fc6-a0ea-e45503e0e540",
    "trusted": true
   },
   "outputs": [
    {
     "data": {
      "text/html": [
       "<div>\n",
       "<style scoped>\n",
       "    .dataframe tbody tr th:only-of-type {\n",
       "        vertical-align: middle;\n",
       "    }\n",
       "\n",
       "    .dataframe tbody tr th {\n",
       "        vertical-align: top;\n",
       "    }\n",
       "\n",
       "    .dataframe thead th {\n",
       "        text-align: right;\n",
       "    }\n",
       "</style>\n",
       "<table border=\"1\" class=\"dataframe\">\n",
       "  <thead>\n",
       "    <tr style=\"text-align: right;\">\n",
       "      <th></th>\n",
       "      <th>question</th>\n",
       "      <th>context</th>\n",
       "      <th>answers</th>\n",
       "      <th>c_id</th>\n",
       "    </tr>\n",
       "  </thead>\n",
       "  <tbody>\n",
       "    <tr>\n",
       "      <th>0</th>\n",
       "      <td>كم عدد مرات فوز الأوروغواي ببطولة كاس العالم ل...</td>\n",
       "      <td>أقيمت البطولة 21 مرة، شارك في النهائيات 78 دول...</td>\n",
       "      <td>[{'text': 'بطولتين', 'answer_start': 394}]</td>\n",
       "      <td>0</td>\n",
       "    </tr>\n",
       "    <tr>\n",
       "      <th>1</th>\n",
       "      <td>من هو مكتشف المرو أو الكوارتز ؟</td>\n",
       "      <td>المرو أو الكوارتز  هو معدن يعود اكتشافه إلى ال...</td>\n",
       "      <td>[{'text': '(بيير كوري) وأخوه (جاك)', 'answer_s...</td>\n",
       "      <td>1</td>\n",
       "    </tr>\n",
       "    <tr>\n",
       "      <th>2</th>\n",
       "      <td>كيف يتصل الجنين بالرحم ؟</td>\n",
       "      <td>المَشِيمَة أو الخَلاَص أو السُخْد (بالإنجليزي...</td>\n",
       "      <td>[{'text': 'عن طريق الحبل السري', 'answer_start...</td>\n",
       "      <td>2</td>\n",
       "    </tr>\n",
       "    <tr>\n",
       "      <th>3</th>\n",
       "      <td>ما هي المَشِيمَة أو الخَلاَص أو السُخْد؟</td>\n",
       "      <td>المَشِيمَة أو الخَلاَص أو السُخْد (بالإنجليزي...</td>\n",
       "      <td>[{'text': 'عضو دائري مسطح الشكل يتصل بالجنين ع...</td>\n",
       "      <td>2</td>\n",
       "    </tr>\n",
       "    <tr>\n",
       "      <th>4</th>\n",
       "      <td>أين يقع مسجد السلطان عبد المجيد؟</td>\n",
       "      <td>مسجد السلطان عبد المجيد، هو مسجد أثري تاريخي ف...</td>\n",
       "      <td>[{'text': 'مدينة جبيل اللبنانية', 'answer_star...</td>\n",
       "      <td>3</td>\n",
       "    </tr>\n",
       "    <tr>\n",
       "      <th>5</th>\n",
       "      <td>ما عاصمة جورجيا؟</td>\n",
       "      <td>رغم سيطرة المسلمين على العاصمة تبليسي في 645 م...</td>\n",
       "      <td>[{'text': 'تبليسي', 'answer_start': 31}]</td>\n",
       "      <td>4</td>\n",
       "    </tr>\n",
       "    <tr>\n",
       "      <th>6</th>\n",
       "      <td>ما هي عاصمة جورجيا؟</td>\n",
       "      <td>رغم سيطرة المسلمين على العاصمة تبليسي في 645 م...</td>\n",
       "      <td>[{'text': 'تبليسي', 'answer_start': 31}]</td>\n",
       "      <td>4</td>\n",
       "    </tr>\n",
       "    <tr>\n",
       "      <th>7</th>\n",
       "      <td>ما هو عدد آيات سورة الكهف ؟</td>\n",
       "      <td>سورة الكهف هي سورةٌ مكيةٌ رقمها 18، تسبق سورة ...</td>\n",
       "      <td>[{'text': '110', 'answer_start': 110}, {'text'...</td>\n",
       "      <td>5</td>\n",
       "    </tr>\n",
       "    <tr>\n",
       "      <th>8</th>\n",
       "      <td>ما سبب وفاة لاعب كمال الأجسام ناصر السنباطي؟</td>\n",
       "      <td>توفي ناصر السنباطي يوم 20 مارس 2013 في القاهرة...</td>\n",
       "      <td>[{'text': 'أثناء نومه', 'answer_start': 84}]</td>\n",
       "      <td>6</td>\n",
       "    </tr>\n",
       "    <tr>\n",
       "      <th>9</th>\n",
       "      <td>من هو مخترع المحرك البخاري؟</td>\n",
       "      <td>مخترع المحرك البخاري هو جيمس واط (1736 – 1819م...</td>\n",
       "      <td>[{'text': 'جيمس واط', 'answer_start': 24}]</td>\n",
       "      <td>7</td>\n",
       "    </tr>\n",
       "  </tbody>\n",
       "</table>\n",
       "</div>"
      ],
      "text/plain": [
       "                                            question  \\\n",
       "0  كم عدد مرات فوز الأوروغواي ببطولة كاس العالم ل...   \n",
       "1                    من هو مكتشف المرو أو الكوارتز ؟   \n",
       "2                           كيف يتصل الجنين بالرحم ؟   \n",
       "3           ما هي المَشِيمَة أو الخَلاَص أو السُخْد؟   \n",
       "4                   أين يقع مسجد السلطان عبد المجيد؟   \n",
       "5                                   ما عاصمة جورجيا؟   \n",
       "6                                ما هي عاصمة جورجيا؟   \n",
       "7                        ما هو عدد آيات سورة الكهف ؟   \n",
       "8       ما سبب وفاة لاعب كمال الأجسام ناصر السنباطي؟   \n",
       "9                        من هو مخترع المحرك البخاري؟   \n",
       "\n",
       "                                             context  \\\n",
       "0  أقيمت البطولة 21 مرة، شارك في النهائيات 78 دول...   \n",
       "1  المرو أو الكوارتز  هو معدن يعود اكتشافه إلى ال...   \n",
       "2   المَشِيمَة أو الخَلاَص أو السُخْد (بالإنجليزي...   \n",
       "3   المَشِيمَة أو الخَلاَص أو السُخْد (بالإنجليزي...   \n",
       "4  مسجد السلطان عبد المجيد، هو مسجد أثري تاريخي ف...   \n",
       "5  رغم سيطرة المسلمين على العاصمة تبليسي في 645 م...   \n",
       "6  رغم سيطرة المسلمين على العاصمة تبليسي في 645 م...   \n",
       "7  سورة الكهف هي سورةٌ مكيةٌ رقمها 18، تسبق سورة ...   \n",
       "8  توفي ناصر السنباطي يوم 20 مارس 2013 في القاهرة...   \n",
       "9  مخترع المحرك البخاري هو جيمس واط (1736 – 1819م...   \n",
       "\n",
       "                                             answers  c_id  \n",
       "0         [{'text': 'بطولتين', 'answer_start': 394}]     0  \n",
       "1  [{'text': '(بيير كوري) وأخوه (جاك)', 'answer_s...     1  \n",
       "2  [{'text': 'عن طريق الحبل السري', 'answer_start...     2  \n",
       "3  [{'text': 'عضو دائري مسطح الشكل يتصل بالجنين ع...     2  \n",
       "4  [{'text': 'مدينة جبيل اللبنانية', 'answer_star...     3  \n",
       "5           [{'text': 'تبليسي', 'answer_start': 31}]     4  \n",
       "6           [{'text': 'تبليسي', 'answer_start': 31}]     4  \n",
       "7  [{'text': '110', 'answer_start': 110}, {'text'...     5  \n",
       "8       [{'text': 'أثناء نومه', 'answer_start': 84}]     6  \n",
       "9         [{'text': 'جيمس واط', 'answer_start': 24}]     7  "
      ]
     },
     "execution_count": 25,
     "metadata": {},
     "output_type": "execute_result"
    }
   ],
   "source": [
    "df_tydiqa.head(10)\n"
   ]
  },
  {
   "cell_type": "markdown",
   "metadata": {
    "id": "jdB2edgHzRS2"
   },
   "source": [
    "### Questions column"
   ]
  },
  {
   "cell_type": "code",
   "execution_count": 35,
   "metadata": {
    "execution": {
     "iopub.execute_input": "2025-03-26T12:59:37.384375Z",
     "iopub.status.busy": "2025-03-26T12:59:37.384042Z",
     "iopub.status.idle": "2025-03-26T12:59:37.396674Z",
     "shell.execute_reply": "2025-03-26T12:59:37.395819Z",
     "shell.execute_reply.started": "2025-03-26T12:59:37.384351Z"
    },
    "id": "frak0-5vzRS2",
    "trusted": true
   },
   "outputs": [],
   "source": [
    "df_tydiqa['processed_question'] = df_tydiqa['question'].apply(remove_diacritics).apply(remove_punk).apply(remove_extra_spaces)"
   ]
  },
  {
   "cell_type": "markdown",
   "metadata": {
    "id": "4vbC_Ig-zRS3"
   },
   "source": [
    "* i tried to apply text clean function but i think it made some question not understandable"
   ]
  },
  {
   "cell_type": "code",
   "execution_count": 36,
   "metadata": {
    "execution": {
     "iopub.execute_input": "2025-03-26T12:59:38.815436Z",
     "iopub.status.busy": "2025-03-26T12:59:38.814977Z",
     "iopub.status.idle": "2025-03-26T12:59:38.822479Z",
     "shell.execute_reply": "2025-03-26T12:59:38.821721Z",
     "shell.execute_reply.started": "2025-03-26T12:59:38.815405Z"
    },
    "id": "acGTtsGLzRS3",
    "outputId": "06254c82-3f94-44b9-888a-a94f7b135423",
    "trusted": true
   },
   "outputs": [
    {
     "data": {
      "text/plain": [
       "0    كم عدد مرات فوز الأوروغواي ببطولة كاس العالم ل...\n",
       "1                      من هو مكتشف المرو أو الكوارتز ؟\n",
       "2                             كيف يتصل الجنين بالرحم ؟\n",
       "3                    ما هي المشيمة أو الخلاص أو السخد؟\n",
       "4                     أين يقع مسجد السلطان عبد المجيد؟\n",
       "5                                     ما عاصمة جورجيا؟\n",
       "6                                  ما هي عاصمة جورجيا؟\n",
       "7                          ما هو عدد آيات سورة الكهف ؟\n",
       "8         ما سبب وفاة لاعب كمال الأجسام ناصر السنباطي؟\n",
       "9                          من هو مخترع المحرك البخاري؟\n",
       "Name: processed_question, dtype: object"
      ]
     },
     "execution_count": 36,
     "metadata": {},
     "output_type": "execute_result"
    }
   ],
   "source": [
    "df_tydiqa['processed_question'].head(10)"
   ]
  },
  {
   "cell_type": "markdown",
   "metadata": {
    "id": "G-bl6M7zzRS4"
   },
   "source": [
    "### Context column"
   ]
  },
  {
   "cell_type": "code",
   "execution_count": 42,
   "metadata": {
    "execution": {
     "iopub.execute_input": "2025-03-26T13:01:40.941618Z",
     "iopub.status.busy": "2025-03-26T13:01:40.941265Z",
     "iopub.status.idle": "2025-03-26T13:01:40.987792Z",
     "shell.execute_reply": "2025-03-26T13:01:40.987211Z",
     "shell.execute_reply.started": "2025-03-26T13:01:40.941593Z"
    },
    "id": "M7ISoqJKzRS7",
    "trusted": true
   },
   "outputs": [],
   "source": [
    "# remove punctuation from words\n",
    "df_tydiqa['processed_context'] = df_tydiqa['context'].apply(remove_punk).apply(remove_diacritics).apply(remove_extra_spaces)"
   ]
  },
  {
   "cell_type": "code",
   "execution_count": 43,
   "metadata": {
    "execution": {
     "iopub.execute_input": "2025-03-26T13:01:41.437341Z",
     "iopub.status.busy": "2025-03-26T13:01:41.437001Z",
     "iopub.status.idle": "2025-03-26T13:01:41.443084Z",
     "shell.execute_reply": "2025-03-26T13:01:41.442278Z",
     "shell.execute_reply.started": "2025-03-26T13:01:41.437314Z"
    },
    "id": "oN_9iko9zRS8",
    "outputId": "78710a49-a7ad-40de-c0be-83c033004c97",
    "trusted": true
   },
   "outputs": [
    {
     "data": {
      "text/plain": [
       "'المنمنمة الفارسية هي لوحة أو صورة صغيرة الحجم إما تستخدم كتوضيح في كتاب أو تكون عملا فنيا مستقلا بذاته المنمنمات الفارسية كانت ذات تأثير مسيطر على جميع النسخ الأخرى من المنمنمات الإسلامية خصوصا المنمنمات العثمانية في تركيا والمنمنمات المغولية في الهند أصبحت المنمنمات الفارسية ذات طابع وثيق بالثقافة الإسلامية بعدما ركزت على تصوير معالم ومظاهر إسلامية أو تصوير خلفاء وقادة إسلاميون'"
      ]
     },
     "execution_count": 43,
     "metadata": {},
     "output_type": "execute_result"
    }
   ],
   "source": [
    "df_tydiqa['processed_context'][df_tydiqa['c_id'] == 543].tolist()[0]"
   ]
  },
  {
   "cell_type": "markdown",
   "metadata": {
    "id": "aDDrzoeRzRS9"
   },
   "source": [
    "### Answers column"
   ]
  },
  {
   "cell_type": "code",
   "execution_count": 44,
   "metadata": {
    "execution": {
     "iopub.execute_input": "2025-03-26T13:01:44.485469Z",
     "iopub.status.busy": "2025-03-26T13:01:44.485128Z",
     "iopub.status.idle": "2025-03-26T13:01:44.490196Z",
     "shell.execute_reply": "2025-03-26T13:01:44.489264Z",
     "shell.execute_reply.started": "2025-03-26T13:01:44.485446Z"
    },
    "id": "cEiCzFzDzRS9",
    "trusted": true
   },
   "outputs": [],
   "source": [
    "def extract_text(data):\n",
    "    if isinstance(data, str):  # If data is a string, convert it to a list\n",
    "        try:\n",
    "            data = ast.literal_eval(data)  # Convert string to actual list\n",
    "        except (SyntaxError, ValueError):\n",
    "            return None  # If conversion fails, return None\n",
    "\n",
    "    if isinstance(data, list) and data:  # Check if it's a valid non-empty list\n",
    "        first_item = data[0]  # Access the first dictionary\n",
    "        if isinstance(first_item, dict):  # Ensure it's a dictionary\n",
    "            return first_item.get('text', None)  # Get the 'text' value or None if not found\n",
    "    return None"
   ]
  },
  {
   "cell_type": "code",
   "execution_count": 45,
   "metadata": {
    "execution": {
     "iopub.execute_input": "2025-03-26T13:01:44.824964Z",
     "iopub.status.busy": "2025-03-26T13:01:44.824710Z",
     "iopub.status.idle": "2025-03-26T13:01:44.849742Z",
     "shell.execute_reply": "2025-03-26T13:01:44.848903Z",
     "shell.execute_reply.started": "2025-03-26T13:01:44.824944Z"
    },
    "id": "gJH8fXU5zRS-",
    "trusted": true
   },
   "outputs": [],
   "source": [
    "df_tydiqa['processed_answers'] = df_tydiqa['answers'].apply(extract_text)"
   ]
  },
  {
   "cell_type": "code",
   "execution_count": 46,
   "metadata": {
    "execution": {
     "iopub.execute_input": "2025-03-26T13:01:47.091387Z",
     "iopub.status.busy": "2025-03-26T13:01:47.091055Z",
     "iopub.status.idle": "2025-03-26T13:01:47.101545Z",
     "shell.execute_reply": "2025-03-26T13:01:47.100574Z",
     "shell.execute_reply.started": "2025-03-26T13:01:47.091361Z"
    },
    "id": "pgND0ui0zRS-",
    "trusted": true
   },
   "outputs": [],
   "source": [
    "df_tydiqa['processed_answers'] = df_tydiqa['processed_answers'].apply(remove_diacritics).apply(remove_extra_spaces).apply(remove_punk)"
   ]
  },
  {
   "cell_type": "code",
   "execution_count": 47,
   "metadata": {
    "execution": {
     "iopub.execute_input": "2025-03-26T13:01:48.561514Z",
     "iopub.status.busy": "2025-03-26T13:01:48.561195Z",
     "iopub.status.idle": "2025-03-26T13:01:48.571722Z",
     "shell.execute_reply": "2025-03-26T13:01:48.570863Z",
     "shell.execute_reply.started": "2025-03-26T13:01:48.561489Z"
    },
    "id": "eIruBXWKzRS-",
    "outputId": "87dd0eb4-43ad-427c-98c7-9dec65f896d3",
    "trusted": true
   },
   "outputs": [
    {
     "data": {
      "text/html": [
       "<div>\n",
       "<style scoped>\n",
       "    .dataframe tbody tr th:only-of-type {\n",
       "        vertical-align: middle;\n",
       "    }\n",
       "\n",
       "    .dataframe tbody tr th {\n",
       "        vertical-align: top;\n",
       "    }\n",
       "\n",
       "    .dataframe thead th {\n",
       "        text-align: right;\n",
       "    }\n",
       "</style>\n",
       "<table border=\"1\" class=\"dataframe\">\n",
       "  <thead>\n",
       "    <tr style=\"text-align: right;\">\n",
       "      <th></th>\n",
       "      <th>question</th>\n",
       "      <th>context</th>\n",
       "      <th>answers</th>\n",
       "      <th>c_id</th>\n",
       "      <th>processed_question</th>\n",
       "      <th>processed_context</th>\n",
       "      <th>processed_answers</th>\n",
       "    </tr>\n",
       "  </thead>\n",
       "  <tbody>\n",
       "    <tr>\n",
       "      <th>0</th>\n",
       "      <td>كم عدد مرات فوز الأوروغواي ببطولة كاس العالم ل...</td>\n",
       "      <td>أقيمت البطولة 21 مرة، شارك في النهائيات 78 دول...</td>\n",
       "      <td>[{'text': 'بطولتين', 'answer_start': 394}]</td>\n",
       "      <td>0</td>\n",
       "      <td>كم عدد مرات فوز الأوروغواي ببطولة كاس العالم ل...</td>\n",
       "      <td>أقيمت البطولة 21 مرة شارك في النهائيات 78 دولة...</td>\n",
       "      <td>بطولتين</td>\n",
       "    </tr>\n",
       "    <tr>\n",
       "      <th>1</th>\n",
       "      <td>من هو مكتشف المرو أو الكوارتز ؟</td>\n",
       "      <td>المرو أو الكوارتز  هو معدن يعود اكتشافه إلى ال...</td>\n",
       "      <td>[{'text': '(بيير كوري) وأخوه (جاك)', 'answer_s...</td>\n",
       "      <td>1</td>\n",
       "      <td>من هو مكتشف المرو أو الكوارتز ؟</td>\n",
       "      <td>المرو أو الكوارتز هو معدن يعود اكتشافه إلى الف...</td>\n",
       "      <td>بيير كوري وأخوه جاك</td>\n",
       "    </tr>\n",
       "    <tr>\n",
       "      <th>2</th>\n",
       "      <td>كيف يتصل الجنين بالرحم ؟</td>\n",
       "      <td>المَشِيمَة أو الخَلاَص أو السُخْد (بالإنجليزي...</td>\n",
       "      <td>[{'text': 'عن طريق الحبل السري', 'answer_start...</td>\n",
       "      <td>2</td>\n",
       "      <td>كيف يتصل الجنين بالرحم ؟</td>\n",
       "      <td>المشيمة أو الخلاص أو السخد بالإنجليزية Placent...</td>\n",
       "      <td>عن طريق الحبل السري</td>\n",
       "    </tr>\n",
       "    <tr>\n",
       "      <th>3</th>\n",
       "      <td>ما هي المَشِيمَة أو الخَلاَص أو السُخْد؟</td>\n",
       "      <td>المَشِيمَة أو الخَلاَص أو السُخْد (بالإنجليزي...</td>\n",
       "      <td>[{'text': 'عضو دائري مسطح الشكل يتصل بالجنين ع...</td>\n",
       "      <td>2</td>\n",
       "      <td>ما هي المشيمة أو الخلاص أو السخد؟</td>\n",
       "      <td>المشيمة أو الخلاص أو السخد بالإنجليزية Placent...</td>\n",
       "      <td>عضو دائري مسطح الشكل يتصل بالجنين عن طريق الحب...</td>\n",
       "    </tr>\n",
       "    <tr>\n",
       "      <th>4</th>\n",
       "      <td>أين يقع مسجد السلطان عبد المجيد؟</td>\n",
       "      <td>مسجد السلطان عبد المجيد، هو مسجد أثري تاريخي ف...</td>\n",
       "      <td>[{'text': 'مدينة جبيل اللبنانية', 'answer_star...</td>\n",
       "      <td>3</td>\n",
       "      <td>أين يقع مسجد السلطان عبد المجيد؟</td>\n",
       "      <td>مسجد السلطان عبد المجيد هو مسجد أثري تاريخي في...</td>\n",
       "      <td>مدينة جبيل اللبنانية</td>\n",
       "    </tr>\n",
       "  </tbody>\n",
       "</table>\n",
       "</div>"
      ],
      "text/plain": [
       "                                            question  \\\n",
       "0  كم عدد مرات فوز الأوروغواي ببطولة كاس العالم ل...   \n",
       "1                    من هو مكتشف المرو أو الكوارتز ؟   \n",
       "2                           كيف يتصل الجنين بالرحم ؟   \n",
       "3           ما هي المَشِيمَة أو الخَلاَص أو السُخْد؟   \n",
       "4                   أين يقع مسجد السلطان عبد المجيد؟   \n",
       "\n",
       "                                             context  \\\n",
       "0  أقيمت البطولة 21 مرة، شارك في النهائيات 78 دول...   \n",
       "1  المرو أو الكوارتز  هو معدن يعود اكتشافه إلى ال...   \n",
       "2   المَشِيمَة أو الخَلاَص أو السُخْد (بالإنجليزي...   \n",
       "3   المَشِيمَة أو الخَلاَص أو السُخْد (بالإنجليزي...   \n",
       "4  مسجد السلطان عبد المجيد، هو مسجد أثري تاريخي ف...   \n",
       "\n",
       "                                             answers  c_id  \\\n",
       "0         [{'text': 'بطولتين', 'answer_start': 394}]     0   \n",
       "1  [{'text': '(بيير كوري) وأخوه (جاك)', 'answer_s...     1   \n",
       "2  [{'text': 'عن طريق الحبل السري', 'answer_start...     2   \n",
       "3  [{'text': 'عضو دائري مسطح الشكل يتصل بالجنين ع...     2   \n",
       "4  [{'text': 'مدينة جبيل اللبنانية', 'answer_star...     3   \n",
       "\n",
       "                                  processed_question  \\\n",
       "0  كم عدد مرات فوز الأوروغواي ببطولة كاس العالم ل...   \n",
       "1                    من هو مكتشف المرو أو الكوارتز ؟   \n",
       "2                           كيف يتصل الجنين بالرحم ؟   \n",
       "3                  ما هي المشيمة أو الخلاص أو السخد؟   \n",
       "4                   أين يقع مسجد السلطان عبد المجيد؟   \n",
       "\n",
       "                                   processed_context  \\\n",
       "0  أقيمت البطولة 21 مرة شارك في النهائيات 78 دولة...   \n",
       "1  المرو أو الكوارتز هو معدن يعود اكتشافه إلى الف...   \n",
       "2  المشيمة أو الخلاص أو السخد بالإنجليزية Placent...   \n",
       "3  المشيمة أو الخلاص أو السخد بالإنجليزية Placent...   \n",
       "4  مسجد السلطان عبد المجيد هو مسجد أثري تاريخي في...   \n",
       "\n",
       "                                   processed_answers  \n",
       "0                                            بطولتين  \n",
       "1                                بيير كوري وأخوه جاك  \n",
       "2                                عن طريق الحبل السري  \n",
       "3  عضو دائري مسطح الشكل يتصل بالجنين عن طريق الحب...  \n",
       "4                               مدينة جبيل اللبنانية  "
      ]
     },
     "execution_count": 47,
     "metadata": {},
     "output_type": "execute_result"
    }
   ],
   "source": [
    "df_tydiqa.head()"
   ]
  },
  {
   "cell_type": "code",
   "execution_count": 48,
   "metadata": {
    "execution": {
     "iopub.execute_input": "2025-03-26T13:02:16.792784Z",
     "iopub.status.busy": "2025-03-26T13:02:16.792456Z",
     "iopub.status.idle": "2025-03-26T13:02:17.655017Z",
     "shell.execute_reply": "2025-03-26T13:02:17.654194Z",
     "shell.execute_reply.started": "2025-03-26T13:02:16.792758Z"
    },
    "trusted": true
   },
   "outputs": [],
   "source": [
    "df_tydiqa.to_excel(\"tydiqa_data_processed.xlsx\", index=False, engine=\"openpyxl\")  # Save as Excel"
   ]
  },
  {
   "cell_type": "markdown",
   "metadata": {
    "id": "R4oDrVZ2zRS_"
   },
   "source": [
    "# Prepare the data for Train"
   ]
  },
  {
   "cell_type": "markdown",
   "metadata": {},
   "source": [
    "## load data"
   ]
  },
  {
   "cell_type": "code",
   "execution_count": 10,
   "metadata": {
    "execution": {
     "iopub.execute_input": "2025-02-13T10:36:58.641975Z",
     "iopub.status.busy": "2025-02-13T10:36:58.641695Z",
     "iopub.status.idle": "2025-02-13T10:37:10.565617Z",
     "shell.execute_reply": "2025-02-13T10:37:10.564871Z",
     "shell.execute_reply.started": "2025-02-13T10:36:58.641955Z"
    },
    "trusted": true
   },
   "outputs": [],
   "source": [
    "df_tydiqa = pd.read_excel(\"/kaggle/input/arabic-squad-processed/Arabic_squad_data_processed.xlsx\")"
   ]
  },
  {
   "cell_type": "markdown",
   "metadata": {},
   "source": [
    "## tokenizer"
   ]
  },
  {
   "cell_type": "code",
   "execution_count": 49,
   "metadata": {
    "execution": {
     "iopub.execute_input": "2025-03-26T13:02:32.404574Z",
     "iopub.status.busy": "2025-03-26T13:02:32.403832Z",
     "iopub.status.idle": "2025-03-26T13:02:32.919658Z",
     "shell.execute_reply": "2025-03-26T13:02:32.918699Z",
     "shell.execute_reply.started": "2025-03-26T13:02:32.404537Z"
    },
    "trusted": true
   },
   "outputs": [],
   "source": [
    "tokenizer = T5Tokenizer.from_pretrained(\"/kaggle/input/arat5-tokenizer/pytorch/default/1\")"
   ]
  },
  {
   "cell_type": "markdown",
   "metadata": {
    "id": "CL8GKOjfzRS_"
   },
   "source": [
    "### T5 preparation"
   ]
  },
  {
   "cell_type": "code",
   "execution_count": 51,
   "metadata": {
    "execution": {
     "iopub.execute_input": "2025-03-26T13:02:50.856810Z",
     "iopub.status.busy": "2025-03-26T13:02:50.856511Z",
     "iopub.status.idle": "2025-03-26T13:02:50.862694Z",
     "shell.execute_reply": "2025-03-26T13:02:50.861874Z",
     "shell.execute_reply.started": "2025-03-26T13:02:50.856787Z"
    },
    "id": "jnCBsK1jzRTA",
    "trusted": true
   },
   "outputs": [],
   "source": [
    "def preprocess_dataset(dataset):\n",
    "    preprocessed_data = []\n",
    "    skip_counter = 0\n",
    "    answer_skiped_counter = 0\n",
    "    for example in dataset:\n",
    "        \n",
    "        # Skip empty examples\n",
    "        if not example[\"processed_context\"] or not example[\"processed_question\"] or not example[\"processed_answers\"]:\n",
    "            skip_counter += 1\n",
    "            continue\n",
    "\n",
    "        # Tokenize the input (context)\n",
    "        inputs = tokenizer(\n",
    "            example[\"processed_context\"],\n",
    "            max_length=256,\n",
    "            truncation=True,\n",
    "            padding=\"max_length\",\n",
    "        )\n",
    "\n",
    "        # # Ensure answers are not empty and get the first answer\n",
    "        # if isinstance(example[\"processed_answers\"], list) and example[\"processed_answers\"]:\n",
    "        #     answer_text = example[\"processed_answers\"][0]\n",
    "        # else:\n",
    "        #     answer_skiped_counter += 1\n",
    "        #     answer_text = \"\"\n",
    "            \n",
    "        # answer_text = example[\"processed_answers\"][0] if isinstance(example[\"processed_answers\"], list) and example[\"processed_answers\"] else \"\"\n",
    "        # answer_text = example[\"processed_answers\"]\n",
    "        # answer_text = \"\"\n",
    "        \n",
    "        # Combine question and answer for label (question generation + answer)\n",
    "        question_answer_text = example[\"processed_question\"]\n",
    "\n",
    "        # Tokenize the target (question)\n",
    "        labels = tokenizer(\n",
    "            question_answer_text,\n",
    "            max_length=128,\n",
    "            truncation=True,\n",
    "            padding=\"max_length\",\n",
    "        )\n",
    "\n",
    "        # Append preprocessed data\n",
    "        preprocessed_data.append({\n",
    "            \"input_ids\": torch.tensor(inputs[\"input_ids\"], dtype=torch.long),\n",
    "            \"attention_mask\": torch.tensor(inputs[\"attention_mask\"], dtype=torch.long),\n",
    "            \"labels\": torch.tensor(labels[\"input_ids\"], dtype=torch.long),\n",
    "        })\n",
    "        \n",
    "    print(skip_counter , \" skiped due to empty\")\n",
    "    print(answer_skiped_counter , \" answers skiped\")\n",
    "    return preprocessed_data\n"
   ]
  },
  {
   "cell_type": "markdown",
   "metadata": {
    "id": "5GJBCjZtzRTA"
   },
   "source": [
    "![image.png](attachment:image.png)\n",
    "![image-2.png](attachment:image-2.png)"
   ]
  },
  {
   "cell_type": "code",
   "execution_count": 52,
   "metadata": {
    "execution": {
     "iopub.execute_input": "2025-03-26T13:03:10.128388Z",
     "iopub.status.busy": "2025-03-26T13:03:10.128052Z",
     "iopub.status.idle": "2025-03-26T13:03:10.981718Z",
     "shell.execute_reply": "2025-03-26T13:03:10.981044Z",
     "shell.execute_reply.started": "2025-03-26T13:03:10.128362Z"
    },
    "id": "YK8N2IbVzRTA",
    "trusted": true
   },
   "outputs": [
    {
     "name": "stdout",
     "output_type": "stream",
     "text": [
      "0  skiped due to empty\n",
      "0  answers skiped\n",
      "0  skiped due to empty\n",
      "0  answers skiped\n",
      "0  skiped due to empty\n",
      "0  answers skiped\n",
      "total rows after processing  921\n"
     ]
    }
   ],
   "source": [
    "# Split by context_id to avoid data leakage\n",
    "context_ids = df_tydiqa[\"c_id\"].unique()\n",
    "train_ids, test_ids = train_test_split(context_ids, test_size=0.2, random_state=42)\n",
    "train_ids, val_ids = train_test_split(train_ids, test_size=0.1, random_state=42)\n",
    "\n",
    "# Create splits\n",
    "train_data = df_tydiqa[df_tydiqa[\"c_id\"].isin(train_ids)].to_dict(\"records\")\n",
    "val_data = df_tydiqa[df_tydiqa[\"c_id\"].isin(val_ids)].to_dict(\"records\")\n",
    "test_data = df_tydiqa[df_tydiqa[\"c_id\"].isin(test_ids)].to_dict(\"records\")\n",
    "\n",
    "# Preprocess each split\n",
    "train_processed = preprocess_dataset(train_data)\n",
    "val_processed = preprocess_dataset(val_data)\n",
    "test_processed = preprocess_dataset(test_data)\n",
    "\n",
    "\n",
    "print(\"total rows after processing \", len(train_processed) + len(val_processed) + len(test_processed))"
   ]
  },
  {
   "cell_type": "markdown",
   "metadata": {
    "id": "iNJhyWgizRTB"
   },
   "source": [
    "# Model"
   ]
  },
  {
   "cell_type": "markdown",
   "metadata": {
    "id": "5ZzdxBagzRTC"
   },
   "source": [
    "### Select a model"
   ]
  },
  {
   "cell_type": "code",
   "execution_count": 71,
   "metadata": {
    "execution": {
     "iopub.execute_input": "2025-03-26T13:55:26.140471Z",
     "iopub.status.busy": "2025-03-26T13:55:26.139958Z",
     "iopub.status.idle": "2025-03-26T13:55:30.308614Z",
     "shell.execute_reply": "2025-03-26T13:55:30.307861Z",
     "shell.execute_reply.started": "2025-03-26T13:55:26.140436Z"
    },
    "id": "untJvdq0zRTC",
    "trusted": true
   },
   "outputs": [],
   "source": [
    "model = T5ForConditionalGeneration.from_pretrained(\"/kaggle/input/arat5-local\")"
   ]
  },
  {
   "cell_type": "markdown",
   "metadata": {
    "id": "lFVvK1BPzRTD"
   },
   "source": [
    "### Change the size of the model to accept the tokens"
   ]
  },
  {
   "cell_type": "code",
   "execution_count": 72,
   "metadata": {
    "execution": {
     "iopub.execute_input": "2025-03-26T13:55:31.061205Z",
     "iopub.status.busy": "2025-03-26T13:55:31.060845Z",
     "iopub.status.idle": "2025-03-26T13:55:38.045742Z",
     "shell.execute_reply": "2025-03-26T13:55:38.044964Z",
     "shell.execute_reply.started": "2025-03-26T13:55:31.061169Z"
    },
    "id": "givsEeurzRTD",
    "outputId": "ed493daf-86a6-482c-c54e-6f1cf9f0cfcb",
    "trusted": true
   },
   "outputs": [
    {
     "name": "stdout",
     "output_type": "stream",
     "text": [
      "New model vocabulary size: 110100\n"
     ]
    }
   ],
   "source": [
    "# Resize the model's embedding layer\n",
    "model.resize_token_embeddings(len(tokenizer))\n",
    "\n",
    "# Verify the new vocabulary size\n",
    "print(\"New model vocabulary size:\", model.config.vocab_size)"
   ]
  },
  {
   "cell_type": "markdown",
   "metadata": {},
   "source": [
    "## check on data"
   ]
  },
  {
   "cell_type": "code",
   "execution_count": 73,
   "metadata": {
    "execution": {
     "iopub.execute_input": "2025-03-26T13:55:38.047326Z",
     "iopub.status.busy": "2025-03-26T13:55:38.046986Z",
     "iopub.status.idle": "2025-03-26T13:55:38.052506Z",
     "shell.execute_reply": "2025-03-26T13:55:38.051624Z",
     "shell.execute_reply.started": "2025-03-26T13:55:38.047295Z"
    },
    "id": "VoVrf3rHLmkK",
    "trusted": true
   },
   "outputs": [],
   "source": [
    "def check_tensor_dataset(dataset, name=\"Dataset\"):\n",
    "    print(f\"Checking {name} for NaN or Inf values...\")\n",
    "    for i in range(len(dataset)):\n",
    "        sample = dataset[i]  # Get one example (which is a dictionary)\n",
    "\n",
    "        for key in [\"input_ids\", \"attention_mask\", \"labels\"]:\n",
    "            if key in sample:\n",
    "                tensor = sample[key]  # Extract tensor for this key\n",
    "\n",
    "                if torch.isnan(tensor).any():\n",
    "                    print(f\"NaN found in {key} at index {i}\")\n",
    "                if torch.isinf(tensor).any():\n",
    "                    print(f\"Inf found in {key} at index {i}\")\n",
    "\n",
    "    print(f\"Check complete for {name}.\\n\")"
   ]
  },
  {
   "cell_type": "code",
   "execution_count": 74,
   "metadata": {
    "execution": {
     "iopub.execute_input": "2025-03-26T13:55:38.054407Z",
     "iopub.status.busy": "2025-03-26T13:55:38.054102Z",
     "iopub.status.idle": "2025-03-26T13:55:38.068728Z",
     "shell.execute_reply": "2025-03-26T13:55:38.068000Z",
     "shell.execute_reply.started": "2025-03-26T13:55:38.054387Z"
    },
    "id": "txeIMDrUM3yl",
    "outputId": "efdc0e08-aff5-4be6-b822-bb96e6d10305",
    "trusted": true
   },
   "outputs": [
    {
     "name": "stdout",
     "output_type": "stream",
     "text": [
      "Checking Training Dataset for NaN or Inf values...\n",
      "Check complete for Training Dataset.\n",
      "\n"
     ]
    }
   ],
   "source": [
    "check_tensor_dataset(train_data, \"Training Dataset\")"
   ]
  },
  {
   "cell_type": "code",
   "execution_count": 75,
   "metadata": {
    "execution": {
     "iopub.execute_input": "2025-03-26T13:55:38.069968Z",
     "iopub.status.busy": "2025-03-26T13:55:38.069712Z",
     "iopub.status.idle": "2025-03-26T13:55:38.081651Z",
     "shell.execute_reply": "2025-03-26T13:55:38.080826Z",
     "shell.execute_reply.started": "2025-03-26T13:55:38.069949Z"
    },
    "id": "hhMpOBkRM6AQ",
    "outputId": "26dcf35b-0115-4c5e-c1b9-c480b23a32e7",
    "trusted": true
   },
   "outputs": [
    {
     "name": "stdout",
     "output_type": "stream",
     "text": [
      "Checking Validation Dataset for NaN or Inf values...\n",
      "Check complete for Validation Dataset.\n",
      "\n"
     ]
    }
   ],
   "source": [
    "check_tensor_dataset(val_data, \"Validation Dataset\")"
   ]
  },
  {
   "cell_type": "code",
   "execution_count": 76,
   "metadata": {
    "execution": {
     "iopub.execute_input": "2025-03-26T13:55:38.082597Z",
     "iopub.status.busy": "2025-03-26T13:55:38.082410Z",
     "iopub.status.idle": "2025-03-26T13:55:38.092557Z",
     "shell.execute_reply": "2025-03-26T13:55:38.091716Z",
     "shell.execute_reply.started": "2025-03-26T13:55:38.082581Z"
    },
    "trusted": true
   },
   "outputs": [],
   "source": [
    "def compute_metrics(pred):\n",
    "    labels = pred.label_ids\n",
    "    preds = pred.predictions.argmax(axis=-1)  # Get predictions (argmax for classification)\n",
    "    acc = accuracy_score(labels, preds)  # Compute accuracy\n",
    "    return {\"accuracy\": acc}  # Return accuracy"
   ]
  },
  {
   "cell_type": "markdown",
   "metadata": {
    "id": "MYk0oS69zRTG"
   },
   "source": [
    "## Train the model"
   ]
  },
  {
   "cell_type": "code",
   "execution_count": 81,
   "metadata": {
    "execution": {
     "iopub.execute_input": "2025-03-26T14:03:26.917437Z",
     "iopub.status.busy": "2025-03-26T14:03:26.917059Z",
     "iopub.status.idle": "2025-03-26T14:36:07.458196Z",
     "shell.execute_reply": "2025-03-26T14:36:07.457295Z",
     "shell.execute_reply.started": "2025-03-26T14:03:26.917410Z"
    },
    "id": "xSsf9MR-zRTG",
    "outputId": "4f552386-f545-4609-a69e-5b6872b56367",
    "trusted": true
   },
   "outputs": [
    {
     "name": "stderr",
     "output_type": "stream",
     "text": [
      "/usr/local/lib/python3.10/dist-packages/transformers/training_args.py:1525: FutureWarning: `evaluation_strategy` is deprecated and will be removed in version 4.46 of 🤗 Transformers. Use `eval_strategy` instead\n",
      "  warnings.warn(\n"
     ]
    },
    {
     "name": "stdout",
     "output_type": "stream",
     "text": [
      "Starting training...\n"
     ]
    },
    {
     "name": "stderr",
     "output_type": "stream",
     "text": [
      "/usr/local/lib/python3.10/dist-packages/torch/nn/parallel/_functions.py:71: UserWarning: Was asked to gather along dimension 0, but all input tensors were scalars; will instead unsqueeze and return a vector.\n",
      "  warnings.warn(\n"
     ]
    },
    {
     "data": {
      "text/html": [
       "\n",
       "    <div>\n",
       "      \n",
       "      <progress value='2520' max='2520' style='width:300px; height:20px; vertical-align: middle;'></progress>\n",
       "      [2520/2520 32:38, Epoch 15/15]\n",
       "    </div>\n",
       "    <table border=\"1\" class=\"dataframe\">\n",
       "  <thead>\n",
       " <tr style=\"text-align: left;\">\n",
       "      <th>Epoch</th>\n",
       "      <th>Training Loss</th>\n",
       "      <th>Validation Loss</th>\n",
       "    </tr>\n",
       "  </thead>\n",
       "  <tbody>\n",
       "    <tr>\n",
       "      <td>1</td>\n",
       "      <td>0.182400</td>\n",
       "      <td>0.110598</td>\n",
       "    </tr>\n",
       "    <tr>\n",
       "      <td>2</td>\n",
       "      <td>0.177100</td>\n",
       "      <td>0.103264</td>\n",
       "    </tr>\n",
       "    <tr>\n",
       "      <td>3</td>\n",
       "      <td>0.102600</td>\n",
       "      <td>0.103016</td>\n",
       "    </tr>\n",
       "    <tr>\n",
       "      <td>4</td>\n",
       "      <td>0.080000</td>\n",
       "      <td>0.099261</td>\n",
       "    </tr>\n",
       "    <tr>\n",
       "      <td>5</td>\n",
       "      <td>0.104500</td>\n",
       "      <td>0.099438</td>\n",
       "    </tr>\n",
       "    <tr>\n",
       "      <td>6</td>\n",
       "      <td>0.066900</td>\n",
       "      <td>0.099612</td>\n",
       "    </tr>\n",
       "    <tr>\n",
       "      <td>7</td>\n",
       "      <td>0.061100</td>\n",
       "      <td>0.101205</td>\n",
       "    </tr>\n",
       "    <tr>\n",
       "      <td>8</td>\n",
       "      <td>0.062700</td>\n",
       "      <td>0.101873</td>\n",
       "    </tr>\n",
       "    <tr>\n",
       "      <td>9</td>\n",
       "      <td>0.061600</td>\n",
       "      <td>0.102341</td>\n",
       "    </tr>\n",
       "    <tr>\n",
       "      <td>10</td>\n",
       "      <td>0.053000</td>\n",
       "      <td>0.104181</td>\n",
       "    </tr>\n",
       "    <tr>\n",
       "      <td>11</td>\n",
       "      <td>0.038000</td>\n",
       "      <td>0.111239</td>\n",
       "    </tr>\n",
       "    <tr>\n",
       "      <td>12</td>\n",
       "      <td>0.040100</td>\n",
       "      <td>0.111386</td>\n",
       "    </tr>\n",
       "    <tr>\n",
       "      <td>13</td>\n",
       "      <td>0.042800</td>\n",
       "      <td>0.111672</td>\n",
       "    </tr>\n",
       "    <tr>\n",
       "      <td>14</td>\n",
       "      <td>0.034700</td>\n",
       "      <td>0.111527</td>\n",
       "    </tr>\n",
       "    <tr>\n",
       "      <td>15</td>\n",
       "      <td>0.036900</td>\n",
       "      <td>0.111079</td>\n",
       "    </tr>\n",
       "  </tbody>\n",
       "</table><p>"
      ],
      "text/plain": [
       "<IPython.core.display.HTML object>"
      ]
     },
     "metadata": {},
     "output_type": "display_data"
    },
    {
     "name": "stderr",
     "output_type": "stream",
     "text": [
      "/usr/local/lib/python3.10/dist-packages/torch/nn/parallel/_functions.py:71: UserWarning: Was asked to gather along dimension 0, but all input tensors were scalars; will instead unsqueeze and return a vector.\n",
      "  warnings.warn(\n",
      "/usr/local/lib/python3.10/dist-packages/torch/nn/parallel/_functions.py:71: UserWarning: Was asked to gather along dimension 0, but all input tensors were scalars; will instead unsqueeze and return a vector.\n",
      "  warnings.warn(\n",
      "/usr/local/lib/python3.10/dist-packages/torch/nn/parallel/_functions.py:71: UserWarning: Was asked to gather along dimension 0, but all input tensors were scalars; will instead unsqueeze and return a vector.\n",
      "  warnings.warn(\n",
      "/usr/local/lib/python3.10/dist-packages/torch/nn/parallel/_functions.py:71: UserWarning: Was asked to gather along dimension 0, but all input tensors were scalars; will instead unsqueeze and return a vector.\n",
      "  warnings.warn(\n",
      "/usr/local/lib/python3.10/dist-packages/torch/nn/parallel/_functions.py:71: UserWarning: Was asked to gather along dimension 0, but all input tensors were scalars; will instead unsqueeze and return a vector.\n",
      "  warnings.warn(\n",
      "/usr/local/lib/python3.10/dist-packages/torch/nn/parallel/_functions.py:71: UserWarning: Was asked to gather along dimension 0, but all input tensors were scalars; will instead unsqueeze and return a vector.\n",
      "  warnings.warn(\n",
      "/usr/local/lib/python3.10/dist-packages/torch/nn/parallel/_functions.py:71: UserWarning: Was asked to gather along dimension 0, but all input tensors were scalars; will instead unsqueeze and return a vector.\n",
      "  warnings.warn(\n",
      "/usr/local/lib/python3.10/dist-packages/torch/nn/parallel/_functions.py:71: UserWarning: Was asked to gather along dimension 0, but all input tensors were scalars; will instead unsqueeze and return a vector.\n",
      "  warnings.warn(\n",
      "/usr/local/lib/python3.10/dist-packages/torch/nn/parallel/_functions.py:71: UserWarning: Was asked to gather along dimension 0, but all input tensors were scalars; will instead unsqueeze and return a vector.\n",
      "  warnings.warn(\n",
      "/usr/local/lib/python3.10/dist-packages/torch/nn/parallel/_functions.py:71: UserWarning: Was asked to gather along dimension 0, but all input tensors were scalars; will instead unsqueeze and return a vector.\n",
      "  warnings.warn(\n",
      "/usr/local/lib/python3.10/dist-packages/torch/nn/parallel/_functions.py:71: UserWarning: Was asked to gather along dimension 0, but all input tensors were scalars; will instead unsqueeze and return a vector.\n",
      "  warnings.warn(\n",
      "/usr/local/lib/python3.10/dist-packages/torch/nn/parallel/_functions.py:71: UserWarning: Was asked to gather along dimension 0, but all input tensors were scalars; will instead unsqueeze and return a vector.\n",
      "  warnings.warn(\n",
      "/usr/local/lib/python3.10/dist-packages/torch/nn/parallel/_functions.py:71: UserWarning: Was asked to gather along dimension 0, but all input tensors were scalars; will instead unsqueeze and return a vector.\n",
      "  warnings.warn(\n",
      "/usr/local/lib/python3.10/dist-packages/torch/nn/parallel/_functions.py:71: UserWarning: Was asked to gather along dimension 0, but all input tensors were scalars; will instead unsqueeze and return a vector.\n",
      "  warnings.warn(\n",
      "/usr/local/lib/python3.10/dist-packages/torch/nn/parallel/_functions.py:71: UserWarning: Was asked to gather along dimension 0, but all input tensors were scalars; will instead unsqueeze and return a vector.\n",
      "  warnings.warn(\n"
     ]
    },
    {
     "name": "stdout",
     "output_type": "stream",
     "text": [
      "Training completed.\n"
     ]
    }
   ],
   "source": [
    "# Define training arguments\n",
    "num_train_epochs = 15\n",
    "\n",
    "training_args = TrainingArguments(\n",
    "    output_dir=\"./results\",\n",
    "    per_device_train_batch_size=2,\n",
    "    per_device_eval_batch_size=2,\n",
    "    num_train_epochs=num_train_epochs,\n",
    "    evaluation_strategy=\"epoch\",\n",
    "    save_strategy=\"epoch\",\n",
    "    logging_dir=\"./logs\",\n",
    "    logging_steps=10,\n",
    "    save_total_limit=2,\n",
    "    load_best_model_at_end=False,\n",
    "    fp16=False,\n",
    "    dataloader_num_workers=2,\n",
    "    save_safetensors=False,  # Add this line\n",
    ")\n",
    "\n",
    "# Create a Trainer instance with EarlyStoppingCallback\n",
    "trainer = Trainer(\n",
    "    model=model,\n",
    "    args=training_args,\n",
    "    train_dataset=train_processed,\n",
    "    eval_dataset=val_processed,\n",
    ")\n",
    "\n",
    "# Train the model with logging\n",
    "print(\"Starting training...\")\n",
    "trainer.train()\n",
    "print(\"Training completed.\")\n"
   ]
  },
  {
   "cell_type": "markdown",
   "metadata": {},
   "source": [
    "# Test "
   ]
  },
  {
   "cell_type": "code",
   "execution_count": 82,
   "metadata": {
    "execution": {
     "iopub.execute_input": "2025-03-26T14:36:07.459848Z",
     "iopub.status.busy": "2025-03-26T14:36:07.459592Z",
     "iopub.status.idle": "2025-03-26T14:36:08.580747Z",
     "shell.execute_reply": "2025-03-26T14:36:08.579990Z",
     "shell.execute_reply.started": "2025-03-26T14:36:07.459826Z"
    },
    "id": "ZdYbs45mzRTH",
    "trusted": true
   },
   "outputs": [
    {
     "name": "stderr",
     "output_type": "stream",
     "text": [
      "/usr/local/lib/python3.10/dist-packages/transformers/generation/configuration_utils.py:615: UserWarning: `num_beams` is set to 1. However, `early_stopping` is set to `True` -- this flag is only used in beam-based generation modes. You should set `num_beams>1` or unset `early_stopping`.\n",
      "  warnings.warn(\n"
     ]
    },
    {
     "name": "stdout",
     "output_type": "stream",
     "text": [
      "Generated Text 1-1: متى ولد ابن الهيثم ؟\n",
      "Generated Text 1-2: متى ولد العالم العربي الشهير ابن الهيثم؟\n",
      "Generated Text 1-3: متى ولد ابن الهيثم؟\n",
      "Generated Text 1-4: متى ولد العالم ابن الهيثم؟\n",
      "Generated Text 2-1: متى ولد العالم العربي ابن الهيثم؟\n",
      "Generated Text 2-2: متى ولد العالم العربي الشهير ابن الهيثم؟\n",
      "Generated Text 2-3: متى ولد العالم العربي ابن الهيثم؟\n",
      "Generated Text 2-4: متى ولد العالم العربي ابن الهيثم؟\n",
      "Generated Text 3-1: متى ولد ابن الهيثم؟\n",
      "Generated Text 3-2: متى ولد العالم العربي الشهير ابن الهيثم؟\n",
      "Generated Text 3-3: متى ولد العالم العربي ابن الهيثم؟\n",
      "Generated Text 3-4: متى ولد العالم العربي الشهير ابن الهيثم؟\n",
      "Generated Text 4-1: متى ولد العالم العربي ابن الهيثم؟\n",
      "Generated Text 4-2: متى ولد ابن الهيثم؟\n",
      "Generated Text 4-3: متى ولد ابن الهيثم؟\n",
      "Generated Text 4-4: متى ولد العالم العربي الشهير ابن الهيثم؟\n"
     ]
    }
   ],
   "source": [
    "# After training, generate predictions:\n",
    "input_context = 'ولد العالم العربي الشهير ابن الهيثم في مدينة البصرة عام 965 ميلادي. كان أحد أبرز العلماء في العصر الذهبي الإسلامي، حيث قدم مساهمات كبيرة في مجالات البصريات، والرياضيات، والهندسة، والفيزياء. يُعتبر كتابه \"المناظر\" من أهم الكتب التي أثرت في علم البصريات، حيث شرح فيه مبادئ الانعكاس والانكسار، ووضع أسس علم الضوء الحديث. بالإضافة إلى ذلك، كان لابن الهيثم دور مهم في تطوير المنهج العلمي التجريبي، إذ اعتمد على الملاحظة والتجربة لإثبات نظرياته. سافر إلى مصر بدعوة من الخليفة الفاطمي الحاكم بأمر الله، وهناك قام بدراسة سلوك الضوء في الماء والهواء.'\n",
    "\n",
    "# Tokenize the context and move to the same device as the model\n",
    "inputs = tokenizer(input_context, return_tensors=\"pt\").to(\"cuda\")\n",
    "\n",
    "for i in range(4):\n",
    "    with torch.no_grad():\n",
    "        output_ids = model.generate(\n",
    "            input_ids=inputs[\"input_ids\"],\n",
    "            attention_mask=inputs[\"attention_mask\"],\n",
    "            max_length=512,\n",
    "            do_sample=True,\n",
    "            # num_beams=1,  # Disable beam search for more diversity\n",
    "            early_stopping=True,\n",
    "            top_p=0.8,  # Lower top_p for more diversity\n",
    "            temperature=1.0,  # Higher temperature for more randomness\n",
    "            num_return_sequences=4,\n",
    "        )\n",
    "    \n",
    "    # Decode the output ids to text\n",
    "    for j, output_id in enumerate(output_ids):\n",
    "        generated_text = tokenizer.decode(output_id, skip_special_tokens=True)\n",
    "        print(f\"Generated Text {i+1}-{j+1}:\", generated_text)"
   ]
  },
  {
   "attachments": {
    "a5e5c595-7178-4668-b039-102cc5a3471b.png": {
     "image/png": "[encoded data removed]"
    }
   },
   "cell_type": "markdown",
   "metadata": {},
   "source": [
    "![image.png](attachment:a5e5c595-7178-4668-b039-102cc5a3471b.png)"
   ]
  },
  {
   "cell_type": "code",
   "execution_count": 85,
   "metadata": {
    "execution": {
     "iopub.execute_input": "2025-03-26T15:02:56.998845Z",
     "iopub.status.busy": "2025-03-26T15:02:56.998535Z",
     "iopub.status.idle": "2025-03-26T15:03:02.466298Z",
     "shell.execute_reply": "2025-03-26T15:03:02.465253Z",
     "shell.execute_reply.started": "2025-03-26T15:02:56.998822Z"
    },
    "id": "YTDC7cmSzRTI",
    "trusted": true
   },
   "outputs": [
    {
     "name": "stdout",
     "output_type": "stream",
     "text": [
      "Example 1:\n",
      "  Context (Input): مات المستشار الألماني أدولف هتلر في 30 أبريل 1945 منتحرا عن طريق تناول مادة السيانيد السامة وإطلاق النار على نفسه وهي الرواية العامة المقبولة لطريقة موت الزعيم النازي ولكن هذه الطريقة المزدوجة في الانتحار والظروف الأخرى التي أحاطت بالحادثة شجعت البعض على إطلاق الشائعات بأن هتلر لم ينتحر وأنه عاش حتى نهاية الحرب العالمية الثانية مع الاختلاف حول ما حدث لجثته وقد أكدت الوثائق السوفيتية المفرج عنها من جهازي كي جي بي وجهاز الأمن الفيدرالي الروسي سنة 1993 الرواية التي تقول بانتحاره ولكنها لم تظهر ما حدث لبقايا جثته بعد حرقها\n",
      "  Prediction: متى انتحر أدولف هتلر؟\n",
      "  Ground Truth: متى توفي هتلر؟\n",
      "------------\n",
      "Example 2:\n",
      "  Context (Input): نهر ليمبوبو أحد أكبر الأنهار في أفريقيا بعد نهر زمبيزي والتي تصب في المحيط الهندي ومصدر هذا النهر من جنوب وسط أفريقيا ويجري بصورة عامة باتجاه الشرق حتى مصبه في المحيط الهندي يبلغ طول النهر حوالي 1750 كيلومتر ومساحة حجم حوض تصريفه 415000 كيلومتر مربع ومعدل تصريفه السنوي 170 متر مكعب في الثانية 6200 قدم مكعب في الثانية [1] ويجري هذا النهر في 4 دول من منبعه حتى مصبه وهى جنوب أفريقيا و بتسوانا و زيمبابوي و موزمبيق\n",
      "  Prediction: كم يبلغ معدل تصريفه لنهر ليمبوبو ؟\n",
      "  Ground Truth: أين ينبع نهر ليمبوبو؟\n",
      "------------\n",
      "Example 3:\n",
      "  Context (Input): Coordinates منطقة الباحة هي إحدى المناطق الإدارية الثلاث عشرة التي تتكون منها المملكة العربية السعودية تقع في الجزء الغربي من شبه الجزيرة العربية على سلسلة جبال الحجاز تأسست كمنطقة إدارية في شهر ذي الحجة عام 1383 هـ وعاصمتها الإدارية مدينة الباحة احدى قرى شمال غامد وإليها تنسب المنطقة ويتركز بها الثقل الإداري والتجاري وبها توجد إمارة المنطقة وتتجمع فيها الدوائر الحكومية والمراكز التجارية الكبرى إضافة إلى أن بها أسواقا شعبية كثيرة منها سوق الخميس سوق السبت سوق الاثنين وتعتبر من أفضل مناطق المملكة في مجال السياحة جنوب غرب المملكة ويحد منطقة الباحة منطقة مكة المكرمة من الشمال والغرب والجنوب ومنطقة عسير من الشرق\n",
      "  Prediction: أين تقع منطقة الباحة؟\n",
      "  Ground Truth: أين تقع منطقة الباحة؟\n",
      "------------\n",
      "Example 4:\n",
      "  Context (Input): يعد فيسبوك أكثر مواقع التواصل الاجتماعي شعبية في العديد من الدول الناطقة باللغة الإنجليزية ومن بينها كندا[86] والمملكة المتحدة[87] وعلى الرغم من ذلك فإن عدد مستخدمي الموقع في الولايات المتحدة الأمريكية بلغ 36 مليون مستخدم فحسب مقارنة بحوالي 73 مليون مستخدم لموقع ماي سبيس[88] وقد نال الموقع العديد من الجوائز حيث كان واحدا من بين أفضل 100 موقع كلاسيكي وهي المسابقة التي نظمتها مجلة بي سي عام 2007[89] كما نال جائزة Peoples Voice Award إحدى جوائز ويبي عام 2008[90] وفي دراسة أجرتها مؤسسة ستيودنت مونيتور عام 2006 وهي شركة متخصصة في دراسة توجهات الطلبة في الجامعات تتخذ من ولاية نيوجيرسي مقرا لها وجد أن فيسبوك يحتل المرتبة الثانية في الشعبية بين طلبة الجامعات مقترنا بشراب البيرة وذلك بعد أجهزة آي بود في المرتبة الأولى[91]\n",
      "  Prediction: متى تم إطلاق موقع فيسبوك ؟\n",
      "  Ground Truth: ماهو عدد مستخدمي خدمة الفيس بوك في الولايات المتحدة ؟\n",
      "------------\n",
      "Example 5:\n",
      "  Context (Input): الغزو السوفياتي لبولندا هو عملية عسكرية سوفيتية بدأت دون إعلان رسمي في 17 سبتمبر 1939 في ذلك الصباح بعد 16 يوما من غزو ألمانيا النازية بولندا من الغرب غزا الاتحاد السوفياتي بولندا من الشرق استمر الغزو والمعركة لمدة 20 يوما متتالية وانتهى في 6 أكتوبر 1939 مع ضم كامل أراضي الجمهورية البولندية الثانية من قبل كل من ألمانيا والاتحاد السوفياتي[1] تم الاتفاق سرا على الغزو الألماني السوفياتي المشترك لبولندا في اتفاق مولوتوف ريبنتروب الموقع في 23 أغسطس 1939[2]\n",
      "  Prediction: متى بدأ الغزو السوفياتي لبولندا؟\n",
      "  Ground Truth: متى بدأت عملية الغزو السوفيتي لبولندا؟\n",
      "------------\n",
      "Example 6:\n",
      "  Context (Input): العامل الرئيسي المساهم في التكامل الاقتصادي في المنطقة مع الدنمارك كان جسر أوريسند تقريبا 10 ٪ من سكان مالمو يعملون في كوبنهاغن الدنمارك كما جامعة مالمو التي تأسست في عام 1998 وآثار الاندماج في الاتحاد الأوروبي قد أسهمت أيضا في التكامل الاقتصادي\n",
      "  Prediction: متى تأسست جامعة مالمو؟\n",
      "  Ground Truth: في أي عام تأسست جامعة مالمو؟\n",
      "------------\n",
      "Example 7:\n",
      "  Context (Input): التوازن الثرموديناميكي أو التوازن الدينامي الحراري في الفيزياء والكيمياء نصف نظام بأنه في حالة توازن ثرموديناميكي عندما يكون في حالة توازن حراري و توازن ميكانيكي حركي و توازن إشعاعي و توازن كيميائي وعندما يكون نظام في حالة توازن ثرموديناميكي فلا يحدث فيه انتقال للمادة أو انتقال للطاقة ولا يحدث فيه تطور للمادة ولا تحدث فيه قوى دافعة فالنظام الذي في حالة توازن ثرموديناميكي لا يعتريه أي تغير عندما يكون معزولا عن الوسط المحيط به\n",
      "  Prediction: ما هو التوازن الثرموديناميكي؟\n",
      "  Ground Truth: ما هو التوازن الثرموديناميكي؟\n",
      "------------\n",
      "Example 8:\n",
      "  Context (Input): البطالة الاحتكاكية وتسمى أيضا ببطالة التنقل هي نوع من أنواع البطالة المؤقتة لفترة زمنية قصيرة تحدث في الفترة الزمنية من بين التقديم على وظيفة من قبل العامل والقبول والتوظيف من قبل الشركة\n",
      "  Prediction: ما هي البطالة الاحتكاكية؟\n",
      "  Ground Truth: ما هي البطالة الإحتكاكية؟\n",
      "------------\n",
      "Example 9:\n",
      "  Context (Input): الإسماعيلية إحدى مدن القناة وهي عاصمة محافظة الإسماعيلية يبلغ تعداد سكان المدينة وضواحيها حوالي نصف مليون نسمة بنيت المدينة على الضفة الغربية من بحيرة التمساح والتي تعتبر جزءا من ممر قناة السويس تقريبا في منتصف المسافة بين بورسعيد شمالا والسويس جنوبا لكي تكون مركزا لشركة قناة السويس العالمية للملاحة في عهد الخديوى إسماعيل\n",
      "  Prediction: أين تقع مدينة الإسماعيلية؟\n",
      "  Ground Truth: اين تقع مدينة الاسماعيلية؟\n",
      "------------\n",
      "Example 10:\n",
      "  Context (Input): ولد أبو عامر محمد بن أبي حفص عبد الله بن محمد بن عبد الله بن عامر بن أبي عامر محمد بن الوليد بن يزيد بن عبد الملك المعافري[2] عام 327 هـ في الجزيرة الخضراء في بيت من أعيان تلك المدينة[3] كان أبوه عبد الله من طلاب العلم المعروفين وقد مات في رحلة عودته من الحج ودفن في طرابلس[2] أمه هي بريهة بنت يحيى بن زكرياء التميمي من أهل بيت من أشراف قرطبة يسمون ببني برطال[4] جده لأمه يحيى بن إسحاق وزير وطبيب الخليفة عبد الرحمن الناصر لدين الله[5] وجده عبد الملك المعافري كان من الداخلين للأندلس مع طارق بن زياد[4]\n",
      "  Prediction: من هو أبو عامر محمد بن الوليد بن يزيد المعافري؟\n",
      "  Ground Truth: أين ولد أبو عامر محمد بن أبي عامر؟\n",
      "------------\n",
      "Example 11:\n",
      "  Context (Input): محمد بن الحسن 21 أغسطس 1963م ملك المغرب هو الملك الثالث والعشرون لسلالة العلويين الهاشميين وتمت البيعة له ملكا يوم الجمعة 9 ربيع الآخر سنة 1420 هـ 23 يوليو 1999م إثر وفاة والده الملك الحسن الثاني وبحسب دراسة نشرت في عام 2009 وأشرف عليها باحثون ومختصون دوليون فإنه واحد من بين أكثر خمسين شخصية مسلمة تأثيرا في العالم[1]\n",
      "  Prediction: من هو محمد بن الحسن الثاني؟\n",
      "  Ground Truth: متى تولى محمد السادس الحكم في المغرب؟\n",
      "------------\n",
      "Example 12:\n",
      "  Context (Input): فلاد الثالث أمير ولاكيا 14131476 أحد أفراد عائلة دراكوليشتي التي تمثل بدورها فرع من أفرع عائلة باسراب المتشعبة والذي اشتهر بلقب دراكولا قبل أن يطلق عليه اسم فلاد المخوزق بالرومانية Vlad epe نق فلاد تيبش وبالتركية Kazkl Voyvoda نق قازيكلي ڤويڤودا وبالتركية العثمانية ڤلاددره قول[2] جلس على عرش إمارة والاكيا ثلاث مرات ودامت أطول فترات حكمه فيما بين عامي 1456 و1462 في أوج الحملات العثمانية للسيطرة على البلقان وهو واحد من أبناء عدة لفلاد الثاني دراكول العضو البارز في تنظيم التنين وهو التنظيم السري الذي أسسه الإمبراطور الروماني المقدس زيغموند بالتعاون مع باقي ملوك وأمراء أوروبا لحماية المسيحية في أوروبا الشرقية من المد العثماني\n",
      "  Prediction: من هو فلاد الثالث أمير ولاكيا؟\n",
      "  Ground Truth: ما هي أطول فترات حكم فلاد الثالث؟\n",
      "------------\n",
      "Example 13:\n",
      "  Context (Input): نانسي ديفيس ريغان ولدت آن فرانسيس روبنز في 6 يوليو 1921 6 مارس 2016 ممثلة سينمائية أمريكية وزوجة رونالد ريغان الرئيس الأربعين للولايات المتحدة الأمريكية وسيدة الولايات المتحدة الأولى لمدة ثمان سنوات من 1981 وحتى 1989\n",
      "  Prediction: في أي عام ولدت نانسي ديفيس ريغان؟\n",
      "  Ground Truth: من هي نانسي ريغان؟\n",
      "------------\n",
      "Example 14:\n",
      "  Context (Input): مملكة بوتان بالهندية هي بلد غير ساحلي في جنوب آسيا وتقع في الطرف الشرقي من جبال الهيمالايا يحدها من الجنوب والشرق والغرب جمهورية الهند وإلى الشمال جمهورية الصين الشعبية يفصل بوتان عن دولة نيبال المجاورة في الغرب ولاية سيكيم الهندية بينما يفصلها عن بنغلاديش في الجنوب ولاية البنغال الغربية ويطلق البوتانيون على بلدهم اسم دروك يول والتي تعني أرض التنين\n",
      "  Prediction: أين تقع مملكة بوتان؟\n",
      "  Ground Truth: أين تقع مملكة بوتان؟\n",
      "------------\n",
      "Example 15:\n",
      "  Context (Input): تعد أقدم الأشكال الهندسية في الفن الإسلامي تلك الأشكال الثمانية والمعينات التي بداخلها مربعات في جامع عقبة بن نافع في تونس التي ترجع إلى سنة 221 هـ836 م ومنذ ذلك الحين انتشرت في جميع أنحاء العالم الإسلامي[23] بدأت المرحلة التالية من تطوير الزخارف الهندسية الإسلامية بانتشار النجوم السداسية والثمانية بعد ظهورها في سنة 265 هـ879 م في جامع أحمد بن طولون في القاهرة فاستخدمت على نطاق واسع في العالم الإسلامي وظهرت في أبراج خراقان في بلاد فارس 459 هـ1067 م وفي مسجد الجيوشي في مصر سنة 477 هـ1085 م وفي سنة 478 هـ1086 م ظهرت زخارف الجيرة السباعية والعشارية في المسجد الجامع في أصفهان وانتشرت بعد ذلك الجيرة العشارية في العالم الإسلامي ما عدا الأندلس ثم ظهرت الجيرة ذات التسع والأحد عشر والثلاث عشر ضلع في أصفهان أيضا سنة 490 هـ1098 م ولكنها لم تستخدم خارج بلاد فارس وآسيا الوسطى إلا نادرا وفي سنة 617 هـ1220 م ظهرت الزخارف ذات الثمان والإثنا عشر ضلع في مسجد علاء الدين في قونية كما استخدمت في القصور العباسية في بغداد بعد ذلك بعشر سنوات وانتشرت بعد ذلك[23] ثم ظهرت الزخارف ذات الست عشرة ضلع في مسجد حسن صدقة بالقاهرة في سنة 715 ه\n",
      "  Prediction: متى ظهرت الزخارف الهندسية الإسلامية؟\n",
      "  Ground Truth: متى بدأت الزخارف الإسلامية؟\n",
      "------------\n",
      "Example 16:\n",
      "  Context (Input): من أشهر خريجي الجامعة سبع رؤساء للولايات المتحدة الأمريكية تخرجوا من جامعة هارفارد وهم\n",
      "  Prediction: من هم خريجو جامعة هارفرد الأمريكية؟\n",
      "  Ground Truth: كم عدد الرؤساء الأميركيين الذين تخرجوا من جامعة هارفارد؟\n",
      "------------\n",
      "Example 17:\n",
      "  Context (Input): خورخه رافائيل فيديلا التهجئات الأخرى خورخي فيديلا أو بيديلا أو جورج فيديلا 2 أغسطس 1925 مرسيدس محافظة بوينوس آيريس الأرجنتين – 17 مايو 2013 ماركوس باس محافظة بوينوس آيريس كان الحاكم العسكري المطلق للأرجنتين من 1976 إلى 1981 وصل إلى السلطة نتيجة انقلاب عسكري أطاح برئيسة الجمهورية إيزابيل بيرون 1931 1976 بعد عودة النظام الديمقراطي البرلماني تم وضع فيديلا تحت الإقامة الجبرية في منزله عاشت الأرجنتين في سنوات حكمه فترة اعتبرت بالسوداء من قبل منظمات حقوق الإنسان حيث سجن وقتل وشرد مايقارب 30000 من المعارضين له[1] وبالإضافة إلى الاضطرابات الداخلية شهدت علاقة الأرجنتين في عهده توترا مع شيلي برزت المعارضة العالمية لطريقة حكمه بوضوح أثناء كأس العالم لكرة القدم 1978 حيث امتزجت السياسة بالرياضة وكانت هناك تهديدات بالمقاطعة بسبب انتهاكات حقوق الإنسان وكان النجم الهولندي يوهان كرويف من بين أكبر هؤلاء المعارضين للنظام الحاكم في الأرجنتين الذي كان يترأسه خورخه فيديلا ورفض السفر إلى هناك بسبب الموقف السياسي هناك[2]\n",
      "  Prediction: متى عاش خورخي فيديلا؟\n",
      "  Ground Truth: من هو خورخه فيديلا؟\n",
      "------------\n",
      "Example 18:\n",
      "  Context (Input): إن البداية التي انطلقت منها الجامعة تعود إلى عام 1369 هـ حين أسست كلية الشريعة كأول صرح في التعليم العالي بمفهومه الحديث في المملكة العربية السعودية وفي عام 1372 هـ تم إنشاء معهد عال للمعلمين باسم كلية المعلمين استمرت إلى عام 1379 هـ ثم أسندت مهمة إعداد المعلمين لكلية الشريعة عام1381 هـ وسميت كلية الشريعة والتربية وفي عام 1382 هـ أنشئت كلية التربية بمكة مستقلة عن كلية الشريعة\n",
      "  Prediction: متى تأسست جامعة أم القرى؟\n",
      "  Ground Truth: متى إفتتحت جامعة أم القرى؟\n",
      "------------\n",
      "Example 19:\n",
      "  Context (Input): مهرجان كان السينمائي بالفرنسية Festival de Cannes هو أحد أهم المهرجانات السينمائية عبر العالم يرجع تأسيسه إلى سنة 1946 وهو يقام كل عام عادة في شهر مايو في مدينة كان في جنوب فرنسا يوزع المهرجان عدة جوائز أهمها جائزة السعفة الذهبية لأفضل فيلم مركز إقامته قصر المهرجانات في شارع لاكروازييت الشهير على سواحل خليج كان اللازوردية\n",
      "  Prediction: متى تأسس مهرجان كان السينمائي؟\n",
      "  Ground Truth: متى تأسس مهرجان كان السينمائي؟\n",
      "------------\n",
      "Example 20:\n",
      "  Context (Input): يظهر هذا المرض على الأغلب بين عمر 45 و 55 عام ولكن مرحلة الاصابة الفيروسية المسببة لهذا السرطان تكون قد بدأت على الأغلب بعمر بين عمر 20 حتى 30 عام العمر الوسطي لاكتشاف المرض سريريا هو 52 عامكما يمكن لهذا المرض الظهور خلال فترة الحمل وتتراوح هذه النسبة حوالي 12 امرأة من كل 10000\n",
      "  Prediction: ماهى اعراض مرض السرطان ؟\n",
      "  Ground Truth: ما هو العمرالوسطي للإصابة بمرض سرطان عنق الرحم؟\n",
      "------------\n",
      "BLEU Score: 0.6196\n"
     ]
    }
   ],
   "source": [
    "predictions = []\n",
    "true_labels = []\n",
    "contexts = []\n",
    "device = \"cuda\"\n",
    "for example in test_processed[20:40]:\n",
    "    input_ids = example[\"input_ids\"].unsqueeze(0).to(device)\n",
    "    attention_mask = example[\"attention_mask\"].unsqueeze(0).to(device)\n",
    "\n",
    "    # Decode the input context\n",
    "    context_text = tokenizer.decode(example[\"input_ids\"], skip_special_tokens=True)\n",
    "    contexts.append(context_text)\n",
    "\n",
    "    # Extract the true label (ground truth)\n",
    "    true_label_ids = example[\"labels\"]\n",
    "    true_label_text = tokenizer.decode(true_label_ids, skip_special_tokens=True)\n",
    "    true_labels.append(true_label_text)\n",
    "\n",
    "    # Generate prediction\n",
    "    with torch.no_grad():\n",
    "        output_ids = model.generate(\n",
    "            input_ids=input_ids,\n",
    "            attention_mask=attention_mask,\n",
    "            max_length=512,\n",
    "            do_sample = True,\n",
    "            # num_beams=5,\n",
    "            # length_penalty=2.0,  # Increase length preference\n",
    "            top_p = 0.9,\n",
    "            temperature = 0.7,\n",
    "            num_return_sequences = 5,\n",
    "            early_stopping=True\n",
    "        )\n",
    "\n",
    "    predicted_text = tokenizer.decode(output_ids[0], skip_special_tokens=True) # try False\n",
    "    predictions.append(predicted_text)\n",
    "\n",
    "# Print some sample results\n",
    "for i, (context, pred, true) in enumerate(zip(contexts[:], predictions[:], true_labels[:])):\n",
    "    print(f\"Example {i+1}:\")\n",
    "    print(f\"  Context (Input): {context}\")\n",
    "    print(f\"  Prediction: {pred}\")\n",
    "    print(f\"  Ground Truth: {true}\")\n",
    "    print(\"------------\")\n",
    "\n",
    "# Compute BLEU score\n",
    "bleu_scores = [sentence_bleu([true.split()], pred.split()) for true, pred in zip(true_labels, predictions)]\n",
    "average_bleu = sum(bleu_scores) / len(bleu_scores)\n",
    "\n",
    "print(f\"BLEU Score: {average_bleu:.4f}\")"
   ]
  },
  {
   "cell_type": "code",
   "execution_count": null,
   "metadata": {
    "trusted": true
   },
   "outputs": [],
   "source": []
  }
 ],
 "metadata": {
  "accelerator": "GPU",
  "colab": {
   "gpuType": "T4",
   "provenance": [],
   "toc_visible": true
  },
  "kaggle": {
   "accelerator": "nvidiaTeslaT4",
   "dataSources": [
    {
     "datasetId": 6581115,
     "sourceId": 10629051,
     "sourceType": "datasetVersion"
    },
    {
     "datasetId": 6581149,
     "sourceId": 10629099,
     "sourceType": "datasetVersion"
    },
    {
     "datasetId": 6623945,
     "sourceId": 10690581,
     "sourceType": "datasetVersion"
    },
    {
     "datasetId": 6654858,
     "sourceId": 10733306,
     "sourceType": "datasetVersion"
    },
    {
     "datasetId": 6581171,
     "sourceId": 10629140,
     "sourceType": "datasetVersion"
    },
    {
     "modelId": 237687,
     "modelInstanceId": 215966,
     "sourceId": 252593,
     "sourceType": "modelInstanceVersion"
    },
    {
     "modelId": 237695,
     "modelInstanceId": 215972,
     "sourceId": 252600,
     "sourceType": "modelInstanceVersion"
    },
    {
     "modelId": 237793,
     "modelInstanceId": 216055,
     "sourceId": 252685,
     "sourceType": "modelInstanceVersion"
    },
    {
     "modelId": 238976,
     "modelInstanceId": 217258,
     "sourceId": 254103,
     "sourceType": "modelInstanceVersion"
    },
    {
     "isSourceIdPinned": true,
     "modelId": 241314,
     "modelInstanceId": 219557,
     "sourceId": 256856,
     "sourceType": "modelInstanceVersion"
    }
   ],
   "dockerImageVersionId": 30919,
   "isGpuEnabled": true,
   "isInternetEnabled": true,
   "language": "python",
   "sourceType": "notebook"
  },
  "kernelspec": {
   "display_name": "Python 3",
   "language": "python",
   "name": "python3"
  },
  "language_info": {
   "codemirror_mode": {
    "name": "ipython",
    "version": 3
   },
   "file_extension": ".py",
   "mimetype": "text/x-python",
   "name": "python",
   "nbconvert_exporter": "python",
   "pygments_lexer": "ipython3",
   "version": "3.10.12"
  }
 },
 "nbformat": 4,
 "nbformat_minor": 4
}
